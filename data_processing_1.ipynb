{
 "cells": [
  {
   "cell_type": "code",
   "execution_count": 4,
   "metadata": {
    "collapsed": true
   },
   "outputs": [],
   "source": [
    "import numpy as np\n",
    "\n",
    "import matplotlib.pyplot as plt\n",
    "\n",
    "from tqdm import tqdm_notebook\n",
    "\n",
    "import pandas as pd\n",
    "import json\n",
    "\n",
    "import os"
   ]
  },
  {
   "cell_type": "code",
   "execution_count": 2,
   "outputs": [
    {
     "name": "stderr",
     "output_type": "stream",
     "text": [
      "/var/folders/2_/fr9h51m91pqbn92n7l11py4h0000gn/T/ipykernel_87597/414120677.py:19: TqdmDeprecationWarning: This function will be removed in tqdm==5.0.0\n",
      "Please use `tqdm.notebook.tqdm` instead of `tqdm.tqdm_notebook`\n",
      "  for i in tqdm_notebook(range(len(files))):\n"
     ]
    },
    {
     "data": {
      "text/plain": "  0%|          | 0/4151 [00:00<?, ?it/s]",
      "application/vnd.jupyter.widget-view+json": {
       "version_major": 2,
       "version_minor": 0,
       "model_id": "1efa167825234d18ab775ae596a3b704"
      }
     },
     "metadata": {},
     "output_type": "display_data"
    }
   ],
   "source": [
    "files = os.listdir(\"data/all country\")\n",
    "\n",
    "features = [\"geometry_type\",\"coordinates\",\"calculatedAt\",\"created\",\"from\",\"to\",\"parameterId\",\"qcStatus\",\"timeResolution\",\"value\",\"type\",\"ID\"]\n",
    "\n",
    "\n",
    "geometry_type = []\n",
    "coordinates = []\n",
    "calculatedAt = []\n",
    "created = []\n",
    "from_time = []\n",
    "to_time = []\n",
    "parameterId = []\n",
    "qcStatues = []\n",
    "timeResolution = []\n",
    "value = []\n",
    "type_feature = []\n",
    "ID = []\n",
    "\n",
    "for i in tqdm_notebook(range(len(files))):\n",
    "    file = open(\"data/all country/\"+files[i])\n",
    "    for line in file:\n",
    "        jsonstr = json.loads(line)\n",
    "        geometry_type.append(jsonstr[\"geometry\"][\"type\"])\n",
    "        coordinates.append(jsonstr[\"geometry\"][\"coordinates\"])\n",
    "        calculatedAt.append(jsonstr[\"properties\"][\"calculatedAt\"])\n",
    "        created.append(jsonstr[\"properties\"][\"created\"])\n",
    "        from_time.append(jsonstr[\"properties\"][\"from\"])\n",
    "        to_time.append(jsonstr[\"properties\"][\"to\"])\n",
    "        parameterId.append(jsonstr[\"properties\"][\"parameterId\"])\n",
    "        qcStatues.append(jsonstr[\"properties\"][\"qcStatus\"])\n",
    "        timeResolution.append(jsonstr[\"properties\"][\"timeResolution\"])\n",
    "        value.append(jsonstr[\"properties\"][\"value\"])\n",
    "        type_feature.append(jsonstr[\"type\"])\n",
    "        ID.append(jsonstr[\"id\"])\n",
    "\n"
   ],
   "metadata": {
    "collapsed": false,
    "pycharm": {
     "name": "#%%\n"
    }
   }
  },
  {
   "cell_type": "code",
   "execution_count": 66,
   "outputs": [],
   "source": [
    "data = pd.DataFrame(list(zip(geometry_type,coordinates,calculatedAt,created,from_time,to_time,parameterId,qcStatues,timeResolution,value,type_feature,ID)),columns=features)"
   ],
   "metadata": {
    "collapsed": false,
    "pycharm": {
     "name": "#%%\n"
    }
   }
  },
  {
   "cell_type": "code",
   "execution_count": 67,
   "outputs": [
    {
     "data": {
      "text/plain": "geometry_type      object\ncoordinates        object\ncalculatedAt       object\ncreated            object\nfrom               object\nto                 object\nparameterId        object\nqcStatus           object\ntimeResolution     object\nvalue             float64\ntype               object\nID                 object\ndtype: object"
     },
     "execution_count": 67,
     "metadata": {},
     "output_type": "execute_result"
    }
   ],
   "source": [
    "data.dtypes"
   ],
   "metadata": {
    "collapsed": false,
    "pycharm": {
     "name": "#%%\n"
    }
   }
  },
  {
   "cell_type": "code",
   "execution_count": 68,
   "outputs": [],
   "source": [
    "data.to_csv(\"country_all.csv\")"
   ],
   "metadata": {
    "collapsed": false,
    "pycharm": {
     "name": "#%%\n"
    }
   }
  },
  {
   "cell_type": "markdown",
   "source": [
    "### Stations"
   ],
   "metadata": {
    "collapsed": false
   }
  },
  {
   "cell_type": "code",
   "execution_count": 72,
   "outputs": [
    {
     "name": "stdout",
     "output_type": "stream",
     "text": [
      "{\"geometry\":{\"coordinates\":[10.3349,57.3828],\"type\":\"Point\"},\"properties\":{\"calculatedAt\":\"2020-10-15T15:03:15.395000+00:00\",\"created\":\"2022-02-24T16:28:22.315394+00:00\",\"from\":\"2020-10-13T23:00:00+00:00\",\"parameterId\":\"mean_temp\",\"qcStatus\":\"manual\",\"stationId\":\"06032\",\"timeResolution\":\"hour\",\"to\":\"2020-10-14T00:00:00+00:00\",\"validity\":true,\"value\":7.3},\"type\":\"Feature\",\"id\":\"0001c9be-f08e-54ea-488f-8b054be067bf\"}\n",
      "\n"
     ]
    }
   ],
   "source": [
    "file = open(\"data/all station/2020-10-13.txt\")\n",
    "i = 1\n",
    "for line in file:\n",
    "    if i==1:\n",
    "        print(line)\n",
    "        i=0"
   ],
   "metadata": {
    "collapsed": false,
    "pycharm": {
     "name": "#%%\n"
    }
   }
  },
  {
   "cell_type": "code",
   "execution_count": 83,
   "outputs": [],
   "source": [
    "files = os.listdir(\"data/all station\")\n",
    "\n",
    "features = [\"geometry_type\",\"coordinates\",\"calculatedAt\",\"created\",\"from\",\"to\",\"parameterId\",\"qcStatus\",\"stationId\",\"timeResolution\",\"validity\",\"value\",\"type\",\"ID\"]\n",
    "\n",
    "\n",
    "geometry_type = []\n",
    "coordinates = []\n",
    "calculatedAt = []\n",
    "created = []\n",
    "from_time = []\n",
    "to_time = []\n",
    "parameterId = []\n",
    "qcStatues = []\n",
    "stationId = []\n",
    "timeResolution = []\n",
    "validity = []\n",
    "value = []\n",
    "type_feature = []\n",
    "ID = []\n",
    "\n",
    "for i in tqdm_notebook(range(len(files))):\n",
    "    file = open(\"data/all station/\"+files[i])\n",
    "    for line in file:\n",
    "        jsonstr = json.loads(line)\n",
    "\n",
    "        if jsonstr[\"geometry\"] is None:\n",
    "            geometry_type.append(np.NaN)\n",
    "            coordinates.append(np.NaN)\n",
    "\n",
    "        else:\n",
    "            geometry_type.append(jsonstr[\"geometry\"][\"type\"])\n",
    "            coordinates.append(jsonstr[\"geometry\"][\"coordinates\"])\n",
    "        calculatedAt.append(jsonstr[\"properties\"][\"calculatedAt\"])\n",
    "        created.append(jsonstr[\"properties\"][\"created\"])\n",
    "        from_time.append(jsonstr[\"properties\"][\"from\"])\n",
    "        to_time.append(jsonstr[\"properties\"][\"to\"])\n",
    "        parameterId.append(jsonstr[\"properties\"][\"parameterId\"])\n",
    "        qcStatues.append(jsonstr[\"properties\"][\"qcStatus\"])\n",
    "        stationId.append(jsonstr[\"properties\"][\"stationId\"])\n",
    "        timeResolution.append(jsonstr[\"properties\"][\"timeResolution\"])\n",
    "        validity.append(jsonstr[\"properties\"][\"validity\"])\n",
    "        value.append(jsonstr[\"properties\"][\"value\"])\n",
    "        type_feature.append(jsonstr[\"type\"])\n",
    "        ID.append(jsonstr[\"id\"])\n"
   ],
   "metadata": {
    "collapsed": false,
    "pycharm": {
     "name": "#%%\n"
    }
   }
  },
  {
   "cell_type": "code",
   "execution_count": null,
   "outputs": [],
   "source": [
    "data = pd.DataFrame(list(zip(geometry_type,coordinates,calculatedAt,created,from_time,to_time,parameterId,qcStatues,stationId,timeResolution,validity,value,type_feature,ID)),columns=features)"
   ],
   "metadata": {
    "collapsed": false,
    "pycharm": {
     "name": "#%%\n",
     "is_executing": true
    }
   }
  },
  {
   "cell_type": "code",
   "execution_count": null,
   "outputs": [],
   "source": [
    "data.isnull().sum().sum()"
   ],
   "metadata": {
    "collapsed": false,
    "pycharm": {
     "name": "#%%\n",
     "is_executing": true
    }
   }
  },
  {
   "cell_type": "code",
   "execution_count": null,
   "outputs": [],
   "source": [
    "data.dtypes"
   ],
   "metadata": {
    "collapsed": false,
    "pycharm": {
     "name": "#%%\n",
     "is_executing": true
    }
   }
  },
  {
   "cell_type": "code",
   "execution_count": null,
   "outputs": [],
   "source": [
    "data.to_csv(\"stations_all.csv\")"
   ],
   "metadata": {
    "collapsed": false,
    "pycharm": {
     "name": "#%%\n",
     "is_executing": true
    }
   }
  },
  {
   "cell_type": "code",
   "execution_count": null,
   "outputs": [],
   "source": [],
   "metadata": {
    "collapsed": false,
    "pycharm": {
     "name": "#%%\n"
    }
   }
  }
 ],
 "metadata": {
  "kernelspec": {
   "display_name": "Python 3",
   "language": "python",
   "name": "python3"
  },
  "language_info": {
   "codemirror_mode": {
    "name": "ipython",
    "version": 2
   },
   "file_extension": ".py",
   "mimetype": "text/x-python",
   "name": "python",
   "nbconvert_exporter": "python",
   "pygments_lexer": "ipython2",
   "version": "2.7.6"
  }
 },
 "nbformat": 4,
 "nbformat_minor": 0
}