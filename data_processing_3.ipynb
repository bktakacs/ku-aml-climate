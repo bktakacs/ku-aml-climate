{
 "cells": [
  {
   "cell_type": "code",
   "execution_count": 1,
   "metadata": {
    "collapsed": true
   },
   "outputs": [],
   "source": [
    "import pandas as pd"
   ]
  },
  {
   "cell_type": "code",
   "execution_count": 2,
   "outputs": [],
   "source": [
    "df = pd.read_csv(\"stations_processed.csv\")"
   ],
   "metadata": {
    "collapsed": false,
    "pycharm": {
     "name": "#%%\n"
    }
   }
  },
  {
   "cell_type": "code",
   "execution_count": 4,
   "outputs": [],
   "source": [
    "df.drop(\"Unnamed: 0\",axis=1,inplace=True)"
   ],
   "metadata": {
    "collapsed": false,
    "pycharm": {
     "name": "#%%\n"
    }
   }
  },
  {
   "cell_type": "code",
   "execution_count": 5,
   "outputs": [
    {
     "data": {
      "text/plain": "                  coordinates                         to  \\\n0            [9.7872, 55.868]  2011-01-01T00:00:00+00:00   \n1           [12.1841, 54.879]  2011-01-01T00:00:00+00:00   \n2          [11.8605, 55.2075]  2011-01-01T00:00:00+00:00   \n3           [9.8882, 55.2444]  2011-01-01T00:00:00+00:00   \n4          [11.3879, 55.3224]  2011-01-01T00:00:00+00:00   \n...                       ...                        ...   \n90368589  [-18.6681, 76.7694]  2023-01-01T06:00:00+00:00   \n90368590  [-51.7308, 64.1833]  2023-01-01T06:00:00+00:00   \n90368591  [-57.7231, 74.0606]  2023-01-01T06:00:00+00:00   \n90368592  [-50.4058, 62.5789]  2023-01-01T06:00:00+00:00   \n90368593  [-46.0489, 60.7156]  2023-01-01T06:00:00+00:00   \n\n                   parameterId  stationId timeResolution  value  \n0                leaf_moisture       6102           hour    0.0  \n1            mean_relative_hum       6147           hour   94.8  \n2                   acc_precip       6154           hour    0.0  \n3         max_wind_speed_10min       6123           hour   11.7  \n4                mean_wind_dir       6135           hour  260.0  \n...                        ...        ...            ...    ...  \n90368589              min_temp       4320           year  -37.1  \n90368590   mean_daily_min_temp       4250           year   -9.2  \n90368591          no_cold_days       4208           year  129.0  \n90368592          no_cold_days       4253           year   44.0  \n90368593  mean_vapour_pressure       4272           year    5.2  \n\n[90368594 rows x 6 columns]",
      "text/html": "<div>\n<style scoped>\n    .dataframe tbody tr th:only-of-type {\n        vertical-align: middle;\n    }\n\n    .dataframe tbody tr th {\n        vertical-align: top;\n    }\n\n    .dataframe thead th {\n        text-align: right;\n    }\n</style>\n<table border=\"1\" class=\"dataframe\">\n  <thead>\n    <tr style=\"text-align: right;\">\n      <th></th>\n      <th>coordinates</th>\n      <th>to</th>\n      <th>parameterId</th>\n      <th>stationId</th>\n      <th>timeResolution</th>\n      <th>value</th>\n    </tr>\n  </thead>\n  <tbody>\n    <tr>\n      <th>0</th>\n      <td>[9.7872, 55.868]</td>\n      <td>2011-01-01T00:00:00+00:00</td>\n      <td>leaf_moisture</td>\n      <td>6102</td>\n      <td>hour</td>\n      <td>0.0</td>\n    </tr>\n    <tr>\n      <th>1</th>\n      <td>[12.1841, 54.879]</td>\n      <td>2011-01-01T00:00:00+00:00</td>\n      <td>mean_relative_hum</td>\n      <td>6147</td>\n      <td>hour</td>\n      <td>94.8</td>\n    </tr>\n    <tr>\n      <th>2</th>\n      <td>[11.8605, 55.2075]</td>\n      <td>2011-01-01T00:00:00+00:00</td>\n      <td>acc_precip</td>\n      <td>6154</td>\n      <td>hour</td>\n      <td>0.0</td>\n    </tr>\n    <tr>\n      <th>3</th>\n      <td>[9.8882, 55.2444]</td>\n      <td>2011-01-01T00:00:00+00:00</td>\n      <td>max_wind_speed_10min</td>\n      <td>6123</td>\n      <td>hour</td>\n      <td>11.7</td>\n    </tr>\n    <tr>\n      <th>4</th>\n      <td>[11.3879, 55.3224]</td>\n      <td>2011-01-01T00:00:00+00:00</td>\n      <td>mean_wind_dir</td>\n      <td>6135</td>\n      <td>hour</td>\n      <td>260.0</td>\n    </tr>\n    <tr>\n      <th>...</th>\n      <td>...</td>\n      <td>...</td>\n      <td>...</td>\n      <td>...</td>\n      <td>...</td>\n      <td>...</td>\n    </tr>\n    <tr>\n      <th>90368589</th>\n      <td>[-18.6681, 76.7694]</td>\n      <td>2023-01-01T06:00:00+00:00</td>\n      <td>min_temp</td>\n      <td>4320</td>\n      <td>year</td>\n      <td>-37.1</td>\n    </tr>\n    <tr>\n      <th>90368590</th>\n      <td>[-51.7308, 64.1833]</td>\n      <td>2023-01-01T06:00:00+00:00</td>\n      <td>mean_daily_min_temp</td>\n      <td>4250</td>\n      <td>year</td>\n      <td>-9.2</td>\n    </tr>\n    <tr>\n      <th>90368591</th>\n      <td>[-57.7231, 74.0606]</td>\n      <td>2023-01-01T06:00:00+00:00</td>\n      <td>no_cold_days</td>\n      <td>4208</td>\n      <td>year</td>\n      <td>129.0</td>\n    </tr>\n    <tr>\n      <th>90368592</th>\n      <td>[-50.4058, 62.5789]</td>\n      <td>2023-01-01T06:00:00+00:00</td>\n      <td>no_cold_days</td>\n      <td>4253</td>\n      <td>year</td>\n      <td>44.0</td>\n    </tr>\n    <tr>\n      <th>90368593</th>\n      <td>[-46.0489, 60.7156]</td>\n      <td>2023-01-01T06:00:00+00:00</td>\n      <td>mean_vapour_pressure</td>\n      <td>4272</td>\n      <td>year</td>\n      <td>5.2</td>\n    </tr>\n  </tbody>\n</table>\n<p>90368594 rows × 6 columns</p>\n</div>"
     },
     "execution_count": 5,
     "metadata": {},
     "output_type": "execute_result"
    }
   ],
   "source": [
    "df"
   ],
   "metadata": {
    "collapsed": false,
    "pycharm": {
     "name": "#%%\n"
    }
   }
  },
  {
   "cell_type": "code",
   "execution_count": 6,
   "outputs": [],
   "source": [
    "df.sort_values(by=[\"to\",\"coordinates\",\"parameterId\"],inplace=True)"
   ],
   "metadata": {
    "collapsed": false,
    "pycharm": {
     "name": "#%%\n"
    }
   }
  },
  {
   "cell_type": "code",
   "execution_count": 7,
   "outputs": [],
   "source": [
    "df.reset_index(drop=True,inplace=True)"
   ],
   "metadata": {
    "collapsed": false,
    "pycharm": {
     "name": "#%%\n"
    }
   }
  },
  {
   "cell_type": "code",
   "execution_count": 8,
   "outputs": [
    {
     "data": {
      "text/plain": "           coordinates                         to           parameterId  \\\n0   [10.0929, 56.5604]  2011-01-01T00:00:00+00:00       max_temp_w_date   \n1   [10.0929, 56.5604]  2011-01-01T00:00:00+00:00  max_wind_speed_10min   \n2   [10.0929, 56.5604]  2011-01-01T00:00:00+00:00   max_wind_speed_3sec   \n3   [10.0929, 56.5604]  2011-01-01T00:00:00+00:00         mean_pressure   \n4   [10.0929, 56.5604]  2011-01-01T00:00:00+00:00     mean_relative_hum   \n..                 ...                        ...                   ...   \n95  [10.5693, 55.0144]  2011-01-01T00:00:00+00:00       max_temp_w_date   \n96  [10.5693, 55.0144]  2011-01-01T00:00:00+00:00  max_wind_speed_10min   \n97  [10.5693, 55.0144]  2011-01-01T00:00:00+00:00   max_wind_speed_3sec   \n98  [10.5693, 55.0144]  2011-01-01T00:00:00+00:00         mean_pressure   \n99  [10.5693, 55.0144]  2011-01-01T00:00:00+00:00     mean_relative_hum   \n\n    stationId timeResolution   value  \n0        6049           hour     4.0  \n1        6049           hour    18.7  \n2        6049           hour    27.4  \n3        6049           hour  1001.3  \n4        6049           hour    89.2  \n..        ...            ...     ...  \n95       6124           hour     3.1  \n96       6124           hour    11.4  \n97       6124           hour    17.3  \n98       6124           hour  1008.7  \n99       6124           hour    93.5  \n\n[100 rows x 6 columns]",
      "text/html": "<div>\n<style scoped>\n    .dataframe tbody tr th:only-of-type {\n        vertical-align: middle;\n    }\n\n    .dataframe tbody tr th {\n        vertical-align: top;\n    }\n\n    .dataframe thead th {\n        text-align: right;\n    }\n</style>\n<table border=\"1\" class=\"dataframe\">\n  <thead>\n    <tr style=\"text-align: right;\">\n      <th></th>\n      <th>coordinates</th>\n      <th>to</th>\n      <th>parameterId</th>\n      <th>stationId</th>\n      <th>timeResolution</th>\n      <th>value</th>\n    </tr>\n  </thead>\n  <tbody>\n    <tr>\n      <th>0</th>\n      <td>[10.0929, 56.5604]</td>\n      <td>2011-01-01T00:00:00+00:00</td>\n      <td>max_temp_w_date</td>\n      <td>6049</td>\n      <td>hour</td>\n      <td>4.0</td>\n    </tr>\n    <tr>\n      <th>1</th>\n      <td>[10.0929, 56.5604]</td>\n      <td>2011-01-01T00:00:00+00:00</td>\n      <td>max_wind_speed_10min</td>\n      <td>6049</td>\n      <td>hour</td>\n      <td>18.7</td>\n    </tr>\n    <tr>\n      <th>2</th>\n      <td>[10.0929, 56.5604]</td>\n      <td>2011-01-01T00:00:00+00:00</td>\n      <td>max_wind_speed_3sec</td>\n      <td>6049</td>\n      <td>hour</td>\n      <td>27.4</td>\n    </tr>\n    <tr>\n      <th>3</th>\n      <td>[10.0929, 56.5604]</td>\n      <td>2011-01-01T00:00:00+00:00</td>\n      <td>mean_pressure</td>\n      <td>6049</td>\n      <td>hour</td>\n      <td>1001.3</td>\n    </tr>\n    <tr>\n      <th>4</th>\n      <td>[10.0929, 56.5604]</td>\n      <td>2011-01-01T00:00:00+00:00</td>\n      <td>mean_relative_hum</td>\n      <td>6049</td>\n      <td>hour</td>\n      <td>89.2</td>\n    </tr>\n    <tr>\n      <th>...</th>\n      <td>...</td>\n      <td>...</td>\n      <td>...</td>\n      <td>...</td>\n      <td>...</td>\n      <td>...</td>\n    </tr>\n    <tr>\n      <th>95</th>\n      <td>[10.5693, 55.0144]</td>\n      <td>2011-01-01T00:00:00+00:00</td>\n      <td>max_temp_w_date</td>\n      <td>6124</td>\n      <td>hour</td>\n      <td>3.1</td>\n    </tr>\n    <tr>\n      <th>96</th>\n      <td>[10.5693, 55.0144]</td>\n      <td>2011-01-01T00:00:00+00:00</td>\n      <td>max_wind_speed_10min</td>\n      <td>6124</td>\n      <td>hour</td>\n      <td>11.4</td>\n    </tr>\n    <tr>\n      <th>97</th>\n      <td>[10.5693, 55.0144]</td>\n      <td>2011-01-01T00:00:00+00:00</td>\n      <td>max_wind_speed_3sec</td>\n      <td>6124</td>\n      <td>hour</td>\n      <td>17.3</td>\n    </tr>\n    <tr>\n      <th>98</th>\n      <td>[10.5693, 55.0144]</td>\n      <td>2011-01-01T00:00:00+00:00</td>\n      <td>mean_pressure</td>\n      <td>6124</td>\n      <td>hour</td>\n      <td>1008.7</td>\n    </tr>\n    <tr>\n      <th>99</th>\n      <td>[10.5693, 55.0144]</td>\n      <td>2011-01-01T00:00:00+00:00</td>\n      <td>mean_relative_hum</td>\n      <td>6124</td>\n      <td>hour</td>\n      <td>93.5</td>\n    </tr>\n  </tbody>\n</table>\n<p>100 rows × 6 columns</p>\n</div>"
     },
     "execution_count": 8,
     "metadata": {},
     "output_type": "execute_result"
    }
   ],
   "source": [
    "df.head(100)"
   ],
   "metadata": {
    "collapsed": false,
    "pycharm": {
     "name": "#%%\n"
    }
   }
  },
  {
   "cell_type": "code",
   "execution_count": 9,
   "outputs": [
    {
     "data": {
      "text/plain": "                  coordinates                         to  \\\n90368544  [-57.7231, 74.0606]  2023-01-01T06:00:00+00:00   \n90368545  [-57.7231, 74.0606]  2023-01-01T06:00:00+00:00   \n90368546  [-57.7231, 74.0606]  2023-01-01T06:00:00+00:00   \n90368547  [-57.7231, 74.0606]  2023-01-01T06:00:00+00:00   \n90368548  [-57.7231, 74.0606]  2023-01-01T06:00:00+00:00   \n90368549  [-57.7231, 74.0606]  2023-01-01T06:00:00+00:00   \n90368550  [-57.7231, 74.0606]  2023-01-01T06:00:00+00:00   \n90368551  [-57.7231, 74.0606]  2023-01-01T06:00:00+00:00   \n90368552  [-57.7231, 74.0606]  2023-01-01T06:00:00+00:00   \n90368553  [-57.7231, 74.0606]  2023-01-01T06:00:00+00:00   \n90368554  [-57.7231, 74.0606]  2023-01-01T06:00:00+00:00   \n90368555  [-57.7231, 74.0606]  2023-01-01T06:00:00+00:00   \n90368556  [-57.7231, 74.0606]  2023-01-01T06:00:00+00:00   \n90368557  [-57.7231, 74.0606]  2023-01-01T06:00:00+00:00   \n90368558  [-57.7231, 74.0606]  2023-01-01T06:00:00+00:00   \n90368559  [-57.7231, 74.0606]  2023-01-01T06:00:00+00:00   \n90368560  [-57.7231, 74.0606]  2023-01-01T06:00:00+00:00   \n90368561  [-57.7231, 74.0606]  2023-01-01T06:00:00+00:00   \n90368562  [-57.7231, 74.0606]  2023-01-01T06:00:00+00:00   \n90368563  [-57.7231, 74.0606]  2023-01-01T06:00:00+00:00   \n90368564  [-57.7231, 74.0606]  2023-01-01T06:00:00+00:00   \n90368565  [-57.7231, 74.0606]  2023-01-01T06:00:00+00:00   \n90368566  [-57.7231, 74.0606]  2023-01-01T06:00:00+00:00   \n90368567  [-57.7231, 74.0606]  2023-01-01T06:00:00+00:00   \n90368568  [-57.7231, 74.0606]  2023-01-01T06:00:00+00:00   \n90368569  [-73.1208, 76.7333]  2023-01-01T06:00:00+00:00   \n90368570  [-73.1208, 76.7333]  2023-01-01T06:00:00+00:00   \n90368571  [-73.1208, 76.7333]  2023-01-01T06:00:00+00:00   \n90368572  [-73.1208, 76.7333]  2023-01-01T06:00:00+00:00   \n90368573  [-73.1208, 76.7333]  2023-01-01T06:00:00+00:00   \n90368574  [-73.1208, 76.7333]  2023-01-01T06:00:00+00:00   \n90368575  [-73.1208, 76.7333]  2023-01-01T06:00:00+00:00   \n90368576  [-73.1208, 76.7333]  2023-01-01T06:00:00+00:00   \n90368577  [-73.1208, 76.7333]  2023-01-01T06:00:00+00:00   \n90368578  [-73.1208, 76.7333]  2023-01-01T06:00:00+00:00   \n90368579  [-73.1208, 76.7333]  2023-01-01T06:00:00+00:00   \n90368580  [-73.1208, 76.7333]  2023-01-01T06:00:00+00:00   \n90368581  [-73.1208, 76.7333]  2023-01-01T06:00:00+00:00   \n90368582  [-73.1208, 76.7333]  2023-01-01T06:00:00+00:00   \n90368583  [-73.1208, 76.7333]  2023-01-01T06:00:00+00:00   \n90368584  [-73.1208, 76.7333]  2023-01-01T06:00:00+00:00   \n90368585  [-73.1208, 76.7333]  2023-01-01T06:00:00+00:00   \n90368586  [-73.1208, 76.7333]  2023-01-01T06:00:00+00:00   \n90368587  [-73.1208, 76.7333]  2023-01-01T06:00:00+00:00   \n90368588  [-73.1208, 76.7333]  2023-01-01T06:00:00+00:00   \n90368589  [-73.1208, 76.7333]  2023-01-01T06:00:00+00:00   \n90368590  [-73.1208, 76.7333]  2023-01-01T06:00:00+00:00   \n90368591  [-73.1208, 76.7333]  2023-01-01T06:00:00+00:00   \n90368592  [-73.1208, 76.7333]  2023-01-01T06:00:00+00:00   \n90368593  [-73.1208, 76.7333]  2023-01-01T06:00:00+00:00   \n\n                         parameterId  stationId timeResolution   value  \n90368544  acc_heating_degree_days_19       4208           year  4601.9  \n90368545                max_pressure       4208           year  1039.1  \n90368546            max_relative_hum       4208           year    97.0  \n90368547             max_temp_w_date       4208           year     0.0  \n90368548        max_wind_speed_10min       4208           year    23.2  \n90368549         max_wind_speed_3sec       4208           year    30.4  \n90368550         mean_daily_max_temp       4208           year   -13.3  \n90368551         mean_daily_min_temp       4208           year   -18.6  \n90368552               mean_pressure       4208           year  1006.9  \n90368553           mean_relative_hum       4208           year    78.7  \n90368554                   mean_temp       4208           year   -15.9  \n90368555        mean_vapour_pressure       4208           year     1.3  \n90368556               mean_wind_dir       4208           year    24.0  \n90368557             mean_wind_speed       4208           year     5.9  \n90368558                min_pressure       4208           year   949.9  \n90368559            min_relative_hum       4208           year    37.0  \n90368560                    min_temp       4208           year   -27.6  \n90368561                no_cold_days       4208           year   129.0  \n90368562         no_days_w_hurricane       4208           year     0.0  \n90368563             no_days_w_storm       4208           year     0.0  \n90368564               no_frost_days       4208           year   132.0  \n90368565                 no_ice_days       4208           year   131.0  \n90368566              no_stormy_days       4208           year     2.0  \n90368567              no_summer_days       4208           year     0.0  \n90368568               no_windy_days       4208           year    39.0  \n90368569  acc_heating_degree_days_19       4203           year  4430.6  \n90368570                max_pressure       4203           year  1041.2  \n90368571            max_relative_hum       4203           year    93.0  \n90368572             max_temp_w_date       4203           year    -0.2  \n90368573        max_wind_speed_10min       4203           year    20.6  \n90368574         max_wind_speed_3sec       4203           year    27.8  \n90368575         mean_daily_max_temp       4203           year   -12.8  \n90368576         mean_daily_min_temp       4203           year   -16.4  \n90368577               mean_pressure       4203           year  1008.2  \n90368578           mean_relative_hum       4203           year    75.4  \n90368579                   mean_temp       4203           year   -14.6  \n90368580        mean_vapour_pressure       4203           year     1.4  \n90368581               mean_wind_dir       4203           year   289.0  \n90368582             mean_wind_speed       4203           year     5.8  \n90368583                min_pressure       4203           year   956.4  \n90368584            min_relative_hum       4203           year    44.0  \n90368585                    min_temp       4203           year   -26.3  \n90368586                no_cold_days       4203           year   116.0  \n90368587         no_days_w_hurricane       4203           year     0.0  \n90368588             no_days_w_storm       4203           year     0.0  \n90368589               no_frost_days       4203           year   132.0  \n90368590                 no_ice_days       4203           year   132.0  \n90368591              no_stormy_days       4203           year     0.0  \n90368592              no_summer_days       4203           year     0.0  \n90368593               no_windy_days       4203           year    50.0  ",
      "text/html": "<div>\n<style scoped>\n    .dataframe tbody tr th:only-of-type {\n        vertical-align: middle;\n    }\n\n    .dataframe tbody tr th {\n        vertical-align: top;\n    }\n\n    .dataframe thead th {\n        text-align: right;\n    }\n</style>\n<table border=\"1\" class=\"dataframe\">\n  <thead>\n    <tr style=\"text-align: right;\">\n      <th></th>\n      <th>coordinates</th>\n      <th>to</th>\n      <th>parameterId</th>\n      <th>stationId</th>\n      <th>timeResolution</th>\n      <th>value</th>\n    </tr>\n  </thead>\n  <tbody>\n    <tr>\n      <th>90368544</th>\n      <td>[-57.7231, 74.0606]</td>\n      <td>2023-01-01T06:00:00+00:00</td>\n      <td>acc_heating_degree_days_19</td>\n      <td>4208</td>\n      <td>year</td>\n      <td>4601.9</td>\n    </tr>\n    <tr>\n      <th>90368545</th>\n      <td>[-57.7231, 74.0606]</td>\n      <td>2023-01-01T06:00:00+00:00</td>\n      <td>max_pressure</td>\n      <td>4208</td>\n      <td>year</td>\n      <td>1039.1</td>\n    </tr>\n    <tr>\n      <th>90368546</th>\n      <td>[-57.7231, 74.0606]</td>\n      <td>2023-01-01T06:00:00+00:00</td>\n      <td>max_relative_hum</td>\n      <td>4208</td>\n      <td>year</td>\n      <td>97.0</td>\n    </tr>\n    <tr>\n      <th>90368547</th>\n      <td>[-57.7231, 74.0606]</td>\n      <td>2023-01-01T06:00:00+00:00</td>\n      <td>max_temp_w_date</td>\n      <td>4208</td>\n      <td>year</td>\n      <td>0.0</td>\n    </tr>\n    <tr>\n      <th>90368548</th>\n      <td>[-57.7231, 74.0606]</td>\n      <td>2023-01-01T06:00:00+00:00</td>\n      <td>max_wind_speed_10min</td>\n      <td>4208</td>\n      <td>year</td>\n      <td>23.2</td>\n    </tr>\n    <tr>\n      <th>90368549</th>\n      <td>[-57.7231, 74.0606]</td>\n      <td>2023-01-01T06:00:00+00:00</td>\n      <td>max_wind_speed_3sec</td>\n      <td>4208</td>\n      <td>year</td>\n      <td>30.4</td>\n    </tr>\n    <tr>\n      <th>90368550</th>\n      <td>[-57.7231, 74.0606]</td>\n      <td>2023-01-01T06:00:00+00:00</td>\n      <td>mean_daily_max_temp</td>\n      <td>4208</td>\n      <td>year</td>\n      <td>-13.3</td>\n    </tr>\n    <tr>\n      <th>90368551</th>\n      <td>[-57.7231, 74.0606]</td>\n      <td>2023-01-01T06:00:00+00:00</td>\n      <td>mean_daily_min_temp</td>\n      <td>4208</td>\n      <td>year</td>\n      <td>-18.6</td>\n    </tr>\n    <tr>\n      <th>90368552</th>\n      <td>[-57.7231, 74.0606]</td>\n      <td>2023-01-01T06:00:00+00:00</td>\n      <td>mean_pressure</td>\n      <td>4208</td>\n      <td>year</td>\n      <td>1006.9</td>\n    </tr>\n    <tr>\n      <th>90368553</th>\n      <td>[-57.7231, 74.0606]</td>\n      <td>2023-01-01T06:00:00+00:00</td>\n      <td>mean_relative_hum</td>\n      <td>4208</td>\n      <td>year</td>\n      <td>78.7</td>\n    </tr>\n    <tr>\n      <th>90368554</th>\n      <td>[-57.7231, 74.0606]</td>\n      <td>2023-01-01T06:00:00+00:00</td>\n      <td>mean_temp</td>\n      <td>4208</td>\n      <td>year</td>\n      <td>-15.9</td>\n    </tr>\n    <tr>\n      <th>90368555</th>\n      <td>[-57.7231, 74.0606]</td>\n      <td>2023-01-01T06:00:00+00:00</td>\n      <td>mean_vapour_pressure</td>\n      <td>4208</td>\n      <td>year</td>\n      <td>1.3</td>\n    </tr>\n    <tr>\n      <th>90368556</th>\n      <td>[-57.7231, 74.0606]</td>\n      <td>2023-01-01T06:00:00+00:00</td>\n      <td>mean_wind_dir</td>\n      <td>4208</td>\n      <td>year</td>\n      <td>24.0</td>\n    </tr>\n    <tr>\n      <th>90368557</th>\n      <td>[-57.7231, 74.0606]</td>\n      <td>2023-01-01T06:00:00+00:00</td>\n      <td>mean_wind_speed</td>\n      <td>4208</td>\n      <td>year</td>\n      <td>5.9</td>\n    </tr>\n    <tr>\n      <th>90368558</th>\n      <td>[-57.7231, 74.0606]</td>\n      <td>2023-01-01T06:00:00+00:00</td>\n      <td>min_pressure</td>\n      <td>4208</td>\n      <td>year</td>\n      <td>949.9</td>\n    </tr>\n    <tr>\n      <th>90368559</th>\n      <td>[-57.7231, 74.0606]</td>\n      <td>2023-01-01T06:00:00+00:00</td>\n      <td>min_relative_hum</td>\n      <td>4208</td>\n      <td>year</td>\n      <td>37.0</td>\n    </tr>\n    <tr>\n      <th>90368560</th>\n      <td>[-57.7231, 74.0606]</td>\n      <td>2023-01-01T06:00:00+00:00</td>\n      <td>min_temp</td>\n      <td>4208</td>\n      <td>year</td>\n      <td>-27.6</td>\n    </tr>\n    <tr>\n      <th>90368561</th>\n      <td>[-57.7231, 74.0606]</td>\n      <td>2023-01-01T06:00:00+00:00</td>\n      <td>no_cold_days</td>\n      <td>4208</td>\n      <td>year</td>\n      <td>129.0</td>\n    </tr>\n    <tr>\n      <th>90368562</th>\n      <td>[-57.7231, 74.0606]</td>\n      <td>2023-01-01T06:00:00+00:00</td>\n      <td>no_days_w_hurricane</td>\n      <td>4208</td>\n      <td>year</td>\n      <td>0.0</td>\n    </tr>\n    <tr>\n      <th>90368563</th>\n      <td>[-57.7231, 74.0606]</td>\n      <td>2023-01-01T06:00:00+00:00</td>\n      <td>no_days_w_storm</td>\n      <td>4208</td>\n      <td>year</td>\n      <td>0.0</td>\n    </tr>\n    <tr>\n      <th>90368564</th>\n      <td>[-57.7231, 74.0606]</td>\n      <td>2023-01-01T06:00:00+00:00</td>\n      <td>no_frost_days</td>\n      <td>4208</td>\n      <td>year</td>\n      <td>132.0</td>\n    </tr>\n    <tr>\n      <th>90368565</th>\n      <td>[-57.7231, 74.0606]</td>\n      <td>2023-01-01T06:00:00+00:00</td>\n      <td>no_ice_days</td>\n      <td>4208</td>\n      <td>year</td>\n      <td>131.0</td>\n    </tr>\n    <tr>\n      <th>90368566</th>\n      <td>[-57.7231, 74.0606]</td>\n      <td>2023-01-01T06:00:00+00:00</td>\n      <td>no_stormy_days</td>\n      <td>4208</td>\n      <td>year</td>\n      <td>2.0</td>\n    </tr>\n    <tr>\n      <th>90368567</th>\n      <td>[-57.7231, 74.0606]</td>\n      <td>2023-01-01T06:00:00+00:00</td>\n      <td>no_summer_days</td>\n      <td>4208</td>\n      <td>year</td>\n      <td>0.0</td>\n    </tr>\n    <tr>\n      <th>90368568</th>\n      <td>[-57.7231, 74.0606]</td>\n      <td>2023-01-01T06:00:00+00:00</td>\n      <td>no_windy_days</td>\n      <td>4208</td>\n      <td>year</td>\n      <td>39.0</td>\n    </tr>\n    <tr>\n      <th>90368569</th>\n      <td>[-73.1208, 76.7333]</td>\n      <td>2023-01-01T06:00:00+00:00</td>\n      <td>acc_heating_degree_days_19</td>\n      <td>4203</td>\n      <td>year</td>\n      <td>4430.6</td>\n    </tr>\n    <tr>\n      <th>90368570</th>\n      <td>[-73.1208, 76.7333]</td>\n      <td>2023-01-01T06:00:00+00:00</td>\n      <td>max_pressure</td>\n      <td>4203</td>\n      <td>year</td>\n      <td>1041.2</td>\n    </tr>\n    <tr>\n      <th>90368571</th>\n      <td>[-73.1208, 76.7333]</td>\n      <td>2023-01-01T06:00:00+00:00</td>\n      <td>max_relative_hum</td>\n      <td>4203</td>\n      <td>year</td>\n      <td>93.0</td>\n    </tr>\n    <tr>\n      <th>90368572</th>\n      <td>[-73.1208, 76.7333]</td>\n      <td>2023-01-01T06:00:00+00:00</td>\n      <td>max_temp_w_date</td>\n      <td>4203</td>\n      <td>year</td>\n      <td>-0.2</td>\n    </tr>\n    <tr>\n      <th>90368573</th>\n      <td>[-73.1208, 76.7333]</td>\n      <td>2023-01-01T06:00:00+00:00</td>\n      <td>max_wind_speed_10min</td>\n      <td>4203</td>\n      <td>year</td>\n      <td>20.6</td>\n    </tr>\n    <tr>\n      <th>90368574</th>\n      <td>[-73.1208, 76.7333]</td>\n      <td>2023-01-01T06:00:00+00:00</td>\n      <td>max_wind_speed_3sec</td>\n      <td>4203</td>\n      <td>year</td>\n      <td>27.8</td>\n    </tr>\n    <tr>\n      <th>90368575</th>\n      <td>[-73.1208, 76.7333]</td>\n      <td>2023-01-01T06:00:00+00:00</td>\n      <td>mean_daily_max_temp</td>\n      <td>4203</td>\n      <td>year</td>\n      <td>-12.8</td>\n    </tr>\n    <tr>\n      <th>90368576</th>\n      <td>[-73.1208, 76.7333]</td>\n      <td>2023-01-01T06:00:00+00:00</td>\n      <td>mean_daily_min_temp</td>\n      <td>4203</td>\n      <td>year</td>\n      <td>-16.4</td>\n    </tr>\n    <tr>\n      <th>90368577</th>\n      <td>[-73.1208, 76.7333]</td>\n      <td>2023-01-01T06:00:00+00:00</td>\n      <td>mean_pressure</td>\n      <td>4203</td>\n      <td>year</td>\n      <td>1008.2</td>\n    </tr>\n    <tr>\n      <th>90368578</th>\n      <td>[-73.1208, 76.7333]</td>\n      <td>2023-01-01T06:00:00+00:00</td>\n      <td>mean_relative_hum</td>\n      <td>4203</td>\n      <td>year</td>\n      <td>75.4</td>\n    </tr>\n    <tr>\n      <th>90368579</th>\n      <td>[-73.1208, 76.7333]</td>\n      <td>2023-01-01T06:00:00+00:00</td>\n      <td>mean_temp</td>\n      <td>4203</td>\n      <td>year</td>\n      <td>-14.6</td>\n    </tr>\n    <tr>\n      <th>90368580</th>\n      <td>[-73.1208, 76.7333]</td>\n      <td>2023-01-01T06:00:00+00:00</td>\n      <td>mean_vapour_pressure</td>\n      <td>4203</td>\n      <td>year</td>\n      <td>1.4</td>\n    </tr>\n    <tr>\n      <th>90368581</th>\n      <td>[-73.1208, 76.7333]</td>\n      <td>2023-01-01T06:00:00+00:00</td>\n      <td>mean_wind_dir</td>\n      <td>4203</td>\n      <td>year</td>\n      <td>289.0</td>\n    </tr>\n    <tr>\n      <th>90368582</th>\n      <td>[-73.1208, 76.7333]</td>\n      <td>2023-01-01T06:00:00+00:00</td>\n      <td>mean_wind_speed</td>\n      <td>4203</td>\n      <td>year</td>\n      <td>5.8</td>\n    </tr>\n    <tr>\n      <th>90368583</th>\n      <td>[-73.1208, 76.7333]</td>\n      <td>2023-01-01T06:00:00+00:00</td>\n      <td>min_pressure</td>\n      <td>4203</td>\n      <td>year</td>\n      <td>956.4</td>\n    </tr>\n    <tr>\n      <th>90368584</th>\n      <td>[-73.1208, 76.7333]</td>\n      <td>2023-01-01T06:00:00+00:00</td>\n      <td>min_relative_hum</td>\n      <td>4203</td>\n      <td>year</td>\n      <td>44.0</td>\n    </tr>\n    <tr>\n      <th>90368585</th>\n      <td>[-73.1208, 76.7333]</td>\n      <td>2023-01-01T06:00:00+00:00</td>\n      <td>min_temp</td>\n      <td>4203</td>\n      <td>year</td>\n      <td>-26.3</td>\n    </tr>\n    <tr>\n      <th>90368586</th>\n      <td>[-73.1208, 76.7333]</td>\n      <td>2023-01-01T06:00:00+00:00</td>\n      <td>no_cold_days</td>\n      <td>4203</td>\n      <td>year</td>\n      <td>116.0</td>\n    </tr>\n    <tr>\n      <th>90368587</th>\n      <td>[-73.1208, 76.7333]</td>\n      <td>2023-01-01T06:00:00+00:00</td>\n      <td>no_days_w_hurricane</td>\n      <td>4203</td>\n      <td>year</td>\n      <td>0.0</td>\n    </tr>\n    <tr>\n      <th>90368588</th>\n      <td>[-73.1208, 76.7333]</td>\n      <td>2023-01-01T06:00:00+00:00</td>\n      <td>no_days_w_storm</td>\n      <td>4203</td>\n      <td>year</td>\n      <td>0.0</td>\n    </tr>\n    <tr>\n      <th>90368589</th>\n      <td>[-73.1208, 76.7333]</td>\n      <td>2023-01-01T06:00:00+00:00</td>\n      <td>no_frost_days</td>\n      <td>4203</td>\n      <td>year</td>\n      <td>132.0</td>\n    </tr>\n    <tr>\n      <th>90368590</th>\n      <td>[-73.1208, 76.7333]</td>\n      <td>2023-01-01T06:00:00+00:00</td>\n      <td>no_ice_days</td>\n      <td>4203</td>\n      <td>year</td>\n      <td>132.0</td>\n    </tr>\n    <tr>\n      <th>90368591</th>\n      <td>[-73.1208, 76.7333]</td>\n      <td>2023-01-01T06:00:00+00:00</td>\n      <td>no_stormy_days</td>\n      <td>4203</td>\n      <td>year</td>\n      <td>0.0</td>\n    </tr>\n    <tr>\n      <th>90368592</th>\n      <td>[-73.1208, 76.7333]</td>\n      <td>2023-01-01T06:00:00+00:00</td>\n      <td>no_summer_days</td>\n      <td>4203</td>\n      <td>year</td>\n      <td>0.0</td>\n    </tr>\n    <tr>\n      <th>90368593</th>\n      <td>[-73.1208, 76.7333]</td>\n      <td>2023-01-01T06:00:00+00:00</td>\n      <td>no_windy_days</td>\n      <td>4203</td>\n      <td>year</td>\n      <td>50.0</td>\n    </tr>\n  </tbody>\n</table>\n</div>"
     },
     "execution_count": 9,
     "metadata": {},
     "output_type": "execute_result"
    }
   ],
   "source": [
    "df.tail(50)"
   ],
   "metadata": {
    "collapsed": false,
    "pycharm": {
     "name": "#%%\n"
    }
   }
  },
  {
   "cell_type": "code",
   "execution_count": 12,
   "outputs": [
    {
     "data": {
      "text/plain": "coordinates        object\nto                 object\nparameterId        object\nstationId           int64\ntimeResolution     object\nvalue             float64\ndtype: object"
     },
     "execution_count": 12,
     "metadata": {},
     "output_type": "execute_result"
    }
   ],
   "source": [
    "df.dtypes"
   ],
   "metadata": {
    "collapsed": false,
    "pycharm": {
     "name": "#%%\n"
    }
   }
  },
  {
   "cell_type": "code",
   "execution_count": 13,
   "outputs": [],
   "source": [
    "df.drop(df[df.stationId<5000].index,inplace=True)"
   ],
   "metadata": {
    "collapsed": false,
    "pycharm": {
     "name": "#%%\n"
    }
   }
  },
  {
   "cell_type": "code",
   "execution_count": 30,
   "outputs": [],
   "source": [
    "df.drop(df[df.stationId>7000].index,inplace=True)"
   ],
   "metadata": {
    "collapsed": false,
    "pycharm": {
     "name": "#%%\n"
    }
   }
  },
  {
   "cell_type": "code",
   "execution_count": 53,
   "outputs": [],
   "source": [
    "df_station_pluvio = df.drop(df[df.stationId>6000].index)"
   ],
   "metadata": {
    "collapsed": false,
    "pycharm": {
     "name": "#%%\n"
    }
   }
  },
  {
   "cell_type": "code",
   "execution_count": 54,
   "outputs": [],
   "source": [
    "df_station_synop = df.drop(df[df.stationId<6000].index)"
   ],
   "metadata": {
    "collapsed": false,
    "pycharm": {
     "name": "#%%\n"
    }
   }
  },
  {
   "cell_type": "code",
   "execution_count": 55,
   "outputs": [
    {
     "data": {
      "text/plain": "                 coordinates                         to  \\\n10        [10.1004, 56.5665]  2011-01-01T00:00:00+00:00   \n11        [10.1025, 55.0977]  2011-01-01T00:00:00+00:00   \n12        [10.1074, 57.5705]  2011-01-01T00:00:00+00:00   \n41        [10.1644, 56.7157]  2011-01-01T00:00:00+00:00   \n42        [10.2535, 55.9126]  2011-01-01T00:00:00+00:00   \n...                      ...                        ...   \n90367972   [9.9962, 55.7102]  2023-01-01T00:00:00+01:00   \n90367973   [9.9962, 55.7102]  2023-01-01T00:00:00+01:00   \n90367975   [9.9962, 55.7102]  2023-01-01T00:00:00+01:00   \n90367976   [9.9962, 55.7102]  2023-01-01T00:00:00+01:00   \n90367977   [9.9962, 55.7102]  2023-01-01T00:00:00+01:00   \n\n                    parameterId  stationId timeResolution  value  \n10                   acc_precip       5140           hour    1.0  \n11                   acc_precip       5435           hour    0.0  \n12                   acc_precip       5005           hour    0.0  \n41                   acc_precip       5070           hour    0.7  \n42                   acc_precip       5169           hour    0.2  \n...                         ...        ...            ...    ...  \n90367972         max_precip_24h       5220           year   17.7  \n90367973         max_precip_30m       5220           year    3.5  \n90367975  no_days_acc_precip_01       5220           year   54.0  \n90367976   no_days_acc_precip_1       5220           year   33.0  \n90367977  no_days_acc_precip_10       5220           year    5.0  \n\n[7051062 rows x 6 columns]",
      "text/html": "<div>\n<style scoped>\n    .dataframe tbody tr th:only-of-type {\n        vertical-align: middle;\n    }\n\n    .dataframe tbody tr th {\n        vertical-align: top;\n    }\n\n    .dataframe thead th {\n        text-align: right;\n    }\n</style>\n<table border=\"1\" class=\"dataframe\">\n  <thead>\n    <tr style=\"text-align: right;\">\n      <th></th>\n      <th>coordinates</th>\n      <th>to</th>\n      <th>parameterId</th>\n      <th>stationId</th>\n      <th>timeResolution</th>\n      <th>value</th>\n    </tr>\n  </thead>\n  <tbody>\n    <tr>\n      <th>10</th>\n      <td>[10.1004, 56.5665]</td>\n      <td>2011-01-01T00:00:00+00:00</td>\n      <td>acc_precip</td>\n      <td>5140</td>\n      <td>hour</td>\n      <td>1.0</td>\n    </tr>\n    <tr>\n      <th>11</th>\n      <td>[10.1025, 55.0977]</td>\n      <td>2011-01-01T00:00:00+00:00</td>\n      <td>acc_precip</td>\n      <td>5435</td>\n      <td>hour</td>\n      <td>0.0</td>\n    </tr>\n    <tr>\n      <th>12</th>\n      <td>[10.1074, 57.5705]</td>\n      <td>2011-01-01T00:00:00+00:00</td>\n      <td>acc_precip</td>\n      <td>5005</td>\n      <td>hour</td>\n      <td>0.0</td>\n    </tr>\n    <tr>\n      <th>41</th>\n      <td>[10.1644, 56.7157]</td>\n      <td>2011-01-01T00:00:00+00:00</td>\n      <td>acc_precip</td>\n      <td>5070</td>\n      <td>hour</td>\n      <td>0.7</td>\n    </tr>\n    <tr>\n      <th>42</th>\n      <td>[10.2535, 55.9126]</td>\n      <td>2011-01-01T00:00:00+00:00</td>\n      <td>acc_precip</td>\n      <td>5169</td>\n      <td>hour</td>\n      <td>0.2</td>\n    </tr>\n    <tr>\n      <th>...</th>\n      <td>...</td>\n      <td>...</td>\n      <td>...</td>\n      <td>...</td>\n      <td>...</td>\n      <td>...</td>\n    </tr>\n    <tr>\n      <th>90367972</th>\n      <td>[9.9962, 55.7102]</td>\n      <td>2023-01-01T00:00:00+01:00</td>\n      <td>max_precip_24h</td>\n      <td>5220</td>\n      <td>year</td>\n      <td>17.7</td>\n    </tr>\n    <tr>\n      <th>90367973</th>\n      <td>[9.9962, 55.7102]</td>\n      <td>2023-01-01T00:00:00+01:00</td>\n      <td>max_precip_30m</td>\n      <td>5220</td>\n      <td>year</td>\n      <td>3.5</td>\n    </tr>\n    <tr>\n      <th>90367975</th>\n      <td>[9.9962, 55.7102]</td>\n      <td>2023-01-01T00:00:00+01:00</td>\n      <td>no_days_acc_precip_01</td>\n      <td>5220</td>\n      <td>year</td>\n      <td>54.0</td>\n    </tr>\n    <tr>\n      <th>90367976</th>\n      <td>[9.9962, 55.7102]</td>\n      <td>2023-01-01T00:00:00+01:00</td>\n      <td>no_days_acc_precip_1</td>\n      <td>5220</td>\n      <td>year</td>\n      <td>33.0</td>\n    </tr>\n    <tr>\n      <th>90367977</th>\n      <td>[9.9962, 55.7102]</td>\n      <td>2023-01-01T00:00:00+01:00</td>\n      <td>no_days_acc_precip_10</td>\n      <td>5220</td>\n      <td>year</td>\n      <td>5.0</td>\n    </tr>\n  </tbody>\n</table>\n<p>7051062 rows × 6 columns</p>\n</div>"
     },
     "execution_count": 55,
     "metadata": {},
     "output_type": "execute_result"
    }
   ],
   "source": [
    "df_station_pluvio"
   ],
   "metadata": {
    "collapsed": false,
    "pycharm": {
     "name": "#%%\n"
    }
   }
  },
  {
   "cell_type": "code",
   "execution_count": 56,
   "outputs": [
    {
     "data": {
      "text/plain": "                 coordinates                         to           parameterId  \\\n0         [10.0929, 56.5604]  2011-01-01T00:00:00+00:00       max_temp_w_date   \n1         [10.0929, 56.5604]  2011-01-01T00:00:00+00:00  max_wind_speed_10min   \n2         [10.0929, 56.5604]  2011-01-01T00:00:00+00:00   max_wind_speed_3sec   \n3         [10.0929, 56.5604]  2011-01-01T00:00:00+00:00         mean_pressure   \n4         [10.0929, 56.5604]  2011-01-01T00:00:00+00:00     mean_relative_hum   \n...                      ...                        ...                   ...   \n90367966    [9.988, 54.8528]  2023-01-01T00:00:00+01:00           no_ice_days   \n90367967    [9.988, 54.8528]  2023-01-01T00:00:00+01:00        no_stormy_days   \n90367968    [9.988, 54.8528]  2023-01-01T00:00:00+01:00        no_summer_days   \n90367969    [9.988, 54.8528]  2023-01-01T00:00:00+01:00    no_tropical_nights   \n90367970    [9.988, 54.8528]  2023-01-01T00:00:00+01:00         no_windy_days   \n\n          stationId timeResolution   value  \n0              6049           hour     4.0  \n1              6049           hour    18.7  \n2              6049           hour    27.4  \n3              6049           hour  1001.3  \n4              6049           hour    89.2  \n...             ...            ...     ...  \n90367966       6119           year     0.0  \n90367967       6119           year     7.0  \n90367968       6119           year     0.0  \n90367969       6119           year     0.0  \n90367970       6119           year    69.0  \n\n[69592566 rows x 6 columns]",
      "text/html": "<div>\n<style scoped>\n    .dataframe tbody tr th:only-of-type {\n        vertical-align: middle;\n    }\n\n    .dataframe tbody tr th {\n        vertical-align: top;\n    }\n\n    .dataframe thead th {\n        text-align: right;\n    }\n</style>\n<table border=\"1\" class=\"dataframe\">\n  <thead>\n    <tr style=\"text-align: right;\">\n      <th></th>\n      <th>coordinates</th>\n      <th>to</th>\n      <th>parameterId</th>\n      <th>stationId</th>\n      <th>timeResolution</th>\n      <th>value</th>\n    </tr>\n  </thead>\n  <tbody>\n    <tr>\n      <th>0</th>\n      <td>[10.0929, 56.5604]</td>\n      <td>2011-01-01T00:00:00+00:00</td>\n      <td>max_temp_w_date</td>\n      <td>6049</td>\n      <td>hour</td>\n      <td>4.0</td>\n    </tr>\n    <tr>\n      <th>1</th>\n      <td>[10.0929, 56.5604]</td>\n      <td>2011-01-01T00:00:00+00:00</td>\n      <td>max_wind_speed_10min</td>\n      <td>6049</td>\n      <td>hour</td>\n      <td>18.7</td>\n    </tr>\n    <tr>\n      <th>2</th>\n      <td>[10.0929, 56.5604]</td>\n      <td>2011-01-01T00:00:00+00:00</td>\n      <td>max_wind_speed_3sec</td>\n      <td>6049</td>\n      <td>hour</td>\n      <td>27.4</td>\n    </tr>\n    <tr>\n      <th>3</th>\n      <td>[10.0929, 56.5604]</td>\n      <td>2011-01-01T00:00:00+00:00</td>\n      <td>mean_pressure</td>\n      <td>6049</td>\n      <td>hour</td>\n      <td>1001.3</td>\n    </tr>\n    <tr>\n      <th>4</th>\n      <td>[10.0929, 56.5604]</td>\n      <td>2011-01-01T00:00:00+00:00</td>\n      <td>mean_relative_hum</td>\n      <td>6049</td>\n      <td>hour</td>\n      <td>89.2</td>\n    </tr>\n    <tr>\n      <th>...</th>\n      <td>...</td>\n      <td>...</td>\n      <td>...</td>\n      <td>...</td>\n      <td>...</td>\n      <td>...</td>\n    </tr>\n    <tr>\n      <th>90367966</th>\n      <td>[9.988, 54.8528]</td>\n      <td>2023-01-01T00:00:00+01:00</td>\n      <td>no_ice_days</td>\n      <td>6119</td>\n      <td>year</td>\n      <td>0.0</td>\n    </tr>\n    <tr>\n      <th>90367967</th>\n      <td>[9.988, 54.8528]</td>\n      <td>2023-01-01T00:00:00+01:00</td>\n      <td>no_stormy_days</td>\n      <td>6119</td>\n      <td>year</td>\n      <td>7.0</td>\n    </tr>\n    <tr>\n      <th>90367968</th>\n      <td>[9.988, 54.8528]</td>\n      <td>2023-01-01T00:00:00+01:00</td>\n      <td>no_summer_days</td>\n      <td>6119</td>\n      <td>year</td>\n      <td>0.0</td>\n    </tr>\n    <tr>\n      <th>90367969</th>\n      <td>[9.988, 54.8528]</td>\n      <td>2023-01-01T00:00:00+01:00</td>\n      <td>no_tropical_nights</td>\n      <td>6119</td>\n      <td>year</td>\n      <td>0.0</td>\n    </tr>\n    <tr>\n      <th>90367970</th>\n      <td>[9.988, 54.8528]</td>\n      <td>2023-01-01T00:00:00+01:00</td>\n      <td>no_windy_days</td>\n      <td>6119</td>\n      <td>year</td>\n      <td>69.0</td>\n    </tr>\n  </tbody>\n</table>\n<p>69592566 rows × 6 columns</p>\n</div>"
     },
     "execution_count": 56,
     "metadata": {},
     "output_type": "execute_result"
    }
   ],
   "source": [
    "df_station_synop"
   ],
   "metadata": {
    "collapsed": false,
    "pycharm": {
     "name": "#%%\n"
    }
   }
  },
  {
   "cell_type": "code",
   "execution_count": 31,
   "outputs": [
    {
     "data": {
      "text/plain": "                 coordinates                         to  \\\n0         [10.0929, 56.5604]  2011-01-01T00:00:00+00:00   \n1         [10.0929, 56.5604]  2011-01-01T00:00:00+00:00   \n2         [10.0929, 56.5604]  2011-01-01T00:00:00+00:00   \n3         [10.0929, 56.5604]  2011-01-01T00:00:00+00:00   \n4         [10.0929, 56.5604]  2011-01-01T00:00:00+00:00   \n...                      ...                        ...   \n90367972   [9.9962, 55.7102]  2023-01-01T00:00:00+01:00   \n90367973   [9.9962, 55.7102]  2023-01-01T00:00:00+01:00   \n90367975   [9.9962, 55.7102]  2023-01-01T00:00:00+01:00   \n90367976   [9.9962, 55.7102]  2023-01-01T00:00:00+01:00   \n90367977   [9.9962, 55.7102]  2023-01-01T00:00:00+01:00   \n\n                    parameterId  stationId timeResolution   value  \n0               max_temp_w_date       6049           hour     4.0  \n1          max_wind_speed_10min       6049           hour    18.7  \n2           max_wind_speed_3sec       6049           hour    27.4  \n3                 mean_pressure       6049           hour  1001.3  \n4             mean_relative_hum       6049           hour    89.2  \n...                         ...        ...            ...     ...  \n90367972         max_precip_24h       5220           year    17.7  \n90367973         max_precip_30m       5220           year     3.5  \n90367975  no_days_acc_precip_01       5220           year    54.0  \n90367976   no_days_acc_precip_1       5220           year    33.0  \n90367977  no_days_acc_precip_10       5220           year     5.0  \n\n[76643628 rows x 6 columns]",
      "text/html": "<div>\n<style scoped>\n    .dataframe tbody tr th:only-of-type {\n        vertical-align: middle;\n    }\n\n    .dataframe tbody tr th {\n        vertical-align: top;\n    }\n\n    .dataframe thead th {\n        text-align: right;\n    }\n</style>\n<table border=\"1\" class=\"dataframe\">\n  <thead>\n    <tr style=\"text-align: right;\">\n      <th></th>\n      <th>coordinates</th>\n      <th>to</th>\n      <th>parameterId</th>\n      <th>stationId</th>\n      <th>timeResolution</th>\n      <th>value</th>\n    </tr>\n  </thead>\n  <tbody>\n    <tr>\n      <th>0</th>\n      <td>[10.0929, 56.5604]</td>\n      <td>2011-01-01T00:00:00+00:00</td>\n      <td>max_temp_w_date</td>\n      <td>6049</td>\n      <td>hour</td>\n      <td>4.0</td>\n    </tr>\n    <tr>\n      <th>1</th>\n      <td>[10.0929, 56.5604]</td>\n      <td>2011-01-01T00:00:00+00:00</td>\n      <td>max_wind_speed_10min</td>\n      <td>6049</td>\n      <td>hour</td>\n      <td>18.7</td>\n    </tr>\n    <tr>\n      <th>2</th>\n      <td>[10.0929, 56.5604]</td>\n      <td>2011-01-01T00:00:00+00:00</td>\n      <td>max_wind_speed_3sec</td>\n      <td>6049</td>\n      <td>hour</td>\n      <td>27.4</td>\n    </tr>\n    <tr>\n      <th>3</th>\n      <td>[10.0929, 56.5604]</td>\n      <td>2011-01-01T00:00:00+00:00</td>\n      <td>mean_pressure</td>\n      <td>6049</td>\n      <td>hour</td>\n      <td>1001.3</td>\n    </tr>\n    <tr>\n      <th>4</th>\n      <td>[10.0929, 56.5604]</td>\n      <td>2011-01-01T00:00:00+00:00</td>\n      <td>mean_relative_hum</td>\n      <td>6049</td>\n      <td>hour</td>\n      <td>89.2</td>\n    </tr>\n    <tr>\n      <th>...</th>\n      <td>...</td>\n      <td>...</td>\n      <td>...</td>\n      <td>...</td>\n      <td>...</td>\n      <td>...</td>\n    </tr>\n    <tr>\n      <th>90367972</th>\n      <td>[9.9962, 55.7102]</td>\n      <td>2023-01-01T00:00:00+01:00</td>\n      <td>max_precip_24h</td>\n      <td>5220</td>\n      <td>year</td>\n      <td>17.7</td>\n    </tr>\n    <tr>\n      <th>90367973</th>\n      <td>[9.9962, 55.7102]</td>\n      <td>2023-01-01T00:00:00+01:00</td>\n      <td>max_precip_30m</td>\n      <td>5220</td>\n      <td>year</td>\n      <td>3.5</td>\n    </tr>\n    <tr>\n      <th>90367975</th>\n      <td>[9.9962, 55.7102]</td>\n      <td>2023-01-01T00:00:00+01:00</td>\n      <td>no_days_acc_precip_01</td>\n      <td>5220</td>\n      <td>year</td>\n      <td>54.0</td>\n    </tr>\n    <tr>\n      <th>90367976</th>\n      <td>[9.9962, 55.7102]</td>\n      <td>2023-01-01T00:00:00+01:00</td>\n      <td>no_days_acc_precip_1</td>\n      <td>5220</td>\n      <td>year</td>\n      <td>33.0</td>\n    </tr>\n    <tr>\n      <th>90367977</th>\n      <td>[9.9962, 55.7102]</td>\n      <td>2023-01-01T00:00:00+01:00</td>\n      <td>no_days_acc_precip_10</td>\n      <td>5220</td>\n      <td>year</td>\n      <td>5.0</td>\n    </tr>\n  </tbody>\n</table>\n<p>76643628 rows × 6 columns</p>\n</div>"
     },
     "execution_count": 31,
     "metadata": {},
     "output_type": "execute_result"
    }
   ],
   "source": [
    "df"
   ],
   "metadata": {
    "collapsed": false,
    "pycharm": {
     "name": "#%%\n"
    }
   }
  },
  {
   "cell_type": "code",
   "source": [
    "for i in range(10):\n",
    "    df[int(len(df)/10)*i:int(len(df)/10)*(i+1)].to_csv(\"clean split data/stations_clean_\"+str(i)+\".csv\")"
   ],
   "metadata": {
    "collapsed": false,
    "pycharm": {
     "name": "#%%\n"
    }
   },
   "execution_count": 32,
   "outputs": []
  },
  {
   "cell_type": "code",
   "execution_count": 33,
   "outputs": [],
   "source": [
    "df.to_csv(\"stations_denmark.csv\")"
   ],
   "metadata": {
    "collapsed": false,
    "pycharm": {
     "name": "#%%\n"
    }
   }
  },
  {
   "cell_type": "code",
   "execution_count": 57,
   "outputs": [],
   "source": [
    "df_station_pluvio.to_csv(\"pluvio_stations.csv\")\n",
    "df_station_synop.to_csv(\"synop_stations.csv\")"
   ],
   "metadata": {
    "collapsed": false,
    "pycharm": {
     "name": "#%%\n"
    }
   }
  },
  {
   "cell_type": "code",
   "execution_count": 34,
   "outputs": [
    {
     "data": {
      "text/plain": "coordinates       74\nto                 0\nparameterId        0\nstationId          0\ntimeResolution     0\nvalue              0\ndtype: int64"
     },
     "execution_count": 34,
     "metadata": {},
     "output_type": "execute_result"
    }
   ],
   "source": [
    "df.isna().sum()"
   ],
   "metadata": {
    "collapsed": false,
    "pycharm": {
     "name": "#%%\n"
    }
   }
  },
  {
   "cell_type": "code",
   "execution_count": 68,
   "outputs": [],
   "source": [
    "df_hour = df.loc[df[\"timeResolution\"]==\"hour\"]\n",
    "df_day = df.loc[df[\"timeResolution\"]==\"day\"]\n",
    "df_month = df.loc[df[\"timeResolution\"]==\"month\"]\n",
    "df_year = df.loc[df[\"timeResolution\"]==\"year\"]\n",
    "\n",
    "df_hour_pluvio = df_station_pluvio.loc[df_station_pluvio[\"timeResolution\"]==\"hour\"]\n",
    "df_hour_synop = df_station_synop.loc[df_station_synop[\"timeResolution\"]==\"hour\"]"
   ],
   "metadata": {
    "collapsed": false,
    "pycharm": {
     "name": "#%%\n"
    }
   }
  },
  {
   "cell_type": "code",
   "execution_count": 59,
   "outputs": [],
   "source": [
    "df_hour_pivot = df_hour.pivot(index=[\"to\",\"stationId\"],columns=[\"parameterId\"], values=\"value\")\n",
    "\n",
    "df_hour_pluvio_pivot = df_hour_pluvio.pivot(index=[\"to\",\"stationId\"],columns=[\"parameterId\"], values=\"value\")\n",
    "df_hour_synop_pivot = df_hour_synop.pivot(index=[\"to\",\"stationId\"],columns=[\"parameterId\"], values=\"value\")"
   ],
   "metadata": {
    "collapsed": false,
    "pycharm": {
     "name": "#%%\n"
    }
   }
  },
  {
   "cell_type": "code",
   "execution_count": 44,
   "outputs": [
    {
     "data": {
      "text/plain": "parameterId                          acc_precip  bright_sunshine  \\\nto                        stationId                                \n2011-01-01T00:00:00+00:00 5005              0.0              NaN   \n                          5009              0.0              NaN   \n                          5015              0.0              NaN   \n                          5031              0.0              NaN   \n                          5035              0.0              NaN   \n...                                         ...              ...   \n                          6149              0.0              0.0   \n                          6151              NaN              NaN   \n                          6154              0.0              NaN   \n                          6156              0.0              0.0   \n                          6159              0.1              NaN   \n\nparameterId                          leaf_moisture  max_temp_w_date  \\\nto                        stationId                                   \n2011-01-01T00:00:00+00:00 5005                 NaN              NaN   \n                          5009                 NaN              NaN   \n                          5015                 NaN              NaN   \n                          5031                 NaN              NaN   \n                          5035                 NaN              NaN   \n...                                            ...              ...   \n                          6149                 NaN              1.9   \n                          6151                 NaN              2.4   \n                          6154                 NaN              1.8   \n                          6156                 0.0              2.9   \n                          6159                 NaN              2.2   \n\nparameterId                          max_wind_speed_10min  \\\nto                        stationId                         \n2011-01-01T00:00:00+00:00 5005                        NaN   \n                          5009                        NaN   \n                          5015                        NaN   \n                          5031                        NaN   \n                          5035                        NaN   \n...                                                   ...   \n                          6149                       14.8   \n                          6151                       16.1   \n                          6154                        9.9   \n                          6156                       14.1   \n                          6159                       13.2   \n\nparameterId                          max_wind_speed_3sec  mean_pressure  \\\nto                        stationId                                       \n2011-01-01T00:00:00+00:00 5005                       NaN            NaN   \n                          5009                       NaN            NaN   \n                          5015                       NaN            NaN   \n                          5031                       NaN            NaN   \n                          5035                       NaN            NaN   \n...                                                  ...            ...   \n                          6149                      17.8         1009.0   \n                          6151                      20.3         1007.1   \n                          6154                      14.0         1006.6   \n                          6156                      20.9         1004.4   \n                          6159                      18.9         1004.3   \n\nparameterId                          mean_radiation  mean_relative_hum  \\\nto                        stationId                                      \n2011-01-01T00:00:00+00:00 5005                  NaN                NaN   \n                          5009                  NaN                NaN   \n                          5015                  NaN                NaN   \n                          5031                  NaN                NaN   \n                          5035                  NaN                NaN   \n...                                             ...                ...   \n                          6149                  0.0               94.5   \n                          6151                  NaN               93.3   \n                          6154                  NaN               98.8   \n                          6156                  0.0               95.0   \n                          6159                  NaN               97.7   \n\nparameterId                          mean_temp  mean_wind_dir  \\\nto                        stationId                             \n2011-01-01T00:00:00+00:00 5005             NaN            NaN   \n                          5009             NaN            NaN   \n                          5015             NaN            NaN   \n                          5031             NaN            NaN   \n                          5035             NaN            NaN   \n...                                        ...            ...   \n                          6149             1.8          248.0   \n                          6151             2.2          260.0   \n                          6154             1.5          259.0   \n                          6156             2.8          250.0   \n                          6159             2.1          250.0   \n\nparameterId                          mean_wind_speed  min_temp  temp_grass  \\\nto                        stationId                                          \n2011-01-01T00:00:00+00:00 5005                   NaN       NaN         NaN   \n                          5009                   NaN       NaN         NaN   \n                          5015                   NaN       NaN         NaN   \n                          5031                   NaN       NaN         NaN   \n                          5035                   NaN       NaN         NaN   \n...                                              ...       ...         ...   \n                          6149                  13.8       1.7         NaN   \n                          6151                  15.8       2.0         NaN   \n                          6154                   8.6       1.4         NaN   \n                          6156                  13.5       2.7        -0.4   \n                          6159                  12.4       1.9         NaN   \n\nparameterId                          temp_soil_10  temp_soil_30  \\\nto                        stationId                               \n2011-01-01T00:00:00+00:00 5005                NaN           NaN   \n                          5009                NaN           NaN   \n                          5015                NaN           NaN   \n                          5031                NaN           NaN   \n                          5035                NaN           NaN   \n...                                           ...           ...   \n                          6149                NaN           NaN   \n                          6151                NaN           NaN   \n                          6154                NaN           NaN   \n                          6156                0.1           0.9   \n                          6159                NaN           NaN   \n\nparameterId                          vapour_pressure_deficit_mean  \nto                        stationId                                \n2011-01-01T00:00:00+00:00 5005                                NaN  \n                          5009                                NaN  \n                          5015                                NaN  \n                          5031                                NaN  \n                          5035                                NaN  \n...                                                           ...  \n                          6149                                0.0  \n                          6151                                0.0  \n                          6154                                0.0  \n                          6156                                0.0  \n                          6159                                0.0  \n\n[100 rows x 17 columns]",
      "text/html": "<div>\n<style scoped>\n    .dataframe tbody tr th:only-of-type {\n        vertical-align: middle;\n    }\n\n    .dataframe tbody tr th {\n        vertical-align: top;\n    }\n\n    .dataframe thead th {\n        text-align: right;\n    }\n</style>\n<table border=\"1\" class=\"dataframe\">\n  <thead>\n    <tr style=\"text-align: right;\">\n      <th></th>\n      <th>parameterId</th>\n      <th>acc_precip</th>\n      <th>bright_sunshine</th>\n      <th>leaf_moisture</th>\n      <th>max_temp_w_date</th>\n      <th>max_wind_speed_10min</th>\n      <th>max_wind_speed_3sec</th>\n      <th>mean_pressure</th>\n      <th>mean_radiation</th>\n      <th>mean_relative_hum</th>\n      <th>mean_temp</th>\n      <th>mean_wind_dir</th>\n      <th>mean_wind_speed</th>\n      <th>min_temp</th>\n      <th>temp_grass</th>\n      <th>temp_soil_10</th>\n      <th>temp_soil_30</th>\n      <th>vapour_pressure_deficit_mean</th>\n    </tr>\n    <tr>\n      <th>to</th>\n      <th>stationId</th>\n      <th></th>\n      <th></th>\n      <th></th>\n      <th></th>\n      <th></th>\n      <th></th>\n      <th></th>\n      <th></th>\n      <th></th>\n      <th></th>\n      <th></th>\n      <th></th>\n      <th></th>\n      <th></th>\n      <th></th>\n      <th></th>\n      <th></th>\n    </tr>\n  </thead>\n  <tbody>\n    <tr>\n      <th rowspan=\"11\" valign=\"top\">2011-01-01T00:00:00+00:00</th>\n      <th>5005</th>\n      <td>0.0</td>\n      <td>NaN</td>\n      <td>NaN</td>\n      <td>NaN</td>\n      <td>NaN</td>\n      <td>NaN</td>\n      <td>NaN</td>\n      <td>NaN</td>\n      <td>NaN</td>\n      <td>NaN</td>\n      <td>NaN</td>\n      <td>NaN</td>\n      <td>NaN</td>\n      <td>NaN</td>\n      <td>NaN</td>\n      <td>NaN</td>\n      <td>NaN</td>\n    </tr>\n    <tr>\n      <th>5009</th>\n      <td>0.0</td>\n      <td>NaN</td>\n      <td>NaN</td>\n      <td>NaN</td>\n      <td>NaN</td>\n      <td>NaN</td>\n      <td>NaN</td>\n      <td>NaN</td>\n      <td>NaN</td>\n      <td>NaN</td>\n      <td>NaN</td>\n      <td>NaN</td>\n      <td>NaN</td>\n      <td>NaN</td>\n      <td>NaN</td>\n      <td>NaN</td>\n      <td>NaN</td>\n    </tr>\n    <tr>\n      <th>5015</th>\n      <td>0.0</td>\n      <td>NaN</td>\n      <td>NaN</td>\n      <td>NaN</td>\n      <td>NaN</td>\n      <td>NaN</td>\n      <td>NaN</td>\n      <td>NaN</td>\n      <td>NaN</td>\n      <td>NaN</td>\n      <td>NaN</td>\n      <td>NaN</td>\n      <td>NaN</td>\n      <td>NaN</td>\n      <td>NaN</td>\n      <td>NaN</td>\n      <td>NaN</td>\n    </tr>\n    <tr>\n      <th>5031</th>\n      <td>0.0</td>\n      <td>NaN</td>\n      <td>NaN</td>\n      <td>NaN</td>\n      <td>NaN</td>\n      <td>NaN</td>\n      <td>NaN</td>\n      <td>NaN</td>\n      <td>NaN</td>\n      <td>NaN</td>\n      <td>NaN</td>\n      <td>NaN</td>\n      <td>NaN</td>\n      <td>NaN</td>\n      <td>NaN</td>\n      <td>NaN</td>\n      <td>NaN</td>\n    </tr>\n    <tr>\n      <th>5035</th>\n      <td>0.0</td>\n      <td>NaN</td>\n      <td>NaN</td>\n      <td>NaN</td>\n      <td>NaN</td>\n      <td>NaN</td>\n      <td>NaN</td>\n      <td>NaN</td>\n      <td>NaN</td>\n      <td>NaN</td>\n      <td>NaN</td>\n      <td>NaN</td>\n      <td>NaN</td>\n      <td>NaN</td>\n      <td>NaN</td>\n      <td>NaN</td>\n      <td>NaN</td>\n    </tr>\n    <tr>\n      <th>...</th>\n      <td>...</td>\n      <td>...</td>\n      <td>...</td>\n      <td>...</td>\n      <td>...</td>\n      <td>...</td>\n      <td>...</td>\n      <td>...</td>\n      <td>...</td>\n      <td>...</td>\n      <td>...</td>\n      <td>...</td>\n      <td>...</td>\n      <td>...</td>\n      <td>...</td>\n      <td>...</td>\n      <td>...</td>\n    </tr>\n    <tr>\n      <th>6149</th>\n      <td>0.0</td>\n      <td>0.0</td>\n      <td>NaN</td>\n      <td>1.9</td>\n      <td>14.8</td>\n      <td>17.8</td>\n      <td>1009.0</td>\n      <td>0.0</td>\n      <td>94.5</td>\n      <td>1.8</td>\n      <td>248.0</td>\n      <td>13.8</td>\n      <td>1.7</td>\n      <td>NaN</td>\n      <td>NaN</td>\n      <td>NaN</td>\n      <td>0.0</td>\n    </tr>\n    <tr>\n      <th>6151</th>\n      <td>NaN</td>\n      <td>NaN</td>\n      <td>NaN</td>\n      <td>2.4</td>\n      <td>16.1</td>\n      <td>20.3</td>\n      <td>1007.1</td>\n      <td>NaN</td>\n      <td>93.3</td>\n      <td>2.2</td>\n      <td>260.0</td>\n      <td>15.8</td>\n      <td>2.0</td>\n      <td>NaN</td>\n      <td>NaN</td>\n      <td>NaN</td>\n      <td>0.0</td>\n    </tr>\n    <tr>\n      <th>6154</th>\n      <td>0.0</td>\n      <td>NaN</td>\n      <td>NaN</td>\n      <td>1.8</td>\n      <td>9.9</td>\n      <td>14.0</td>\n      <td>1006.6</td>\n      <td>NaN</td>\n      <td>98.8</td>\n      <td>1.5</td>\n      <td>259.0</td>\n      <td>8.6</td>\n      <td>1.4</td>\n      <td>NaN</td>\n      <td>NaN</td>\n      <td>NaN</td>\n      <td>0.0</td>\n    </tr>\n    <tr>\n      <th>6156</th>\n      <td>0.0</td>\n      <td>0.0</td>\n      <td>0.0</td>\n      <td>2.9</td>\n      <td>14.1</td>\n      <td>20.9</td>\n      <td>1004.4</td>\n      <td>0.0</td>\n      <td>95.0</td>\n      <td>2.8</td>\n      <td>250.0</td>\n      <td>13.5</td>\n      <td>2.7</td>\n      <td>-0.4</td>\n      <td>0.1</td>\n      <td>0.9</td>\n      <td>0.0</td>\n    </tr>\n    <tr>\n      <th>6159</th>\n      <td>0.1</td>\n      <td>NaN</td>\n      <td>NaN</td>\n      <td>2.2</td>\n      <td>13.2</td>\n      <td>18.9</td>\n      <td>1004.3</td>\n      <td>NaN</td>\n      <td>97.7</td>\n      <td>2.1</td>\n      <td>250.0</td>\n      <td>12.4</td>\n      <td>1.9</td>\n      <td>NaN</td>\n      <td>NaN</td>\n      <td>NaN</td>\n      <td>0.0</td>\n    </tr>\n  </tbody>\n</table>\n<p>100 rows × 17 columns</p>\n</div>"
     },
     "execution_count": 44,
     "metadata": {},
     "output_type": "execute_result"
    }
   ],
   "source": [
    "df_hour_pivot.head(100)"
   ],
   "metadata": {
    "collapsed": false,
    "pycharm": {
     "name": "#%%\n"
    }
   }
  },
  {
   "cell_type": "code",
   "execution_count": 60,
   "outputs": [
    {
     "data": {
      "text/plain": "parameterId                          acc_precip  max_wind_speed_10min  \\\nto                        stationId                                     \n2011-01-01T00:00:00+00:00 5005              0.0                   NaN   \n                          5009              0.0                   NaN   \n                          5015              0.0                   NaN   \n                          5031              0.0                   NaN   \n                          5035              0.0                   NaN   \n                          5065              0.2                   NaN   \n                          5070              0.7                   NaN   \n                          5075              0.5                   NaN   \n                          5081              0.0                   NaN   \n                          5085              0.0                   NaN   \n\nparameterId                          mean_wind_speed  \nto                        stationId                   \n2011-01-01T00:00:00+00:00 5005                   NaN  \n                          5009                   NaN  \n                          5015                   NaN  \n                          5031                   NaN  \n                          5035                   NaN  \n                          5065                   NaN  \n                          5070                   NaN  \n                          5075                   NaN  \n                          5081                   NaN  \n                          5085                   NaN  ",
      "text/html": "<div>\n<style scoped>\n    .dataframe tbody tr th:only-of-type {\n        vertical-align: middle;\n    }\n\n    .dataframe tbody tr th {\n        vertical-align: top;\n    }\n\n    .dataframe thead th {\n        text-align: right;\n    }\n</style>\n<table border=\"1\" class=\"dataframe\">\n  <thead>\n    <tr style=\"text-align: right;\">\n      <th></th>\n      <th>parameterId</th>\n      <th>acc_precip</th>\n      <th>max_wind_speed_10min</th>\n      <th>mean_wind_speed</th>\n    </tr>\n    <tr>\n      <th>to</th>\n      <th>stationId</th>\n      <th></th>\n      <th></th>\n      <th></th>\n    </tr>\n  </thead>\n  <tbody>\n    <tr>\n      <th rowspan=\"10\" valign=\"top\">2011-01-01T00:00:00+00:00</th>\n      <th>5005</th>\n      <td>0.0</td>\n      <td>NaN</td>\n      <td>NaN</td>\n    </tr>\n    <tr>\n      <th>5009</th>\n      <td>0.0</td>\n      <td>NaN</td>\n      <td>NaN</td>\n    </tr>\n    <tr>\n      <th>5015</th>\n      <td>0.0</td>\n      <td>NaN</td>\n      <td>NaN</td>\n    </tr>\n    <tr>\n      <th>5031</th>\n      <td>0.0</td>\n      <td>NaN</td>\n      <td>NaN</td>\n    </tr>\n    <tr>\n      <th>5035</th>\n      <td>0.0</td>\n      <td>NaN</td>\n      <td>NaN</td>\n    </tr>\n    <tr>\n      <th>5065</th>\n      <td>0.2</td>\n      <td>NaN</td>\n      <td>NaN</td>\n    </tr>\n    <tr>\n      <th>5070</th>\n      <td>0.7</td>\n      <td>NaN</td>\n      <td>NaN</td>\n    </tr>\n    <tr>\n      <th>5075</th>\n      <td>0.5</td>\n      <td>NaN</td>\n      <td>NaN</td>\n    </tr>\n    <tr>\n      <th>5081</th>\n      <td>0.0</td>\n      <td>NaN</td>\n      <td>NaN</td>\n    </tr>\n    <tr>\n      <th>5085</th>\n      <td>0.0</td>\n      <td>NaN</td>\n      <td>NaN</td>\n    </tr>\n  </tbody>\n</table>\n</div>"
     },
     "execution_count": 60,
     "metadata": {},
     "output_type": "execute_result"
    }
   ],
   "source": [
    "df_hour_pluvio_pivot.head(10)"
   ],
   "metadata": {
    "collapsed": false,
    "pycharm": {
     "name": "#%%\n"
    }
   }
  },
  {
   "cell_type": "code",
   "execution_count": 61,
   "outputs": [
    {
     "data": {
      "text/plain": "parameterId                          acc_precip  bright_sunshine  \\\nto                        stationId                                \n2011-01-01T00:00:00+00:00 6019              0.0              0.0   \n                          6031              0.0              0.0   \n                          6032              NaN              NaN   \n                          6041              0.0              0.0   \n                          6049              NaN              NaN   \n                          6051              0.0              NaN   \n                          6052              0.0              NaN   \n                          6056              NaN              0.0   \n                          6058              0.0              0.0   \n                          6065              0.3              0.0   \n\nparameterId                          leaf_moisture  max_temp_w_date  \\\nto                        stationId                                   \n2011-01-01T00:00:00+00:00 6019                26.0              4.5   \n                          6031                 0.0              4.2   \n                          6032                 NaN              4.0   \n                          6041                 NaN              4.8   \n                          6049                 NaN              4.0   \n                          6051                 NaN              4.4   \n                          6052                 NaN              4.7   \n                          6056                 0.0              5.1   \n                          6058                 NaN              4.6   \n                          6065                 NaN              4.6   \n\nparameterId                          max_wind_speed_10min  \\\nto                        stationId                         \n2011-01-01T00:00:00+00:00 6019                       14.4   \n                          6031                       14.0   \n                          6032                       14.1   \n                          6041                       12.7   \n                          6049                       18.7   \n                          6051                        NaN   \n                          6052                       15.1   \n                          6056                       12.8   \n                          6058                       14.5   \n                          6065                       14.3   \n\nparameterId                          max_wind_speed_3sec  mean_pressure  \\\nto                        stationId                                       \n2011-01-01T00:00:00+00:00 6019                      20.3            NaN   \n                          6031                      20.9            NaN   \n                          6032                      19.2          997.3   \n                          6041                      17.7          995.3   \n                          6049                      27.4         1001.3   \n                          6051                       NaN            NaN   \n                          6052                      20.7         1005.9   \n                          6056                      24.9         1005.6   \n                          6058                      19.4         1008.1   \n                          6065                      20.8         1002.4   \n\nparameterId                          mean_radiation  mean_relative_hum  \\\nto                        stationId                                      \n2011-01-01T00:00:00+00:00 6019                  0.0               76.2   \n                          6031                  0.0               74.5   \n                          6032                  NaN               75.5   \n                          6041                  0.0               68.5   \n                          6049                  NaN               89.2   \n                          6051                  NaN               80.0   \n                          6052                  NaN               87.3   \n                          6056                  0.0               93.8   \n                          6058                  0.0               98.0   \n                          6065                  0.0               83.5   \n\nparameterId                          mean_temp  mean_wind_dir  \\\nto                        stationId                             \n2011-01-01T00:00:00+00:00 6019             4.1          290.0   \n                          6031             3.8          281.0   \n                          6032             3.7          282.0   \n                          6041             4.6          287.0   \n                          6049             3.6          287.0   \n                          6051             4.2            NaN   \n                          6052             4.2          302.0   \n                          6056             4.8          284.0   \n                          6058             4.3          285.0   \n                          6065             3.7          290.0   \n\nparameterId                          mean_wind_speed  min_temp  temp_grass  \\\nto                        stationId                                          \n2011-01-01T00:00:00+00:00 6019                  14.1       3.8         3.3   \n                          6031                  12.7       3.4         2.6   \n                          6032                  13.0       3.2         NaN   \n                          6041                  12.1       4.4         NaN   \n                          6049                  15.1       3.0         NaN   \n                          6051                   NaN       3.8         NaN   \n                          6052                  13.6       4.1         NaN   \n                          6056                  11.8       4.7         4.0   \n                          6058                  13.8       4.1         NaN   \n                          6065                  13.2       3.2         NaN   \n\nparameterId                          temp_soil_10  temp_soil_30  \\\nto                        stationId                               \n2011-01-01T00:00:00+00:00 6019                0.0           0.7   \n                          6031               -0.5          -0.1   \n                          6032                NaN           NaN   \n                          6041                NaN           NaN   \n                          6049                NaN           NaN   \n                          6051                NaN           NaN   \n                          6052                NaN           NaN   \n                          6056               -0.1           0.4   \n                          6058                NaN           NaN   \n                          6065                0.1           0.3   \n\nparameterId                          vapour_pressure_deficit_mean  \nto                        stationId                                \n2011-01-01T00:00:00+00:00 6019                                0.2  \n                          6031                                0.2  \n                          6032                                0.2  \n                          6041                                0.3  \n                          6049                                0.1  \n                          6051                                0.2  \n                          6052                                0.1  \n                          6056                                0.1  \n                          6058                                0.0  \n                          6065                                0.1  ",
      "text/html": "<div>\n<style scoped>\n    .dataframe tbody tr th:only-of-type {\n        vertical-align: middle;\n    }\n\n    .dataframe tbody tr th {\n        vertical-align: top;\n    }\n\n    .dataframe thead th {\n        text-align: right;\n    }\n</style>\n<table border=\"1\" class=\"dataframe\">\n  <thead>\n    <tr style=\"text-align: right;\">\n      <th></th>\n      <th>parameterId</th>\n      <th>acc_precip</th>\n      <th>bright_sunshine</th>\n      <th>leaf_moisture</th>\n      <th>max_temp_w_date</th>\n      <th>max_wind_speed_10min</th>\n      <th>max_wind_speed_3sec</th>\n      <th>mean_pressure</th>\n      <th>mean_radiation</th>\n      <th>mean_relative_hum</th>\n      <th>mean_temp</th>\n      <th>mean_wind_dir</th>\n      <th>mean_wind_speed</th>\n      <th>min_temp</th>\n      <th>temp_grass</th>\n      <th>temp_soil_10</th>\n      <th>temp_soil_30</th>\n      <th>vapour_pressure_deficit_mean</th>\n    </tr>\n    <tr>\n      <th>to</th>\n      <th>stationId</th>\n      <th></th>\n      <th></th>\n      <th></th>\n      <th></th>\n      <th></th>\n      <th></th>\n      <th></th>\n      <th></th>\n      <th></th>\n      <th></th>\n      <th></th>\n      <th></th>\n      <th></th>\n      <th></th>\n      <th></th>\n      <th></th>\n      <th></th>\n    </tr>\n  </thead>\n  <tbody>\n    <tr>\n      <th rowspan=\"10\" valign=\"top\">2011-01-01T00:00:00+00:00</th>\n      <th>6019</th>\n      <td>0.0</td>\n      <td>0.0</td>\n      <td>26.0</td>\n      <td>4.5</td>\n      <td>14.4</td>\n      <td>20.3</td>\n      <td>NaN</td>\n      <td>0.0</td>\n      <td>76.2</td>\n      <td>4.1</td>\n      <td>290.0</td>\n      <td>14.1</td>\n      <td>3.8</td>\n      <td>3.3</td>\n      <td>0.0</td>\n      <td>0.7</td>\n      <td>0.2</td>\n    </tr>\n    <tr>\n      <th>6031</th>\n      <td>0.0</td>\n      <td>0.0</td>\n      <td>0.0</td>\n      <td>4.2</td>\n      <td>14.0</td>\n      <td>20.9</td>\n      <td>NaN</td>\n      <td>0.0</td>\n      <td>74.5</td>\n      <td>3.8</td>\n      <td>281.0</td>\n      <td>12.7</td>\n      <td>3.4</td>\n      <td>2.6</td>\n      <td>-0.5</td>\n      <td>-0.1</td>\n      <td>0.2</td>\n    </tr>\n    <tr>\n      <th>6032</th>\n      <td>NaN</td>\n      <td>NaN</td>\n      <td>NaN</td>\n      <td>4.0</td>\n      <td>14.1</td>\n      <td>19.2</td>\n      <td>997.3</td>\n      <td>NaN</td>\n      <td>75.5</td>\n      <td>3.7</td>\n      <td>282.0</td>\n      <td>13.0</td>\n      <td>3.2</td>\n      <td>NaN</td>\n      <td>NaN</td>\n      <td>NaN</td>\n      <td>0.2</td>\n    </tr>\n    <tr>\n      <th>6041</th>\n      <td>0.0</td>\n      <td>0.0</td>\n      <td>NaN</td>\n      <td>4.8</td>\n      <td>12.7</td>\n      <td>17.7</td>\n      <td>995.3</td>\n      <td>0.0</td>\n      <td>68.5</td>\n      <td>4.6</td>\n      <td>287.0</td>\n      <td>12.1</td>\n      <td>4.4</td>\n      <td>NaN</td>\n      <td>NaN</td>\n      <td>NaN</td>\n      <td>0.3</td>\n    </tr>\n    <tr>\n      <th>6049</th>\n      <td>NaN</td>\n      <td>NaN</td>\n      <td>NaN</td>\n      <td>4.0</td>\n      <td>18.7</td>\n      <td>27.4</td>\n      <td>1001.3</td>\n      <td>NaN</td>\n      <td>89.2</td>\n      <td>3.6</td>\n      <td>287.0</td>\n      <td>15.1</td>\n      <td>3.0</td>\n      <td>NaN</td>\n      <td>NaN</td>\n      <td>NaN</td>\n      <td>0.1</td>\n    </tr>\n    <tr>\n      <th>6051</th>\n      <td>0.0</td>\n      <td>NaN</td>\n      <td>NaN</td>\n      <td>4.4</td>\n      <td>NaN</td>\n      <td>NaN</td>\n      <td>NaN</td>\n      <td>NaN</td>\n      <td>80.0</td>\n      <td>4.2</td>\n      <td>NaN</td>\n      <td>NaN</td>\n      <td>3.8</td>\n      <td>NaN</td>\n      <td>NaN</td>\n      <td>NaN</td>\n      <td>0.2</td>\n    </tr>\n    <tr>\n      <th>6052</th>\n      <td>0.0</td>\n      <td>NaN</td>\n      <td>NaN</td>\n      <td>4.7</td>\n      <td>15.1</td>\n      <td>20.7</td>\n      <td>1005.9</td>\n      <td>NaN</td>\n      <td>87.3</td>\n      <td>4.2</td>\n      <td>302.0</td>\n      <td>13.6</td>\n      <td>4.1</td>\n      <td>NaN</td>\n      <td>NaN</td>\n      <td>NaN</td>\n      <td>0.1</td>\n    </tr>\n    <tr>\n      <th>6056</th>\n      <td>NaN</td>\n      <td>0.0</td>\n      <td>0.0</td>\n      <td>5.1</td>\n      <td>12.8</td>\n      <td>24.9</td>\n      <td>1005.6</td>\n      <td>0.0</td>\n      <td>93.8</td>\n      <td>4.8</td>\n      <td>284.0</td>\n      <td>11.8</td>\n      <td>4.7</td>\n      <td>4.0</td>\n      <td>-0.1</td>\n      <td>0.4</td>\n      <td>0.1</td>\n    </tr>\n    <tr>\n      <th>6058</th>\n      <td>0.0</td>\n      <td>0.0</td>\n      <td>NaN</td>\n      <td>4.6</td>\n      <td>14.5</td>\n      <td>19.4</td>\n      <td>1008.1</td>\n      <td>0.0</td>\n      <td>98.0</td>\n      <td>4.3</td>\n      <td>285.0</td>\n      <td>13.8</td>\n      <td>4.1</td>\n      <td>NaN</td>\n      <td>NaN</td>\n      <td>NaN</td>\n      <td>0.0</td>\n    </tr>\n    <tr>\n      <th>6065</th>\n      <td>0.3</td>\n      <td>0.0</td>\n      <td>NaN</td>\n      <td>4.6</td>\n      <td>14.3</td>\n      <td>20.8</td>\n      <td>1002.4</td>\n      <td>0.0</td>\n      <td>83.5</td>\n      <td>3.7</td>\n      <td>290.0</td>\n      <td>13.2</td>\n      <td>3.2</td>\n      <td>NaN</td>\n      <td>0.1</td>\n      <td>0.3</td>\n      <td>0.1</td>\n    </tr>\n  </tbody>\n</table>\n</div>"
     },
     "execution_count": 61,
     "metadata": {},
     "output_type": "execute_result"
    }
   ],
   "source": [
    "df_hour_synop_pivot.head(10)"
   ],
   "metadata": {
    "collapsed": false,
    "pycharm": {
     "name": "#%%\n"
    }
   }
  },
  {
   "cell_type": "code",
   "execution_count": 45,
   "outputs": [
    {
     "data": {
      "text/plain": "parameterId\nacc_precip                       1862452\nbright_sunshine                  9333972\nleaf_moisture                   10404510\nmax_temp_w_date                  6655179\nmax_wind_speed_10min             6973417\nmax_wind_speed_3sec              6977038\nmean_pressure                    7351154\nmean_radiation                   9333972\nmean_relative_hum                6577066\nmean_temp                        6655253\nmean_wind_dir                    6974090\nmean_wind_speed                  6973417\nmin_temp                         6655255\ntemp_grass                      10061116\ntemp_soil_10                    10328992\ntemp_soil_30                    10406685\nvapour_pressure_deficit_mean     6655765\ndtype: int64"
     },
     "execution_count": 45,
     "metadata": {},
     "output_type": "execute_result"
    }
   ],
   "source": [
    "df_hour_pivot.isna().sum()"
   ],
   "metadata": {
    "collapsed": false,
    "pycharm": {
     "name": "#%%\n"
    }
   }
  },
  {
   "cell_type": "code",
   "execution_count": 62,
   "outputs": [
    {
     "data": {
      "text/plain": "parameterId\nacc_precip                    0\nmax_wind_speed_10min    6475496\nmean_wind_speed         6475496\ndtype: int64"
     },
     "execution_count": 62,
     "metadata": {},
     "output_type": "execute_result"
    }
   ],
   "source": [
    "df_hour_pluvio_pivot.isna().sum()"
   ],
   "metadata": {
    "collapsed": false,
    "pycharm": {
     "name": "#%%\n"
    }
   }
  },
  {
   "cell_type": "code",
   "execution_count": 63,
   "outputs": [
    {
     "data": {
      "text/plain": "parameterId\nacc_precip                      1862452\nbright_sunshine                 2858067\nleaf_moisture                   3928605\nmax_temp_w_date                  179274\nmax_wind_speed_10min             497921\nmax_wind_speed_3sec              501133\nmean_pressure                    875249\nmean_radiation                  2858067\nmean_relative_hum                101161\nmean_temp                        179348\nmean_wind_dir                    498185\nmean_wind_speed                  497921\nmin_temp                         179350\ntemp_grass                      3585211\ntemp_soil_10                    3853087\ntemp_soil_30                    3930780\nvapour_pressure_deficit_mean     179860\ndtype: int64"
     },
     "execution_count": 63,
     "metadata": {},
     "output_type": "execute_result"
    }
   ],
   "source": [
    "df_hour_synop_pivot.isna().sum()"
   ],
   "metadata": {
    "collapsed": false,
    "pycharm": {
     "name": "#%%\n"
    }
   }
  },
  {
   "cell_type": "code",
   "execution_count": 64,
   "outputs": [],
   "source": [
    "df_hour_synop_pivot.drop(\"acc_precip\",axis=1,inplace=True)\n",
    "df_hour_synop_pivot.drop(\"bright_sunshine\",axis=1,inplace=True)\n",
    "df_hour_synop_pivot.drop(\"leaf_moisture\",axis=1,inplace=True)\n",
    "df_hour_synop_pivot.drop(\"mean_radiation\",axis=1,inplace=True)\n",
    "df_hour_synop_pivot.drop(\"temp_grass\",axis=1,inplace=True)\n",
    "df_hour_synop_pivot.drop(\"temp_soil_10\",axis=1,inplace=True)\n",
    "df_hour_synop_pivot.drop(\"temp_soil_30\",axis=1,inplace=True)"
   ],
   "metadata": {
    "collapsed": false,
    "pycharm": {
     "name": "#%%\n"
    }
   }
  },
  {
   "cell_type": "code",
   "execution_count": 65,
   "outputs": [
    {
     "data": {
      "text/plain": "parameterId\nmax_temp_w_date                 179274\nmax_wind_speed_10min            497921\nmax_wind_speed_3sec             501133\nmean_pressure                   875249\nmean_relative_hum               101161\nmean_temp                       179348\nmean_wind_dir                   498185\nmean_wind_speed                 497921\nmin_temp                        179350\nvapour_pressure_deficit_mean    179860\ndtype: int64"
     },
     "execution_count": 65,
     "metadata": {},
     "output_type": "execute_result"
    }
   ],
   "source": [
    "df_hour_synop_pivot.isna().sum()"
   ],
   "metadata": {
    "collapsed": false,
    "pycharm": {
     "name": "#%%\n"
    }
   }
  },
  {
   "cell_type": "code",
   "execution_count": 66,
   "outputs": [],
   "source": [
    "for i in range(10):\n",
    "    df_hour_synop_pivot[int(len(df_hour_synop_pivot)/10)*i:int(len(df_hour_synop_pivot)/10)*(i+1)].to_csv(\"clean split data/synop_cleaned_\"+str(i)+\".csv\")"
   ],
   "metadata": {
    "collapsed": false,
    "pycharm": {
     "name": "#%%\n"
    }
   }
  },
  {
   "cell_type": "code",
   "execution_count": 67,
   "outputs": [],
   "source": [
    "df_hour_synop_pivot.to_csv(\"synop_hourly_clean.csv\")"
   ],
   "metadata": {
    "collapsed": false,
    "pycharm": {
     "name": "#%%\n"
    }
   }
  },
  {
   "cell_type": "code",
   "execution_count": 46,
   "outputs": [],
   "source": [
    "df_hour_pivot.drop(\"bright_sunshine\",axis=1,inplace=True)\n",
    "df_hour_pivot.drop(\"mean_radiation\",axis=1,inplace=True)\n",
    "df_hour_pivot.drop(\"leaf_moisture\",axis=1,inplace=True)\n",
    "df_hour_pivot.drop(\"temp_grass\",axis=1,inplace=True)\n",
    "df_hour_pivot.drop(\"temp_soil_10\",axis=1,inplace=True)\n",
    "df_hour_pivot.drop(\"temp_soil_30\",axis=1,inplace=True)"
   ],
   "metadata": {
    "collapsed": false,
    "pycharm": {
     "name": "#%%\n"
    }
   }
  },
  {
   "cell_type": "code",
   "execution_count": 47,
   "outputs": [
    {
     "data": {
      "text/plain": "parameterId\nacc_precip                      1862452\nmax_temp_w_date                 6655179\nmax_wind_speed_10min            6973417\nmax_wind_speed_3sec             6977038\nmean_pressure                   7351154\nmean_relative_hum               6577066\nmean_temp                       6655253\nmean_wind_dir                   6974090\nmean_wind_speed                 6973417\nmin_temp                        6655255\nvapour_pressure_deficit_mean    6655765\ndtype: int64"
     },
     "execution_count": 47,
     "metadata": {},
     "output_type": "execute_result"
    }
   ],
   "source": [
    "df_hour_pivot.isna().sum()"
   ],
   "metadata": {
    "collapsed": false,
    "pycharm": {
     "name": "#%%\n"
    }
   }
  },
  {
   "cell_type": "code",
   "execution_count": 37,
   "outputs": [
    {
     "data": {
      "text/plain": "parameterId                          acc_precip  max_temp_w_date  \\\nto                        stationId                                \n2021-04-17T02:00:00+00:00 5009              0.0              NaN   \n                          5031              0.0              NaN   \n                          5065              0.0              NaN   \n                          5075              0.0              NaN   \n                          5081              0.0              NaN   \n...                                         ...              ...   \n2021-04-17T03:00:00+00:00 5185              0.0              NaN   \n                          5202              0.0              NaN   \n                          5205              0.0              NaN   \n                          5220              0.0              NaN   \n                          5225              0.0              NaN   \n\nparameterId                          max_wind_speed_10min  \\\nto                        stationId                         \n2021-04-17T02:00:00+00:00 5009                        NaN   \n                          5031                        NaN   \n                          5065                        NaN   \n                          5075                        NaN   \n                          5081                        NaN   \n...                                                   ...   \n2021-04-17T03:00:00+00:00 5185                        NaN   \n                          5202                        NaN   \n                          5205                        NaN   \n                          5220                        NaN   \n                          5225                        NaN   \n\nparameterId                          max_wind_speed_3sec  mean_pressure  \\\nto                        stationId                                       \n2021-04-17T02:00:00+00:00 5009                       NaN            NaN   \n                          5031                       NaN            NaN   \n                          5065                       NaN            NaN   \n                          5075                       NaN            NaN   \n                          5081                       NaN            NaN   \n...                                                  ...            ...   \n2021-04-17T03:00:00+00:00 5185                       NaN            NaN   \n                          5202                       NaN            NaN   \n                          5205                       NaN            NaN   \n                          5220                       NaN            NaN   \n                          5225                       NaN            NaN   \n\nparameterId                          mean_relative_hum  mean_temp  \\\nto                        stationId                                 \n2021-04-17T02:00:00+00:00 5009                     NaN        NaN   \n                          5031                     NaN        NaN   \n                          5065                     NaN        NaN   \n                          5075                     NaN        NaN   \n                          5081                     NaN        NaN   \n...                                                ...        ...   \n2021-04-17T03:00:00+00:00 5185                     NaN        NaN   \n                          5202                     NaN        NaN   \n                          5205                     NaN        NaN   \n                          5220                     NaN        NaN   \n                          5225                     NaN        NaN   \n\nparameterId                          mean_wind_dir  mean_wind_speed  min_temp  \\\nto                        stationId                                             \n2021-04-17T02:00:00+00:00 5009                 NaN              NaN       NaN   \n                          5031                 NaN              NaN       NaN   \n                          5065                 NaN              NaN       NaN   \n                          5075                 NaN              NaN       NaN   \n                          5081                 NaN              NaN       NaN   \n...                                            ...              ...       ...   \n2021-04-17T03:00:00+00:00 5185                 NaN              NaN       NaN   \n                          5202                 NaN              NaN       NaN   \n                          5205                 NaN              NaN       NaN   \n                          5220                 NaN              NaN       NaN   \n                          5225                 NaN              NaN       NaN   \n\nparameterId                          vapour_pressure_deficit_mean  \nto                        stationId                                \n2021-04-17T02:00:00+00:00 5009                                NaN  \n                          5031                                NaN  \n                          5065                                NaN  \n                          5075                                NaN  \n                          5081                                NaN  \n...                                                           ...  \n2021-04-17T03:00:00+00:00 5185                                NaN  \n                          5202                                NaN  \n                          5205                                NaN  \n                          5220                                NaN  \n                          5225                                NaN  \n\n[150 rows x 11 columns]",
      "text/html": "<div>\n<style scoped>\n    .dataframe tbody tr th:only-of-type {\n        vertical-align: middle;\n    }\n\n    .dataframe tbody tr th {\n        vertical-align: top;\n    }\n\n    .dataframe thead th {\n        text-align: right;\n    }\n</style>\n<table border=\"1\" class=\"dataframe\">\n  <thead>\n    <tr style=\"text-align: right;\">\n      <th></th>\n      <th>parameterId</th>\n      <th>acc_precip</th>\n      <th>max_temp_w_date</th>\n      <th>max_wind_speed_10min</th>\n      <th>max_wind_speed_3sec</th>\n      <th>mean_pressure</th>\n      <th>mean_relative_hum</th>\n      <th>mean_temp</th>\n      <th>mean_wind_dir</th>\n      <th>mean_wind_speed</th>\n      <th>min_temp</th>\n      <th>vapour_pressure_deficit_mean</th>\n    </tr>\n    <tr>\n      <th>to</th>\n      <th>stationId</th>\n      <th></th>\n      <th></th>\n      <th></th>\n      <th></th>\n      <th></th>\n      <th></th>\n      <th></th>\n      <th></th>\n      <th></th>\n      <th></th>\n      <th></th>\n    </tr>\n  </thead>\n  <tbody>\n    <tr>\n      <th rowspan=\"5\" valign=\"top\">2021-04-17T02:00:00+00:00</th>\n      <th>5009</th>\n      <td>0.0</td>\n      <td>NaN</td>\n      <td>NaN</td>\n      <td>NaN</td>\n      <td>NaN</td>\n      <td>NaN</td>\n      <td>NaN</td>\n      <td>NaN</td>\n      <td>NaN</td>\n      <td>NaN</td>\n      <td>NaN</td>\n    </tr>\n    <tr>\n      <th>5031</th>\n      <td>0.0</td>\n      <td>NaN</td>\n      <td>NaN</td>\n      <td>NaN</td>\n      <td>NaN</td>\n      <td>NaN</td>\n      <td>NaN</td>\n      <td>NaN</td>\n      <td>NaN</td>\n      <td>NaN</td>\n      <td>NaN</td>\n    </tr>\n    <tr>\n      <th>5065</th>\n      <td>0.0</td>\n      <td>NaN</td>\n      <td>NaN</td>\n      <td>NaN</td>\n      <td>NaN</td>\n      <td>NaN</td>\n      <td>NaN</td>\n      <td>NaN</td>\n      <td>NaN</td>\n      <td>NaN</td>\n      <td>NaN</td>\n    </tr>\n    <tr>\n      <th>5075</th>\n      <td>0.0</td>\n      <td>NaN</td>\n      <td>NaN</td>\n      <td>NaN</td>\n      <td>NaN</td>\n      <td>NaN</td>\n      <td>NaN</td>\n      <td>NaN</td>\n      <td>NaN</td>\n      <td>NaN</td>\n      <td>NaN</td>\n    </tr>\n    <tr>\n      <th>5081</th>\n      <td>0.0</td>\n      <td>NaN</td>\n      <td>NaN</td>\n      <td>NaN</td>\n      <td>NaN</td>\n      <td>NaN</td>\n      <td>NaN</td>\n      <td>NaN</td>\n      <td>NaN</td>\n      <td>NaN</td>\n      <td>NaN</td>\n    </tr>\n    <tr>\n      <th>...</th>\n      <th>...</th>\n      <td>...</td>\n      <td>...</td>\n      <td>...</td>\n      <td>...</td>\n      <td>...</td>\n      <td>...</td>\n      <td>...</td>\n      <td>...</td>\n      <td>...</td>\n      <td>...</td>\n      <td>...</td>\n    </tr>\n    <tr>\n      <th rowspan=\"5\" valign=\"top\">2021-04-17T03:00:00+00:00</th>\n      <th>5185</th>\n      <td>0.0</td>\n      <td>NaN</td>\n      <td>NaN</td>\n      <td>NaN</td>\n      <td>NaN</td>\n      <td>NaN</td>\n      <td>NaN</td>\n      <td>NaN</td>\n      <td>NaN</td>\n      <td>NaN</td>\n      <td>NaN</td>\n    </tr>\n    <tr>\n      <th>5202</th>\n      <td>0.0</td>\n      <td>NaN</td>\n      <td>NaN</td>\n      <td>NaN</td>\n      <td>NaN</td>\n      <td>NaN</td>\n      <td>NaN</td>\n      <td>NaN</td>\n      <td>NaN</td>\n      <td>NaN</td>\n      <td>NaN</td>\n    </tr>\n    <tr>\n      <th>5205</th>\n      <td>0.0</td>\n      <td>NaN</td>\n      <td>NaN</td>\n      <td>NaN</td>\n      <td>NaN</td>\n      <td>NaN</td>\n      <td>NaN</td>\n      <td>NaN</td>\n      <td>NaN</td>\n      <td>NaN</td>\n      <td>NaN</td>\n    </tr>\n    <tr>\n      <th>5220</th>\n      <td>0.0</td>\n      <td>NaN</td>\n      <td>NaN</td>\n      <td>NaN</td>\n      <td>NaN</td>\n      <td>NaN</td>\n      <td>NaN</td>\n      <td>NaN</td>\n      <td>NaN</td>\n      <td>NaN</td>\n      <td>NaN</td>\n    </tr>\n    <tr>\n      <th>5225</th>\n      <td>0.0</td>\n      <td>NaN</td>\n      <td>NaN</td>\n      <td>NaN</td>\n      <td>NaN</td>\n      <td>NaN</td>\n      <td>NaN</td>\n      <td>NaN</td>\n      <td>NaN</td>\n      <td>NaN</td>\n      <td>NaN</td>\n    </tr>\n  </tbody>\n</table>\n<p>150 rows × 11 columns</p>\n</div>"
     },
     "execution_count": 37,
     "metadata": {},
     "output_type": "execute_result"
    }
   ],
   "source": [
    "df_hour_pivot.head(150)"
   ],
   "metadata": {
    "collapsed": false,
    "pycharm": {
     "name": "#%%\n"
    }
   }
  },
  {
   "cell_type": "code",
   "execution_count": null,
   "outputs": [],
   "source": [],
   "metadata": {
    "collapsed": false,
    "pycharm": {
     "name": "#%%\n"
    }
   }
  }
 ],
 "metadata": {
  "kernelspec": {
   "display_name": "Python 3",
   "language": "python",
   "name": "python3"
  },
  "language_info": {
   "codemirror_mode": {
    "name": "ipython",
    "version": 2
   },
   "file_extension": ".py",
   "mimetype": "text/x-python",
   "name": "python",
   "nbconvert_exporter": "python",
   "pygments_lexer": "ipython2",
   "version": "2.7.6"
  }
 },
 "nbformat": 4,
 "nbformat_minor": 0
}