{
 "cells": [
  {
   "cell_type": "code",
   "execution_count": 1,
   "metadata": {
    "collapsed": true
   },
   "outputs": [],
   "source": [
    "import numpy as np\n",
    "\n",
    "import pandas as pd"
   ]
  },
  {
   "cell_type": "code",
   "execution_count": 17,
   "outputs": [],
   "source": [
    "df = pd.read_csv(\"country_all.csv\")"
   ],
   "metadata": {
    "collapsed": false,
    "pycharm": {
     "name": "#%%\n"
    }
   }
  },
  {
   "cell_type": "code",
   "execution_count": 18,
   "outputs": [
    {
     "data": {
      "text/plain": "   Unnamed: 0 geometry_type         coordinates                calculatedAt  \\\n0           0         Point  [11.7644, 55.9594]  2018-11-21T11:55:28.157000   \n1           1         Point  [11.7644, 55.9594]  2016-11-17T15:43:15.559000   \n2           2         Point  [11.7644, 55.9594]  2016-11-17T14:55:15.433000   \n3           3         Point  [11.7644, 55.9594]  2018-01-04T12:08:57.949000   \n4           4         Point  [11.7644, 55.9594]  2016-11-17T15:57:27.574000   \n\n                            created                              from  \\\n0  2021-10-25T09:22:38.182857+00:00  2014-12-09T00:00:00.001000+01:00   \n1  2021-10-25T09:22:38.168998+00:00         2014-12-08T23:00:00+00:00   \n2  2021-10-25T09:22:38.156281+00:00         2014-12-08T23:00:00+00:00   \n3  2021-10-25T09:22:38.172761+00:00  2014-12-09T00:00:00.001000+01:00   \n4  2021-10-25T09:22:38.171461+00:00  2014-12-09T00:00:00.001000+01:00   \n\n                          to     parameterId qcStatus timeResolution   value  \\\n0  2014-12-10T00:00:00+01:00  no_summer_days   manual            day     0.0   \n1  2014-12-09T00:00:00+00:00    temp_soil_30     none           hour     4.9   \n2  2014-12-09T00:00:00+00:00      temp_grass     none           hour     0.1   \n3  2014-12-10T00:00:00+01:00      acc_precip   manual            day     0.7   \n4  2014-12-10T00:00:00+01:00   mean_pressure   manual            day  1018.9   \n\n      type                                    ID  \n0  Feature  2027729c-c353-71eb-cb26-66dd48ec6fae  \n1  Feature  37dad45e-41a9-b3f6-4ace-58e609ffa49e  \n2  Feature  395c0cb3-61b2-82c8-3f7e-e460dbacda92  \n3  Feature  451b54c8-4e88-9d60-660c-394dee202857  \n4  Feature  4cf4c8da-3c91-1a1b-1dd1-0f7c40471da2  ",
      "text/html": "<div>\n<style scoped>\n    .dataframe tbody tr th:only-of-type {\n        vertical-align: middle;\n    }\n\n    .dataframe tbody tr th {\n        vertical-align: top;\n    }\n\n    .dataframe thead th {\n        text-align: right;\n    }\n</style>\n<table border=\"1\" class=\"dataframe\">\n  <thead>\n    <tr style=\"text-align: right;\">\n      <th></th>\n      <th>Unnamed: 0</th>\n      <th>geometry_type</th>\n      <th>coordinates</th>\n      <th>calculatedAt</th>\n      <th>created</th>\n      <th>from</th>\n      <th>to</th>\n      <th>parameterId</th>\n      <th>qcStatus</th>\n      <th>timeResolution</th>\n      <th>value</th>\n      <th>type</th>\n      <th>ID</th>\n    </tr>\n  </thead>\n  <tbody>\n    <tr>\n      <th>0</th>\n      <td>0</td>\n      <td>Point</td>\n      <td>[11.7644, 55.9594]</td>\n      <td>2018-11-21T11:55:28.157000</td>\n      <td>2021-10-25T09:22:38.182857+00:00</td>\n      <td>2014-12-09T00:00:00.001000+01:00</td>\n      <td>2014-12-10T00:00:00+01:00</td>\n      <td>no_summer_days</td>\n      <td>manual</td>\n      <td>day</td>\n      <td>0.0</td>\n      <td>Feature</td>\n      <td>2027729c-c353-71eb-cb26-66dd48ec6fae</td>\n    </tr>\n    <tr>\n      <th>1</th>\n      <td>1</td>\n      <td>Point</td>\n      <td>[11.7644, 55.9594]</td>\n      <td>2016-11-17T15:43:15.559000</td>\n      <td>2021-10-25T09:22:38.168998+00:00</td>\n      <td>2014-12-08T23:00:00+00:00</td>\n      <td>2014-12-09T00:00:00+00:00</td>\n      <td>temp_soil_30</td>\n      <td>none</td>\n      <td>hour</td>\n      <td>4.9</td>\n      <td>Feature</td>\n      <td>37dad45e-41a9-b3f6-4ace-58e609ffa49e</td>\n    </tr>\n    <tr>\n      <th>2</th>\n      <td>2</td>\n      <td>Point</td>\n      <td>[11.7644, 55.9594]</td>\n      <td>2016-11-17T14:55:15.433000</td>\n      <td>2021-10-25T09:22:38.156281+00:00</td>\n      <td>2014-12-08T23:00:00+00:00</td>\n      <td>2014-12-09T00:00:00+00:00</td>\n      <td>temp_grass</td>\n      <td>none</td>\n      <td>hour</td>\n      <td>0.1</td>\n      <td>Feature</td>\n      <td>395c0cb3-61b2-82c8-3f7e-e460dbacda92</td>\n    </tr>\n    <tr>\n      <th>3</th>\n      <td>3</td>\n      <td>Point</td>\n      <td>[11.7644, 55.9594]</td>\n      <td>2018-01-04T12:08:57.949000</td>\n      <td>2021-10-25T09:22:38.172761+00:00</td>\n      <td>2014-12-09T00:00:00.001000+01:00</td>\n      <td>2014-12-10T00:00:00+01:00</td>\n      <td>acc_precip</td>\n      <td>manual</td>\n      <td>day</td>\n      <td>0.7</td>\n      <td>Feature</td>\n      <td>451b54c8-4e88-9d60-660c-394dee202857</td>\n    </tr>\n    <tr>\n      <th>4</th>\n      <td>4</td>\n      <td>Point</td>\n      <td>[11.7644, 55.9594]</td>\n      <td>2016-11-17T15:57:27.574000</td>\n      <td>2021-10-25T09:22:38.171461+00:00</td>\n      <td>2014-12-09T00:00:00.001000+01:00</td>\n      <td>2014-12-10T00:00:00+01:00</td>\n      <td>mean_pressure</td>\n      <td>manual</td>\n      <td>day</td>\n      <td>1018.9</td>\n      <td>Feature</td>\n      <td>4cf4c8da-3c91-1a1b-1dd1-0f7c40471da2</td>\n    </tr>\n  </tbody>\n</table>\n</div>"
     },
     "execution_count": 18,
     "metadata": {},
     "output_type": "execute_result"
    }
   ],
   "source": [
    "df.head()"
   ],
   "metadata": {
    "collapsed": false,
    "pycharm": {
     "name": "#%%\n"
    }
   }
  },
  {
   "cell_type": "code",
   "execution_count": 19,
   "outputs": [],
   "source": [
    "df.drop(\"Unnamed: 0\",axis=1,inplace=True)\n",
    "df.drop(\"geometry_type\",axis=1,inplace=True)\n",
    "df.drop(\"coordinates\",axis=1,inplace=True)\n",
    "df.drop(\"calculatedAt\",axis=1,inplace=True)\n",
    "df.drop(\"created\",axis=1,inplace=True)\n",
    "df.drop(\"from\",axis=1,inplace=True)\n",
    "df.drop(\"ID\",axis=1,inplace=True)\n",
    "df.drop(\"type\",axis=1,inplace=True)\n",
    "df.drop(\"qcStatus\",axis=1,inplace=True)"
   ],
   "metadata": {
    "collapsed": false,
    "pycharm": {
     "name": "#%%\n"
    }
   }
  },
  {
   "cell_type": "code",
   "execution_count": 20,
   "outputs": [],
   "source": [
    "df.sort_values(by=\"to\",inplace=True)"
   ],
   "metadata": {
    "collapsed": false,
    "pycharm": {
     "name": "#%%\n"
    }
   }
  },
  {
   "cell_type": "code",
   "execution_count": 21,
   "outputs": [
    {
     "data": {
      "text/plain": "                               to          parameterId timeResolution  value\n967388  2011-01-01T00:00:00+00:00  max_wind_speed_3sec           hour   27.4\n967449  2011-01-01T00:00:00+00:00             min_temp           hour    1.4\n967446  2011-01-01T00:00:00+00:00      bright_sunshine           hour    0.0\n967442  2011-01-01T00:00:00+00:00        mean_wind_dir           hour  269.0\n967457  2011-01-01T00:00:00+00:00           acc_precip           hour    0.2",
      "text/html": "<div>\n<style scoped>\n    .dataframe tbody tr th:only-of-type {\n        vertical-align: middle;\n    }\n\n    .dataframe tbody tr th {\n        vertical-align: top;\n    }\n\n    .dataframe thead th {\n        text-align: right;\n    }\n</style>\n<table border=\"1\" class=\"dataframe\">\n  <thead>\n    <tr style=\"text-align: right;\">\n      <th></th>\n      <th>to</th>\n      <th>parameterId</th>\n      <th>timeResolution</th>\n      <th>value</th>\n    </tr>\n  </thead>\n  <tbody>\n    <tr>\n      <th>967388</th>\n      <td>2011-01-01T00:00:00+00:00</td>\n      <td>max_wind_speed_3sec</td>\n      <td>hour</td>\n      <td>27.4</td>\n    </tr>\n    <tr>\n      <th>967449</th>\n      <td>2011-01-01T00:00:00+00:00</td>\n      <td>min_temp</td>\n      <td>hour</td>\n      <td>1.4</td>\n    </tr>\n    <tr>\n      <th>967446</th>\n      <td>2011-01-01T00:00:00+00:00</td>\n      <td>bright_sunshine</td>\n      <td>hour</td>\n      <td>0.0</td>\n    </tr>\n    <tr>\n      <th>967442</th>\n      <td>2011-01-01T00:00:00+00:00</td>\n      <td>mean_wind_dir</td>\n      <td>hour</td>\n      <td>269.0</td>\n    </tr>\n    <tr>\n      <th>967457</th>\n      <td>2011-01-01T00:00:00+00:00</td>\n      <td>acc_precip</td>\n      <td>hour</td>\n      <td>0.2</td>\n    </tr>\n  </tbody>\n</table>\n</div>"
     },
     "execution_count": 21,
     "metadata": {},
     "output_type": "execute_result"
    }
   ],
   "source": [
    "df.head()"
   ],
   "metadata": {
    "collapsed": false,
    "pycharm": {
     "name": "#%%\n"
    }
   }
  },
  {
   "cell_type": "code",
   "execution_count": 22,
   "outputs": [
    {
     "data": {
      "text/plain": "                                to         parameterId timeResolution  value\n382986   2023-01-01T00:00:00+01:00     mean_wind_speed           year    5.1\n382987   2023-01-01T00:00:00+01:00  no_tropical_nights           year    0.0\n382991   2023-01-01T00:00:00+01:00         no_ice_days           year    0.0\n382996   2023-01-01T00:00:00+01:00            min_temp           year   -8.7\n1007131  2023-01-01T06:00:00+00:00          snow_depth           year   12.0",
      "text/html": "<div>\n<style scoped>\n    .dataframe tbody tr th:only-of-type {\n        vertical-align: middle;\n    }\n\n    .dataframe tbody tr th {\n        vertical-align: top;\n    }\n\n    .dataframe thead th {\n        text-align: right;\n    }\n</style>\n<table border=\"1\" class=\"dataframe\">\n  <thead>\n    <tr style=\"text-align: right;\">\n      <th></th>\n      <th>to</th>\n      <th>parameterId</th>\n      <th>timeResolution</th>\n      <th>value</th>\n    </tr>\n  </thead>\n  <tbody>\n    <tr>\n      <th>382986</th>\n      <td>2023-01-01T00:00:00+01:00</td>\n      <td>mean_wind_speed</td>\n      <td>year</td>\n      <td>5.1</td>\n    </tr>\n    <tr>\n      <th>382987</th>\n      <td>2023-01-01T00:00:00+01:00</td>\n      <td>no_tropical_nights</td>\n      <td>year</td>\n      <td>0.0</td>\n    </tr>\n    <tr>\n      <th>382991</th>\n      <td>2023-01-01T00:00:00+01:00</td>\n      <td>no_ice_days</td>\n      <td>year</td>\n      <td>0.0</td>\n    </tr>\n    <tr>\n      <th>382996</th>\n      <td>2023-01-01T00:00:00+01:00</td>\n      <td>min_temp</td>\n      <td>year</td>\n      <td>-8.7</td>\n    </tr>\n    <tr>\n      <th>1007131</th>\n      <td>2023-01-01T06:00:00+00:00</td>\n      <td>snow_depth</td>\n      <td>year</td>\n      <td>12.0</td>\n    </tr>\n  </tbody>\n</table>\n</div>"
     },
     "execution_count": 22,
     "metadata": {},
     "output_type": "execute_result"
    }
   ],
   "source": [
    "df.tail()"
   ],
   "metadata": {
    "collapsed": false,
    "pycharm": {
     "name": "#%%\n"
    }
   }
  },
  {
   "cell_type": "code",
   "execution_count": 23,
   "outputs": [],
   "source": [
    "df.to_csv(\"Countries_processed.csv\")"
   ],
   "metadata": {
    "collapsed": false,
    "pycharm": {
     "name": "#%%\n"
    }
   }
  },
  {
   "cell_type": "code",
   "execution_count": 13,
   "outputs": [],
   "source": [
    "df=pd.read_csv(\"Countries_processed.csv\")"
   ],
   "metadata": {
    "collapsed": false,
    "pycharm": {
     "name": "#%%\n"
    }
   }
  },
  {
   "cell_type": "code",
   "execution_count": 15,
   "outputs": [],
   "source": [
    "df.drop(\"Unnamed: 0\",axis=1,inplace=True)"
   ],
   "metadata": {
    "collapsed": false,
    "pycharm": {
     "name": "#%%\n"
    }
   }
  },
  {
   "cell_type": "code",
   "execution_count": 18,
   "outputs": [
    {
     "data": {
      "text/plain": "array(['hour', 'day', 'month', 'year'], dtype=object)"
     },
     "execution_count": 18,
     "metadata": {},
     "output_type": "execute_result"
    }
   ],
   "source": [
    "df.timeResolution.unique()"
   ],
   "metadata": {
    "collapsed": false,
    "pycharm": {
     "name": "#%%\n"
    }
   }
  },
  {
   "cell_type": "code",
   "execution_count": 19,
   "outputs": [
    {
     "data": {
      "text/plain": "                                to          parameterId timeResolution  value\n0        2011-01-01T00:00:00+00:00  max_wind_speed_3sec           hour   27.4\n1        2011-01-01T00:00:00+00:00             min_temp           hour    1.4\n2        2011-01-01T00:00:00+00:00      bright_sunshine           hour    0.0\n3        2011-01-01T00:00:00+00:00        mean_wind_dir           hour  269.0\n4        2011-01-01T00:00:00+00:00           acc_precip           hour    0.2\n...                            ...                  ...            ...    ...\n1672686  2023-01-01T00:00:00+01:00      mean_wind_speed           year    5.1\n1672687  2023-01-01T00:00:00+01:00   no_tropical_nights           year    0.0\n1672688  2023-01-01T00:00:00+01:00          no_ice_days           year    0.0\n1672689  2023-01-01T00:00:00+01:00             min_temp           year   -8.7\n1672690  2023-01-01T06:00:00+00:00           snow_depth           year   12.0\n\n[1672691 rows x 4 columns]",
      "text/html": "<div>\n<style scoped>\n    .dataframe tbody tr th:only-of-type {\n        vertical-align: middle;\n    }\n\n    .dataframe tbody tr th {\n        vertical-align: top;\n    }\n\n    .dataframe thead th {\n        text-align: right;\n    }\n</style>\n<table border=\"1\" class=\"dataframe\">\n  <thead>\n    <tr style=\"text-align: right;\">\n      <th></th>\n      <th>to</th>\n      <th>parameterId</th>\n      <th>timeResolution</th>\n      <th>value</th>\n    </tr>\n  </thead>\n  <tbody>\n    <tr>\n      <th>0</th>\n      <td>2011-01-01T00:00:00+00:00</td>\n      <td>max_wind_speed_3sec</td>\n      <td>hour</td>\n      <td>27.4</td>\n    </tr>\n    <tr>\n      <th>1</th>\n      <td>2011-01-01T00:00:00+00:00</td>\n      <td>min_temp</td>\n      <td>hour</td>\n      <td>1.4</td>\n    </tr>\n    <tr>\n      <th>2</th>\n      <td>2011-01-01T00:00:00+00:00</td>\n      <td>bright_sunshine</td>\n      <td>hour</td>\n      <td>0.0</td>\n    </tr>\n    <tr>\n      <th>3</th>\n      <td>2011-01-01T00:00:00+00:00</td>\n      <td>mean_wind_dir</td>\n      <td>hour</td>\n      <td>269.0</td>\n    </tr>\n    <tr>\n      <th>4</th>\n      <td>2011-01-01T00:00:00+00:00</td>\n      <td>acc_precip</td>\n      <td>hour</td>\n      <td>0.2</td>\n    </tr>\n    <tr>\n      <th>...</th>\n      <td>...</td>\n      <td>...</td>\n      <td>...</td>\n      <td>...</td>\n    </tr>\n    <tr>\n      <th>1672686</th>\n      <td>2023-01-01T00:00:00+01:00</td>\n      <td>mean_wind_speed</td>\n      <td>year</td>\n      <td>5.1</td>\n    </tr>\n    <tr>\n      <th>1672687</th>\n      <td>2023-01-01T00:00:00+01:00</td>\n      <td>no_tropical_nights</td>\n      <td>year</td>\n      <td>0.0</td>\n    </tr>\n    <tr>\n      <th>1672688</th>\n      <td>2023-01-01T00:00:00+01:00</td>\n      <td>no_ice_days</td>\n      <td>year</td>\n      <td>0.0</td>\n    </tr>\n    <tr>\n      <th>1672689</th>\n      <td>2023-01-01T00:00:00+01:00</td>\n      <td>min_temp</td>\n      <td>year</td>\n      <td>-8.7</td>\n    </tr>\n    <tr>\n      <th>1672690</th>\n      <td>2023-01-01T06:00:00+00:00</td>\n      <td>snow_depth</td>\n      <td>year</td>\n      <td>12.0</td>\n    </tr>\n  </tbody>\n</table>\n<p>1672691 rows × 4 columns</p>\n</div>"
     },
     "execution_count": 19,
     "metadata": {},
     "output_type": "execute_result"
    }
   ],
   "source": [
    "df"
   ],
   "metadata": {
    "collapsed": false,
    "pycharm": {
     "name": "#%%\n"
    }
   }
  },
  {
   "cell_type": "code",
   "execution_count": 20,
   "outputs": [],
   "source": [
    "df_hour = df.loc[df[\"timeResolution\"]==\"hour\"]\n",
    "df_day = df.loc[df[\"timeResolution\"]==\"day\"]\n",
    "df_month = df.loc[df[\"timeResolution\"]==\"month\"]\n",
    "df_year = df.loc[df[\"timeResolution\"]==\"year\"]"
   ],
   "metadata": {
    "collapsed": false,
    "pycharm": {
     "name": "#%%\n"
    }
   }
  },
  {
   "cell_type": "code",
   "execution_count": 21,
   "outputs": [
    {
     "data": {
      "text/plain": "array(['max_wind_speed_3sec', 'min_temp', 'bright_sunshine',\n       'mean_wind_dir', 'acc_precip', 'mean_relative_hum',\n       'mean_wind_speed', 'max_wind_speed_10min', 'mean_temp',\n       'max_temp_w_date', 'mean_pressure', 'mean_radiation',\n       'temp_soil_10', 'temp_grass', 'temp_soil_30', 'mean_cloud_cover',\n       'vapour_pressure_deficit_mean', 'leaf_moisture'], dtype=object)"
     },
     "execution_count": 21,
     "metadata": {},
     "output_type": "execute_result"
    }
   ],
   "source": [
    "df_hour.parameterId.unique()"
   ],
   "metadata": {
    "collapsed": false,
    "pycharm": {
     "name": "#%%\n"
    }
   }
  },
  {
   "cell_type": "code",
   "execution_count": 22,
   "outputs": [
    {
     "data": {
      "text/plain": "array(['mean_temp', 'bright_sunshine', 'no_frost_days', 'acc_precip',\n       'no_days_acc_precip_1', 'drought_index', 'no_days_acc_precip_01',\n       'acc_heating_degree_days_17', 'max_wind_speed_3sec',\n       'mean_wind_dir', 'mean_pressure', 'no_summer_days',\n       'mean_wind_speed', 'mean_relative_hum', 'min_temp',\n       'max_temp_w_date', 'pot_evaporation_penman',\n       'no_days_acc_precip_10', 'no_tropical_nights',\n       'corrected_acc_precip', 'max_wind_speed_10min',\n       'mean_daily_max_temp', 'max_precip_30m', 'pot_evaporation_makkink',\n       'no_ice_days', 'snow_depth', 'mean_radiation', 'temp_soil_30',\n       'temp_soil_10', 'temp_grass', 'mean_cloud_cover',\n       'vapour_pressure_deficit_mean', 'leaf_moisture', 'no_cold_days',\n       'mean_daily_min_temp'], dtype=object)"
     },
     "execution_count": 22,
     "metadata": {},
     "output_type": "execute_result"
    }
   ],
   "source": [
    "df_day.parameterId.unique()"
   ],
   "metadata": {
    "collapsed": false,
    "pycharm": {
     "name": "#%%\n"
    }
   }
  },
  {
   "cell_type": "code",
   "execution_count": 23,
   "outputs": [
    {
     "data": {
      "text/plain": "array(['pot_evaporation_penman', 'mean_daily_max_temp', 'no_summer_days',\n       'max_wind_speed_10min', 'max_precip_30m', 'min_temp', 'mean_temp',\n       'max_temp_w_date', 'mean_wind_dir', 'max_wind_speed_3sec',\n       'mean_wind_speed', 'pot_evaporation_makkink', 'no_frost_days',\n       'corrected_acc_precip', 'acc_heating_degree_days_17',\n       'mean_relative_hum', 'bright_sunshine', 'acc_precip',\n       'mean_pressure', 'mean_radiation', 'no_ice_days', 'snow_depth',\n       'drought_index', 'no_days_acc_precip_10', 'no_days_acc_precip_01',\n       'no_days_acc_precip_1', 'temp_soil_10', 'temp_soil_30',\n       'temp_grass', 'leaf_moisture', 'mean_cloud_cover',\n       'mean_daily_min_temp', 'no_tropical_nights',\n       'vapour_pressure_deficit_mean', 'no_cold_days'], dtype=object)"
     },
     "execution_count": 23,
     "metadata": {},
     "output_type": "execute_result"
    }
   ],
   "source": [
    "df_month.parameterId.unique()"
   ],
   "metadata": {
    "collapsed": false,
    "pycharm": {
     "name": "#%%\n"
    }
   }
  },
  {
   "cell_type": "code",
   "execution_count": 24,
   "outputs": [
    {
     "data": {
      "text/plain": "array(['max_wind_speed_10min', 'corrected_acc_precip',\n       'pot_evaporation_penman', 'max_wind_speed_3sec', 'no_frost_days',\n       'no_ice_days', 'mean_wind_speed', 'mean_radiation',\n       'acc_heating_degree_days_17', 'no_summer_days', 'drought_index',\n       'max_temp_w_date', 'bright_sunshine', 'acc_precip',\n       'mean_wind_dir', 'mean_temp', 'min_temp', 'mean_daily_max_temp',\n       'pot_evaporation_makkink', 'mean_pressure', 'mean_relative_hum',\n       'max_precip_30m', 'snow_depth', 'no_days_acc_precip_01',\n       'no_days_acc_precip_10', 'no_days_acc_precip_1', 'temp_soil_10',\n       'temp_grass', 'temp_soil_30', 'leaf_moisture', 'mean_cloud_cover',\n       'vapour_pressure_deficit_mean', 'mean_daily_min_temp',\n       'no_tropical_nights', 'no_cold_days'], dtype=object)"
     },
     "execution_count": 24,
     "metadata": {},
     "output_type": "execute_result"
    }
   ],
   "source": [
    "df_year.parameterId.unique()"
   ],
   "metadata": {
    "collapsed": false,
    "pycharm": {
     "name": "#%%\n"
    }
   }
  },
  {
   "cell_type": "markdown",
   "source": [
    "### Change into parameterId as columns"
   ],
   "metadata": {
    "collapsed": false
   }
  },
  {
   "cell_type": "code",
   "execution_count": 28,
   "outputs": [
    {
     "data": {
      "text/plain": "parameterId                acc_precip  bright_sunshine  leaf_moisture  \\\nto                                                                      \n2011-01-01T00:00:00+00:00         0.2              0.0            NaN   \n2011-01-01T01:00:00+00:00         0.2              0.0            NaN   \n2011-01-01T02:00:00+00:00         0.1              0.0            NaN   \n2011-01-01T03:00:00+00:00         0.0              0.0            NaN   \n2011-01-01T04:00:00+00:00         0.0              0.0            NaN   \n...                               ...              ...            ...   \n2022-05-12T13:00:00+00:00         0.0             31.6            2.3   \n2022-05-12T14:00:00+00:00         0.0             24.0            2.3   \n2022-05-12T15:00:00+00:00         0.0             27.6            2.1   \n2022-05-12T16:00:00+00:00         0.0             25.5            1.5   \n2022-05-12T17:00:00+00:00         0.0             32.4            2.6   \n\nparameterId                max_temp_w_date  max_wind_speed_10min  \\\nto                                                                 \n2011-01-01T00:00:00+00:00              5.2                  21.8   \n2011-01-01T01:00:00+00:00              4.9                  22.1   \n2011-01-01T02:00:00+00:00              4.8                  21.9   \n2011-01-01T03:00:00+00:00              4.8                  22.5   \n2011-01-01T04:00:00+00:00              5.5                  21.2   \n...                                    ...                   ...   \n2022-05-12T13:00:00+00:00             16.9                  16.6   \n2022-05-12T14:00:00+00:00             17.4                  14.1   \n2022-05-12T15:00:00+00:00             17.1                  14.9   \n2022-05-12T16:00:00+00:00             16.9                  14.4   \n2022-05-12T17:00:00+00:00             15.7                  14.4   \n\nparameterId                max_wind_speed_3sec  mean_cloud_cover  \\\nto                                                                 \n2011-01-01T00:00:00+00:00                 27.4               NaN   \n2011-01-01T01:00:00+00:00                 27.3               NaN   \n2011-01-01T02:00:00+00:00                 28.5               NaN   \n2011-01-01T03:00:00+00:00                 30.4               NaN   \n2011-01-01T04:00:00+00:00                 25.6               NaN   \n...                                        ...               ...   \n2022-05-12T13:00:00+00:00                 21.8              48.0   \n2022-05-12T14:00:00+00:00                 18.8              64.0   \n2022-05-12T15:00:00+00:00                 17.9              58.0   \n2022-05-12T16:00:00+00:00                 17.6              52.0   \n2022-05-12T17:00:00+00:00                 18.7              44.0   \n\nparameterId                mean_pressure  mean_radiation  mean_relative_hum  \\\nto                                                                            \n2011-01-01T00:00:00+00:00         1005.1             NaN               91.7   \n2011-01-01T01:00:00+00:00         1004.1             NaN               89.8   \n2011-01-01T02:00:00+00:00         1003.4             NaN               88.5   \n2011-01-01T03:00:00+00:00         1003.1             NaN               86.4   \n2011-01-01T04:00:00+00:00         1003.0             NaN               84.1   \n...                                  ...             ...                ...   \n2022-05-12T13:00:00+00:00         1012.6           591.6               61.7   \n2022-05-12T14:00:00+00:00         1012.7           462.0               63.0   \n2022-05-12T15:00:00+00:00         1012.9           444.1               63.8   \n2022-05-12T16:00:00+00:00         1012.9           340.9               65.3   \n2022-05-12T17:00:00+00:00         1012.9           264.6               66.8   \n\nparameterId                mean_temp  mean_wind_dir  mean_wind_speed  \\\nto                                                                     \n2011-01-01T00:00:00+00:00        3.4          269.0             11.9   \n2011-01-01T01:00:00+00:00        3.4          273.0             11.9   \n2011-01-01T02:00:00+00:00        3.4          278.0             11.7   \n2011-01-01T03:00:00+00:00        3.4          282.0             11.4   \n2011-01-01T04:00:00+00:00        3.4          285.0             11.5   \n...                              ...            ...              ...   \n2022-05-12T13:00:00+00:00       13.7          252.0              8.4   \n2022-05-12T14:00:00+00:00       13.6          253.0              8.6   \n2022-05-12T15:00:00+00:00       13.4          255.0              8.6   \n2022-05-12T16:00:00+00:00       13.0          258.0              8.4   \n2022-05-12T17:00:00+00:00       12.5          261.0              7.7   \n\nparameterId                min_temp  temp_grass  temp_soil_10  temp_soil_30  \\\nto                                                                            \n2011-01-01T00:00:00+00:00       1.4         NaN           NaN           NaN   \n2011-01-01T01:00:00+00:00       1.5         NaN           NaN           NaN   \n2011-01-01T02:00:00+00:00       1.6         NaN           NaN           NaN   \n2011-01-01T03:00:00+00:00       1.7         NaN           NaN           NaN   \n2011-01-01T04:00:00+00:00       1.7         NaN           NaN           NaN   \n...                             ...         ...           ...           ...   \n2022-05-12T13:00:00+00:00       8.9        16.1          11.7          10.2   \n2022-05-12T14:00:00+00:00      10.1        15.4          11.9          10.2   \n2022-05-12T15:00:00+00:00      10.5        15.1          11.9          10.3   \n2022-05-12T16:00:00+00:00      10.3        14.3          12.0          10.4   \n2022-05-12T17:00:00+00:00      10.1        13.4          11.9          10.4   \n\nparameterId                vapour_pressure_deficit_mean  \nto                                                       \n2011-01-01T00:00:00+00:00                           NaN  \n2011-01-01T01:00:00+00:00                           NaN  \n2011-01-01T02:00:00+00:00                           NaN  \n2011-01-01T03:00:00+00:00                           NaN  \n2011-01-01T04:00:00+00:00                           NaN  \n...                                                 ...  \n2022-05-12T13:00:00+00:00                           0.6  \n2022-05-12T14:00:00+00:00                           0.6  \n2022-05-12T15:00:00+00:00                           0.6  \n2022-05-12T16:00:00+00:00                           0.5  \n2022-05-12T17:00:00+00:00                           0.5  \n\n[99594 rows x 18 columns]",
      "text/html": "<div>\n<style scoped>\n    .dataframe tbody tr th:only-of-type {\n        vertical-align: middle;\n    }\n\n    .dataframe tbody tr th {\n        vertical-align: top;\n    }\n\n    .dataframe thead th {\n        text-align: right;\n    }\n</style>\n<table border=\"1\" class=\"dataframe\">\n  <thead>\n    <tr style=\"text-align: right;\">\n      <th>parameterId</th>\n      <th>acc_precip</th>\n      <th>bright_sunshine</th>\n      <th>leaf_moisture</th>\n      <th>max_temp_w_date</th>\n      <th>max_wind_speed_10min</th>\n      <th>max_wind_speed_3sec</th>\n      <th>mean_cloud_cover</th>\n      <th>mean_pressure</th>\n      <th>mean_radiation</th>\n      <th>mean_relative_hum</th>\n      <th>mean_temp</th>\n      <th>mean_wind_dir</th>\n      <th>mean_wind_speed</th>\n      <th>min_temp</th>\n      <th>temp_grass</th>\n      <th>temp_soil_10</th>\n      <th>temp_soil_30</th>\n      <th>vapour_pressure_deficit_mean</th>\n    </tr>\n    <tr>\n      <th>to</th>\n      <th></th>\n      <th></th>\n      <th></th>\n      <th></th>\n      <th></th>\n      <th></th>\n      <th></th>\n      <th></th>\n      <th></th>\n      <th></th>\n      <th></th>\n      <th></th>\n      <th></th>\n      <th></th>\n      <th></th>\n      <th></th>\n      <th></th>\n      <th></th>\n    </tr>\n  </thead>\n  <tbody>\n    <tr>\n      <th>2011-01-01T00:00:00+00:00</th>\n      <td>0.2</td>\n      <td>0.0</td>\n      <td>NaN</td>\n      <td>5.2</td>\n      <td>21.8</td>\n      <td>27.4</td>\n      <td>NaN</td>\n      <td>1005.1</td>\n      <td>NaN</td>\n      <td>91.7</td>\n      <td>3.4</td>\n      <td>269.0</td>\n      <td>11.9</td>\n      <td>1.4</td>\n      <td>NaN</td>\n      <td>NaN</td>\n      <td>NaN</td>\n      <td>NaN</td>\n    </tr>\n    <tr>\n      <th>2011-01-01T01:00:00+00:00</th>\n      <td>0.2</td>\n      <td>0.0</td>\n      <td>NaN</td>\n      <td>4.9</td>\n      <td>22.1</td>\n      <td>27.3</td>\n      <td>NaN</td>\n      <td>1004.1</td>\n      <td>NaN</td>\n      <td>89.8</td>\n      <td>3.4</td>\n      <td>273.0</td>\n      <td>11.9</td>\n      <td>1.5</td>\n      <td>NaN</td>\n      <td>NaN</td>\n      <td>NaN</td>\n      <td>NaN</td>\n    </tr>\n    <tr>\n      <th>2011-01-01T02:00:00+00:00</th>\n      <td>0.1</td>\n      <td>0.0</td>\n      <td>NaN</td>\n      <td>4.8</td>\n      <td>21.9</td>\n      <td>28.5</td>\n      <td>NaN</td>\n      <td>1003.4</td>\n      <td>NaN</td>\n      <td>88.5</td>\n      <td>3.4</td>\n      <td>278.0</td>\n      <td>11.7</td>\n      <td>1.6</td>\n      <td>NaN</td>\n      <td>NaN</td>\n      <td>NaN</td>\n      <td>NaN</td>\n    </tr>\n    <tr>\n      <th>2011-01-01T03:00:00+00:00</th>\n      <td>0.0</td>\n      <td>0.0</td>\n      <td>NaN</td>\n      <td>4.8</td>\n      <td>22.5</td>\n      <td>30.4</td>\n      <td>NaN</td>\n      <td>1003.1</td>\n      <td>NaN</td>\n      <td>86.4</td>\n      <td>3.4</td>\n      <td>282.0</td>\n      <td>11.4</td>\n      <td>1.7</td>\n      <td>NaN</td>\n      <td>NaN</td>\n      <td>NaN</td>\n      <td>NaN</td>\n    </tr>\n    <tr>\n      <th>2011-01-01T04:00:00+00:00</th>\n      <td>0.0</td>\n      <td>0.0</td>\n      <td>NaN</td>\n      <td>5.5</td>\n      <td>21.2</td>\n      <td>25.6</td>\n      <td>NaN</td>\n      <td>1003.0</td>\n      <td>NaN</td>\n      <td>84.1</td>\n      <td>3.4</td>\n      <td>285.0</td>\n      <td>11.5</td>\n      <td>1.7</td>\n      <td>NaN</td>\n      <td>NaN</td>\n      <td>NaN</td>\n      <td>NaN</td>\n    </tr>\n    <tr>\n      <th>...</th>\n      <td>...</td>\n      <td>...</td>\n      <td>...</td>\n      <td>...</td>\n      <td>...</td>\n      <td>...</td>\n      <td>...</td>\n      <td>...</td>\n      <td>...</td>\n      <td>...</td>\n      <td>...</td>\n      <td>...</td>\n      <td>...</td>\n      <td>...</td>\n      <td>...</td>\n      <td>...</td>\n      <td>...</td>\n      <td>...</td>\n    </tr>\n    <tr>\n      <th>2022-05-12T13:00:00+00:00</th>\n      <td>0.0</td>\n      <td>31.6</td>\n      <td>2.3</td>\n      <td>16.9</td>\n      <td>16.6</td>\n      <td>21.8</td>\n      <td>48.0</td>\n      <td>1012.6</td>\n      <td>591.6</td>\n      <td>61.7</td>\n      <td>13.7</td>\n      <td>252.0</td>\n      <td>8.4</td>\n      <td>8.9</td>\n      <td>16.1</td>\n      <td>11.7</td>\n      <td>10.2</td>\n      <td>0.6</td>\n    </tr>\n    <tr>\n      <th>2022-05-12T14:00:00+00:00</th>\n      <td>0.0</td>\n      <td>24.0</td>\n      <td>2.3</td>\n      <td>17.4</td>\n      <td>14.1</td>\n      <td>18.8</td>\n      <td>64.0</td>\n      <td>1012.7</td>\n      <td>462.0</td>\n      <td>63.0</td>\n      <td>13.6</td>\n      <td>253.0</td>\n      <td>8.6</td>\n      <td>10.1</td>\n      <td>15.4</td>\n      <td>11.9</td>\n      <td>10.2</td>\n      <td>0.6</td>\n    </tr>\n    <tr>\n      <th>2022-05-12T15:00:00+00:00</th>\n      <td>0.0</td>\n      <td>27.6</td>\n      <td>2.1</td>\n      <td>17.1</td>\n      <td>14.9</td>\n      <td>17.9</td>\n      <td>58.0</td>\n      <td>1012.9</td>\n      <td>444.1</td>\n      <td>63.8</td>\n      <td>13.4</td>\n      <td>255.0</td>\n      <td>8.6</td>\n      <td>10.5</td>\n      <td>15.1</td>\n      <td>11.9</td>\n      <td>10.3</td>\n      <td>0.6</td>\n    </tr>\n    <tr>\n      <th>2022-05-12T16:00:00+00:00</th>\n      <td>0.0</td>\n      <td>25.5</td>\n      <td>1.5</td>\n      <td>16.9</td>\n      <td>14.4</td>\n      <td>17.6</td>\n      <td>52.0</td>\n      <td>1012.9</td>\n      <td>340.9</td>\n      <td>65.3</td>\n      <td>13.0</td>\n      <td>258.0</td>\n      <td>8.4</td>\n      <td>10.3</td>\n      <td>14.3</td>\n      <td>12.0</td>\n      <td>10.4</td>\n      <td>0.5</td>\n    </tr>\n    <tr>\n      <th>2022-05-12T17:00:00+00:00</th>\n      <td>0.0</td>\n      <td>32.4</td>\n      <td>2.6</td>\n      <td>15.7</td>\n      <td>14.4</td>\n      <td>18.7</td>\n      <td>44.0</td>\n      <td>1012.9</td>\n      <td>264.6</td>\n      <td>66.8</td>\n      <td>12.5</td>\n      <td>261.0</td>\n      <td>7.7</td>\n      <td>10.1</td>\n      <td>13.4</td>\n      <td>11.9</td>\n      <td>10.4</td>\n      <td>0.5</td>\n    </tr>\n  </tbody>\n</table>\n<p>99594 rows × 18 columns</p>\n</div>"
     },
     "execution_count": 28,
     "metadata": {},
     "output_type": "execute_result"
    }
   ],
   "source": [
    "df_hour.pivot(index=\"to\",columns=\"parameterId\", values=\"value\")"
   ],
   "metadata": {
    "collapsed": false,
    "pycharm": {
     "name": "#%%\n"
    }
   }
  },
  {
   "cell_type": "code",
   "execution_count": 29,
   "outputs": [
    {
     "data": {
      "text/plain": "parameterId                acc_heating_degree_days_17  acc_precip  \\\nto                                                                  \n2011-01-02T00:00:00+01:00                        14.8         0.5   \n2011-01-02T06:00:00+00:00                         NaN         NaN   \n2011-01-03T00:00:00+01:00                        18.8         0.0   \n2011-01-03T06:00:00+00:00                         NaN         NaN   \n2011-01-04T00:00:00+01:00                        20.7         0.2   \n...                                               ...         ...   \n2022-05-09T00:00:00+02:00                         7.1         0.0   \n2022-05-10T00:00:00+02:00                         5.6         0.0   \n2022-05-11T00:00:00+02:00                         4.3         4.4   \n2022-05-12T00:00:00+02:00                         5.8         4.4   \n2022-05-13T00:00:00+02:00                         5.6         2.0   \n\nparameterId                bright_sunshine  corrected_acc_precip  \\\nto                                                                 \n2011-01-02T00:00:00+01:00              5.6                   0.6   \n2011-01-02T06:00:00+00:00              NaN                   NaN   \n2011-01-03T00:00:00+01:00              5.5                   0.0   \n2011-01-03T06:00:00+00:00              NaN                   NaN   \n2011-01-04T00:00:00+01:00              4.3                   0.2   \n...                                    ...                   ...   \n2022-05-09T00:00:00+02:00             14.2                   0.0   \n2022-05-10T00:00:00+02:00             13.3                   0.0   \n2022-05-11T00:00:00+02:00              1.3                   4.7   \n2022-05-12T00:00:00+02:00              1.0                   4.7   \n2022-05-13T00:00:00+02:00              7.8                   2.1   \n\nparameterId                drought_index  leaf_moisture  max_precip_30m  \\\nto                                                                        \n2011-01-02T00:00:00+01:00            0.0            NaN             1.3   \n2011-01-02T06:00:00+00:00            NaN            NaN             NaN   \n2011-01-03T00:00:00+01:00            0.0            NaN             0.1   \n2011-01-03T06:00:00+00:00            NaN            NaN             NaN   \n2011-01-04T00:00:00+01:00            0.0            NaN             1.1   \n...                                  ...            ...             ...   \n2022-05-09T00:00:00+02:00            9.9          161.4             0.1   \n2022-05-10T00:00:00+02:00           10.0          180.1             0.1   \n2022-05-11T00:00:00+02:00            9.6          291.2             7.4   \n2022-05-12T00:00:00+02:00            9.2          555.0            10.4   \n2022-05-13T00:00:00+02:00            9.1            NaN             4.7   \n\nparameterId                max_temp_w_date  max_wind_speed_10min  \\\nto                                                                 \n2011-01-02T00:00:00+01:00              5.5                  22.5   \n2011-01-02T06:00:00+00:00              NaN                   NaN   \n2011-01-03T00:00:00+01:00              3.5                   9.8   \n2011-01-03T06:00:00+00:00              NaN                   NaN   \n2011-01-04T00:00:00+01:00              2.8                  10.2   \n...                                    ...                   ...   \n2022-05-09T00:00:00+02:00             18.5                  11.5   \n2022-05-10T00:00:00+02:00             19.5                  12.0   \n2022-05-11T00:00:00+02:00             21.8                  14.1   \n2022-05-12T00:00:00+02:00             18.6                  13.1   \n2022-05-13T00:00:00+02:00             17.4                  17.7   \n\nparameterId                max_wind_speed_3sec  ...  no_ice_days  \\\nto                                              ...                \n2011-01-02T00:00:00+01:00                 30.4  ...         0.00   \n2011-01-02T06:00:00+00:00                  NaN  ...          NaN   \n2011-01-03T00:00:00+01:00                 13.8  ...         0.11   \n2011-01-03T06:00:00+00:00                  NaN  ...          NaN   \n2011-01-04T00:00:00+01:00                 14.9  ...         0.71   \n...                                        ...  ...          ...   \n2022-05-09T00:00:00+02:00                 16.6  ...         0.00   \n2022-05-10T00:00:00+02:00                 14.6  ...         0.00   \n2022-05-11T00:00:00+02:00                 18.6  ...         0.00   \n2022-05-12T00:00:00+02:00                 15.9  ...         0.00   \n2022-05-13T00:00:00+02:00                 21.9  ...         0.00   \n\nparameterId                no_summer_days  no_tropical_nights  \\\nto                                                              \n2011-01-02T00:00:00+01:00             0.0                 0.0   \n2011-01-02T06:00:00+00:00             NaN                 NaN   \n2011-01-03T00:00:00+01:00             0.0                 0.0   \n2011-01-03T06:00:00+00:00             NaN                 NaN   \n2011-01-04T00:00:00+01:00             0.0                 0.0   \n...                                   ...                 ...   \n2022-05-09T00:00:00+02:00             0.0                 0.0   \n2022-05-10T00:00:00+02:00             0.0                 0.0   \n2022-05-11T00:00:00+02:00             0.0                 0.0   \n2022-05-12T00:00:00+02:00             0.0                 0.0   \n2022-05-13T00:00:00+02:00             0.0                 0.0   \n\nparameterId                pot_evaporation_makkink  pot_evaporation_penman  \\\nto                                                                           \n2011-01-02T00:00:00+01:00                      0.3                     0.0   \n2011-01-02T06:00:00+00:00                      NaN                     NaN   \n2011-01-03T00:00:00+01:00                      0.3                     0.0   \n2011-01-03T06:00:00+00:00                      NaN                     NaN   \n2011-01-04T00:00:00+01:00                      0.2                     0.0   \n...                                            ...                     ...   \n2022-05-09T00:00:00+02:00                      4.2                     6.8   \n2022-05-10T00:00:00+02:00                      4.2                     6.8   \n2022-05-11T00:00:00+02:00                      1.4                     2.1   \n2022-05-12T00:00:00+02:00                      1.6                     1.5   \n2022-05-13T00:00:00+02:00                      3.4                     4.2   \n\nparameterId                snow_depth  temp_grass  temp_soil_10  temp_soil_30  \\\nto                                                                              \n2011-01-02T00:00:00+01:00         NaN         NaN           NaN           NaN   \n2011-01-02T06:00:00+00:00       127.0         NaN           NaN           NaN   \n2011-01-03T00:00:00+01:00         NaN         NaN           NaN           NaN   \n2011-01-03T06:00:00+00:00       124.0         NaN           NaN           NaN   \n2011-01-04T00:00:00+01:00         NaN         NaN           NaN           NaN   \n...                               ...         ...           ...           ...   \n2022-05-09T00:00:00+02:00         NaN        10.9          10.6           9.8   \n2022-05-10T00:00:00+02:00         NaN        12.0          10.7           9.9   \n2022-05-11T00:00:00+02:00         NaN        12.5          11.0          10.2   \n2022-05-12T00:00:00+02:00         NaN        11.2          10.8          10.2   \n2022-05-13T00:00:00+02:00         NaN         NaN           NaN           NaN   \n\nparameterId                vapour_pressure_deficit_mean  \nto                                                       \n2011-01-02T00:00:00+01:00                           NaN  \n2011-01-02T06:00:00+00:00                           NaN  \n2011-01-03T00:00:00+01:00                           NaN  \n2011-01-03T06:00:00+00:00                           NaN  \n2011-01-04T00:00:00+01:00                           NaN  \n...                                                 ...  \n2022-05-09T00:00:00+02:00                           0.5  \n2022-05-10T00:00:00+02:00                           0.6  \n2022-05-11T00:00:00+02:00                           0.3  \n2022-05-12T00:00:00+02:00                           0.2  \n2022-05-13T00:00:00+02:00                           0.3  \n\n[6596 rows x 35 columns]",
      "text/html": "<div>\n<style scoped>\n    .dataframe tbody tr th:only-of-type {\n        vertical-align: middle;\n    }\n\n    .dataframe tbody tr th {\n        vertical-align: top;\n    }\n\n    .dataframe thead th {\n        text-align: right;\n    }\n</style>\n<table border=\"1\" class=\"dataframe\">\n  <thead>\n    <tr style=\"text-align: right;\">\n      <th>parameterId</th>\n      <th>acc_heating_degree_days_17</th>\n      <th>acc_precip</th>\n      <th>bright_sunshine</th>\n      <th>corrected_acc_precip</th>\n      <th>drought_index</th>\n      <th>leaf_moisture</th>\n      <th>max_precip_30m</th>\n      <th>max_temp_w_date</th>\n      <th>max_wind_speed_10min</th>\n      <th>max_wind_speed_3sec</th>\n      <th>...</th>\n      <th>no_ice_days</th>\n      <th>no_summer_days</th>\n      <th>no_tropical_nights</th>\n      <th>pot_evaporation_makkink</th>\n      <th>pot_evaporation_penman</th>\n      <th>snow_depth</th>\n      <th>temp_grass</th>\n      <th>temp_soil_10</th>\n      <th>temp_soil_30</th>\n      <th>vapour_pressure_deficit_mean</th>\n    </tr>\n    <tr>\n      <th>to</th>\n      <th></th>\n      <th></th>\n      <th></th>\n      <th></th>\n      <th></th>\n      <th></th>\n      <th></th>\n      <th></th>\n      <th></th>\n      <th></th>\n      <th></th>\n      <th></th>\n      <th></th>\n      <th></th>\n      <th></th>\n      <th></th>\n      <th></th>\n      <th></th>\n      <th></th>\n      <th></th>\n      <th></th>\n    </tr>\n  </thead>\n  <tbody>\n    <tr>\n      <th>2011-01-02T00:00:00+01:00</th>\n      <td>14.8</td>\n      <td>0.5</td>\n      <td>5.6</td>\n      <td>0.6</td>\n      <td>0.0</td>\n      <td>NaN</td>\n      <td>1.3</td>\n      <td>5.5</td>\n      <td>22.5</td>\n      <td>30.4</td>\n      <td>...</td>\n      <td>0.00</td>\n      <td>0.0</td>\n      <td>0.0</td>\n      <td>0.3</td>\n      <td>0.0</td>\n      <td>NaN</td>\n      <td>NaN</td>\n      <td>NaN</td>\n      <td>NaN</td>\n      <td>NaN</td>\n    </tr>\n    <tr>\n      <th>2011-01-02T06:00:00+00:00</th>\n      <td>NaN</td>\n      <td>NaN</td>\n      <td>NaN</td>\n      <td>NaN</td>\n      <td>NaN</td>\n      <td>NaN</td>\n      <td>NaN</td>\n      <td>NaN</td>\n      <td>NaN</td>\n      <td>NaN</td>\n      <td>...</td>\n      <td>NaN</td>\n      <td>NaN</td>\n      <td>NaN</td>\n      <td>NaN</td>\n      <td>NaN</td>\n      <td>127.0</td>\n      <td>NaN</td>\n      <td>NaN</td>\n      <td>NaN</td>\n      <td>NaN</td>\n    </tr>\n    <tr>\n      <th>2011-01-03T00:00:00+01:00</th>\n      <td>18.8</td>\n      <td>0.0</td>\n      <td>5.5</td>\n      <td>0.0</td>\n      <td>0.0</td>\n      <td>NaN</td>\n      <td>0.1</td>\n      <td>3.5</td>\n      <td>9.8</td>\n      <td>13.8</td>\n      <td>...</td>\n      <td>0.11</td>\n      <td>0.0</td>\n      <td>0.0</td>\n      <td>0.3</td>\n      <td>0.0</td>\n      <td>NaN</td>\n      <td>NaN</td>\n      <td>NaN</td>\n      <td>NaN</td>\n      <td>NaN</td>\n    </tr>\n    <tr>\n      <th>2011-01-03T06:00:00+00:00</th>\n      <td>NaN</td>\n      <td>NaN</td>\n      <td>NaN</td>\n      <td>NaN</td>\n      <td>NaN</td>\n      <td>NaN</td>\n      <td>NaN</td>\n      <td>NaN</td>\n      <td>NaN</td>\n      <td>NaN</td>\n      <td>...</td>\n      <td>NaN</td>\n      <td>NaN</td>\n      <td>NaN</td>\n      <td>NaN</td>\n      <td>NaN</td>\n      <td>124.0</td>\n      <td>NaN</td>\n      <td>NaN</td>\n      <td>NaN</td>\n      <td>NaN</td>\n    </tr>\n    <tr>\n      <th>2011-01-04T00:00:00+01:00</th>\n      <td>20.7</td>\n      <td>0.2</td>\n      <td>4.3</td>\n      <td>0.2</td>\n      <td>0.0</td>\n      <td>NaN</td>\n      <td>1.1</td>\n      <td>2.8</td>\n      <td>10.2</td>\n      <td>14.9</td>\n      <td>...</td>\n      <td>0.71</td>\n      <td>0.0</td>\n      <td>0.0</td>\n      <td>0.2</td>\n      <td>0.0</td>\n      <td>NaN</td>\n      <td>NaN</td>\n      <td>NaN</td>\n      <td>NaN</td>\n      <td>NaN</td>\n    </tr>\n    <tr>\n      <th>...</th>\n      <td>...</td>\n      <td>...</td>\n      <td>...</td>\n      <td>...</td>\n      <td>...</td>\n      <td>...</td>\n      <td>...</td>\n      <td>...</td>\n      <td>...</td>\n      <td>...</td>\n      <td>...</td>\n      <td>...</td>\n      <td>...</td>\n      <td>...</td>\n      <td>...</td>\n      <td>...</td>\n      <td>...</td>\n      <td>...</td>\n      <td>...</td>\n      <td>...</td>\n      <td>...</td>\n    </tr>\n    <tr>\n      <th>2022-05-09T00:00:00+02:00</th>\n      <td>7.1</td>\n      <td>0.0</td>\n      <td>14.2</td>\n      <td>0.0</td>\n      <td>9.9</td>\n      <td>161.4</td>\n      <td>0.1</td>\n      <td>18.5</td>\n      <td>11.5</td>\n      <td>16.6</td>\n      <td>...</td>\n      <td>0.00</td>\n      <td>0.0</td>\n      <td>0.0</td>\n      <td>4.2</td>\n      <td>6.8</td>\n      <td>NaN</td>\n      <td>10.9</td>\n      <td>10.6</td>\n      <td>9.8</td>\n      <td>0.5</td>\n    </tr>\n    <tr>\n      <th>2022-05-10T00:00:00+02:00</th>\n      <td>5.6</td>\n      <td>0.0</td>\n      <td>13.3</td>\n      <td>0.0</td>\n      <td>10.0</td>\n      <td>180.1</td>\n      <td>0.1</td>\n      <td>19.5</td>\n      <td>12.0</td>\n      <td>14.6</td>\n      <td>...</td>\n      <td>0.00</td>\n      <td>0.0</td>\n      <td>0.0</td>\n      <td>4.2</td>\n      <td>6.8</td>\n      <td>NaN</td>\n      <td>12.0</td>\n      <td>10.7</td>\n      <td>9.9</td>\n      <td>0.6</td>\n    </tr>\n    <tr>\n      <th>2022-05-11T00:00:00+02:00</th>\n      <td>4.3</td>\n      <td>4.4</td>\n      <td>1.3</td>\n      <td>4.7</td>\n      <td>9.6</td>\n      <td>291.2</td>\n      <td>7.4</td>\n      <td>21.8</td>\n      <td>14.1</td>\n      <td>18.6</td>\n      <td>...</td>\n      <td>0.00</td>\n      <td>0.0</td>\n      <td>0.0</td>\n      <td>1.4</td>\n      <td>2.1</td>\n      <td>NaN</td>\n      <td>12.5</td>\n      <td>11.0</td>\n      <td>10.2</td>\n      <td>0.3</td>\n    </tr>\n    <tr>\n      <th>2022-05-12T00:00:00+02:00</th>\n      <td>5.8</td>\n      <td>4.4</td>\n      <td>1.0</td>\n      <td>4.7</td>\n      <td>9.2</td>\n      <td>555.0</td>\n      <td>10.4</td>\n      <td>18.6</td>\n      <td>13.1</td>\n      <td>15.9</td>\n      <td>...</td>\n      <td>0.00</td>\n      <td>0.0</td>\n      <td>0.0</td>\n      <td>1.6</td>\n      <td>1.5</td>\n      <td>NaN</td>\n      <td>11.2</td>\n      <td>10.8</td>\n      <td>10.2</td>\n      <td>0.2</td>\n    </tr>\n    <tr>\n      <th>2022-05-13T00:00:00+02:00</th>\n      <td>5.6</td>\n      <td>2.0</td>\n      <td>7.8</td>\n      <td>2.1</td>\n      <td>9.1</td>\n      <td>NaN</td>\n      <td>4.7</td>\n      <td>17.4</td>\n      <td>17.7</td>\n      <td>21.9</td>\n      <td>...</td>\n      <td>0.00</td>\n      <td>0.0</td>\n      <td>0.0</td>\n      <td>3.4</td>\n      <td>4.2</td>\n      <td>NaN</td>\n      <td>NaN</td>\n      <td>NaN</td>\n      <td>NaN</td>\n      <td>0.3</td>\n    </tr>\n  </tbody>\n</table>\n<p>6596 rows × 35 columns</p>\n</div>"
     },
     "execution_count": 29,
     "metadata": {},
     "output_type": "execute_result"
    }
   ],
   "source": [
    "df_day.pivot(index=\"to\",columns=\"parameterId\", values=\"value\")"
   ],
   "metadata": {
    "collapsed": false,
    "pycharm": {
     "name": "#%%\n"
    }
   }
  },
  {
   "cell_type": "code",
   "execution_count": 30,
   "outputs": [
    {
     "data": {
      "text/plain": "parameterId                acc_heating_degree_days_17  acc_precip  \\\nto                                                                  \n2011-02-01T00:00:00+01:00                       516.2        47.8   \n2011-02-01T06:00:00+00:00                         NaN         NaN   \n2011-03-01T00:00:00+01:00                       477.9        39.9   \n2011-03-01T06:00:00+00:00                         NaN         NaN   \n2011-04-01T00:00:00+02:00                       433.2        29.9   \n...                                               ...         ...   \n2022-04-01T00:00:00+02:00                       412.1         4.2   \n2022-04-01T06:00:00+00:00                         NaN         NaN   \n2022-05-01T00:00:00+02:00                       313.3        35.3   \n2022-05-01T06:00:00+00:00                         NaN         NaN   \n2022-06-01T00:00:00+02:00                        83.2        11.0   \n\nparameterId                bright_sunshine  corrected_acc_precip  \\\nto                                                                 \n2011-02-01T00:00:00+01:00             71.6                  60.8   \n2011-02-01T06:00:00+00:00              NaN                   NaN   \n2011-03-01T00:00:00+01:00             51.7                  48.4   \n2011-03-01T06:00:00+00:00              NaN                   NaN   \n2011-04-01T00:00:00+02:00            143.3                  29.9   \n...                                    ...                   ...   \n2022-04-01T00:00:00+02:00            238.6                   4.8   \n2022-04-01T06:00:00+00:00              NaN                   NaN   \n2022-05-01T00:00:00+02:00            249.1                  38.8   \n2022-05-01T06:00:00+00:00              NaN                   NaN   \n2022-06-01T00:00:00+02:00             86.8                  11.7   \n\nparameterId                drought_index  leaf_moisture  max_precip_30m  \\\nto                                                                        \n2011-02-01T00:00:00+01:00            NaN            NaN             3.9   \n2011-02-01T06:00:00+00:00            NaN            NaN             NaN   \n2011-03-01T00:00:00+01:00            0.1            NaN             3.0   \n2011-03-01T06:00:00+00:00            NaN            NaN             NaN   \n2011-04-01T00:00:00+02:00            0.4            NaN             3.2   \n...                                  ...            ...             ...   \n2022-04-01T00:00:00+02:00            2.1         8933.4             6.4   \n2022-04-01T06:00:00+00:00            NaN            NaN             NaN   \n2022-05-01T00:00:00+02:00            5.8         8439.4             6.1   \n2022-05-01T06:00:00+00:00            NaN            NaN             NaN   \n2022-06-01T00:00:00+02:00            9.6         3438.0            10.4   \n\nparameterId                max_temp_w_date  max_wind_speed_10min  \\\nto                                                                 \n2011-02-01T00:00:00+01:00              9.8                  22.5   \n2011-02-01T06:00:00+00:00              NaN                   NaN   \n2011-03-01T00:00:00+01:00              9.6                  29.3   \n2011-03-01T06:00:00+00:00              NaN                   NaN   \n2011-04-01T00:00:00+02:00             15.3                  26.3   \n...                                    ...                   ...   \n2022-04-01T00:00:00+02:00             17.2                  17.4   \n2022-04-01T06:00:00+00:00              NaN                   NaN   \n2022-05-01T00:00:00+02:00             19.0                  22.7   \n2022-05-01T06:00:00+00:00              NaN                   NaN   \n2022-06-01T00:00:00+02:00             21.8                  16.2   \n\nparameterId                max_wind_speed_3sec  ...  no_ice_days  \\\nto                                              ...                \n2011-02-01T00:00:00+01:00                 30.4  ...         3.31   \n2011-02-01T06:00:00+00:00                  NaN  ...          NaN   \n2011-03-01T00:00:00+01:00                 36.5  ...        11.37   \n2011-03-01T06:00:00+00:00                  NaN  ...          NaN   \n2011-04-01T00:00:00+02:00                 32.9  ...          NaN   \n...                                        ...  ...          ...   \n2022-04-01T00:00:00+02:00                 25.0  ...         0.00   \n2022-04-01T06:00:00+00:00                  NaN  ...          NaN   \n2022-05-01T00:00:00+02:00                 27.6  ...         0.00   \n2022-05-01T06:00:00+00:00                  NaN  ...          NaN   \n2022-06-01T00:00:00+02:00                 18.9  ...         0.00   \n\nparameterId                no_summer_days  no_tropical_nights  \\\nto                                                              \n2011-02-01T00:00:00+01:00             0.0                 NaN   \n2011-02-01T06:00:00+00:00             NaN                 NaN   \n2011-03-01T00:00:00+01:00             0.0                 NaN   \n2011-03-01T06:00:00+00:00             NaN                 NaN   \n2011-04-01T00:00:00+02:00             NaN                 NaN   \n...                                   ...                 ...   \n2022-04-01T00:00:00+02:00             0.0                 0.0   \n2022-04-01T06:00:00+00:00             NaN                 NaN   \n2022-05-01T00:00:00+02:00             0.0                 0.0   \n2022-05-01T06:00:00+00:00             NaN                 NaN   \n2022-06-01T00:00:00+02:00             0.0                 0.0   \n\nparameterId                pot_evaporation_makkink  pot_evaporation_penman  \\\nto                                                                           \n2011-02-01T00:00:00+01:00                      7.7                     0.5   \n2011-02-01T06:00:00+00:00                      NaN                     NaN   \n2011-03-01T00:00:00+01:00                     11.3                    11.8   \n2011-03-01T06:00:00+00:00                      NaN                     NaN   \n2011-04-01T00:00:00+02:00                     34.7                    26.2   \n...                                            ...                     ...   \n2022-04-01T00:00:00+02:00                     48.0                    56.9   \n2022-04-01T06:00:00+00:00                      NaN                     NaN   \n2022-05-01T00:00:00+02:00                     72.9                   106.0   \n2022-05-01T06:00:00+00:00                      NaN                     NaN   \n2022-06-01T00:00:00+02:00                     32.5                    44.9   \n\nparameterId                snow_depth  temp_grass  temp_soil_10  temp_soil_30  \\\nto                                                                              \n2011-02-01T00:00:00+01:00         NaN         NaN           NaN           NaN   \n2011-02-01T06:00:00+00:00       127.0         NaN           NaN           NaN   \n2011-03-01T00:00:00+01:00         NaN         NaN           NaN           NaN   \n2011-03-01T06:00:00+00:00        21.0         NaN           NaN           NaN   \n2011-04-01T00:00:00+02:00         NaN         NaN           NaN           NaN   \n...                               ...         ...           ...           ...   \n2022-04-01T00:00:00+02:00         NaN         3.4           4.0           3.9   \n2022-04-01T06:00:00+00:00         5.0         NaN           NaN           NaN   \n2022-05-01T00:00:00+02:00         NaN         6.7           5.6           6.3   \n2022-05-01T06:00:00+00:00        12.0         NaN           NaN           NaN   \n2022-06-01T00:00:00+02:00         NaN        10.6          10.2           9.4   \n\nparameterId                vapour_pressure_deficit_mean  \nto                                                       \n2011-02-01T00:00:00+01:00                           NaN  \n2011-02-01T06:00:00+00:00                           NaN  \n2011-03-01T00:00:00+01:00                           NaN  \n2011-03-01T06:00:00+00:00                           NaN  \n2011-04-01T00:00:00+02:00                           NaN  \n...                                                 ...  \n2022-04-01T00:00:00+02:00                           0.2  \n2022-04-01T06:00:00+00:00                           NaN  \n2022-05-01T00:00:00+02:00                           0.3  \n2022-05-01T06:00:00+00:00                           NaN  \n2022-06-01T00:00:00+02:00                           0.3  \n\n[216 rows x 35 columns]",
      "text/html": "<div>\n<style scoped>\n    .dataframe tbody tr th:only-of-type {\n        vertical-align: middle;\n    }\n\n    .dataframe tbody tr th {\n        vertical-align: top;\n    }\n\n    .dataframe thead th {\n        text-align: right;\n    }\n</style>\n<table border=\"1\" class=\"dataframe\">\n  <thead>\n    <tr style=\"text-align: right;\">\n      <th>parameterId</th>\n      <th>acc_heating_degree_days_17</th>\n      <th>acc_precip</th>\n      <th>bright_sunshine</th>\n      <th>corrected_acc_precip</th>\n      <th>drought_index</th>\n      <th>leaf_moisture</th>\n      <th>max_precip_30m</th>\n      <th>max_temp_w_date</th>\n      <th>max_wind_speed_10min</th>\n      <th>max_wind_speed_3sec</th>\n      <th>...</th>\n      <th>no_ice_days</th>\n      <th>no_summer_days</th>\n      <th>no_tropical_nights</th>\n      <th>pot_evaporation_makkink</th>\n      <th>pot_evaporation_penman</th>\n      <th>snow_depth</th>\n      <th>temp_grass</th>\n      <th>temp_soil_10</th>\n      <th>temp_soil_30</th>\n      <th>vapour_pressure_deficit_mean</th>\n    </tr>\n    <tr>\n      <th>to</th>\n      <th></th>\n      <th></th>\n      <th></th>\n      <th></th>\n      <th></th>\n      <th></th>\n      <th></th>\n      <th></th>\n      <th></th>\n      <th></th>\n      <th></th>\n      <th></th>\n      <th></th>\n      <th></th>\n      <th></th>\n      <th></th>\n      <th></th>\n      <th></th>\n      <th></th>\n      <th></th>\n      <th></th>\n    </tr>\n  </thead>\n  <tbody>\n    <tr>\n      <th>2011-02-01T00:00:00+01:00</th>\n      <td>516.2</td>\n      <td>47.8</td>\n      <td>71.6</td>\n      <td>60.8</td>\n      <td>NaN</td>\n      <td>NaN</td>\n      <td>3.9</td>\n      <td>9.8</td>\n      <td>22.5</td>\n      <td>30.4</td>\n      <td>...</td>\n      <td>3.31</td>\n      <td>0.0</td>\n      <td>NaN</td>\n      <td>7.7</td>\n      <td>0.5</td>\n      <td>NaN</td>\n      <td>NaN</td>\n      <td>NaN</td>\n      <td>NaN</td>\n      <td>NaN</td>\n    </tr>\n    <tr>\n      <th>2011-02-01T06:00:00+00:00</th>\n      <td>NaN</td>\n      <td>NaN</td>\n      <td>NaN</td>\n      <td>NaN</td>\n      <td>NaN</td>\n      <td>NaN</td>\n      <td>NaN</td>\n      <td>NaN</td>\n      <td>NaN</td>\n      <td>NaN</td>\n      <td>...</td>\n      <td>NaN</td>\n      <td>NaN</td>\n      <td>NaN</td>\n      <td>NaN</td>\n      <td>NaN</td>\n      <td>127.0</td>\n      <td>NaN</td>\n      <td>NaN</td>\n      <td>NaN</td>\n      <td>NaN</td>\n    </tr>\n    <tr>\n      <th>2011-03-01T00:00:00+01:00</th>\n      <td>477.9</td>\n      <td>39.9</td>\n      <td>51.7</td>\n      <td>48.4</td>\n      <td>0.1</td>\n      <td>NaN</td>\n      <td>3.0</td>\n      <td>9.6</td>\n      <td>29.3</td>\n      <td>36.5</td>\n      <td>...</td>\n      <td>11.37</td>\n      <td>0.0</td>\n      <td>NaN</td>\n      <td>11.3</td>\n      <td>11.8</td>\n      <td>NaN</td>\n      <td>NaN</td>\n      <td>NaN</td>\n      <td>NaN</td>\n      <td>NaN</td>\n    </tr>\n    <tr>\n      <th>2011-03-01T06:00:00+00:00</th>\n      <td>NaN</td>\n      <td>NaN</td>\n      <td>NaN</td>\n      <td>NaN</td>\n      <td>NaN</td>\n      <td>NaN</td>\n      <td>NaN</td>\n      <td>NaN</td>\n      <td>NaN</td>\n      <td>NaN</td>\n      <td>...</td>\n      <td>NaN</td>\n      <td>NaN</td>\n      <td>NaN</td>\n      <td>NaN</td>\n      <td>NaN</td>\n      <td>21.0</td>\n      <td>NaN</td>\n      <td>NaN</td>\n      <td>NaN</td>\n      <td>NaN</td>\n    </tr>\n    <tr>\n      <th>2011-04-01T00:00:00+02:00</th>\n      <td>433.2</td>\n      <td>29.9</td>\n      <td>143.3</td>\n      <td>29.9</td>\n      <td>0.4</td>\n      <td>NaN</td>\n      <td>3.2</td>\n      <td>15.3</td>\n      <td>26.3</td>\n      <td>32.9</td>\n      <td>...</td>\n      <td>NaN</td>\n      <td>NaN</td>\n      <td>NaN</td>\n      <td>34.7</td>\n      <td>26.2</td>\n      <td>NaN</td>\n      <td>NaN</td>\n      <td>NaN</td>\n      <td>NaN</td>\n      <td>NaN</td>\n    </tr>\n    <tr>\n      <th>...</th>\n      <td>...</td>\n      <td>...</td>\n      <td>...</td>\n      <td>...</td>\n      <td>...</td>\n      <td>...</td>\n      <td>...</td>\n      <td>...</td>\n      <td>...</td>\n      <td>...</td>\n      <td>...</td>\n      <td>...</td>\n      <td>...</td>\n      <td>...</td>\n      <td>...</td>\n      <td>...</td>\n      <td>...</td>\n      <td>...</td>\n      <td>...</td>\n      <td>...</td>\n      <td>...</td>\n    </tr>\n    <tr>\n      <th>2022-04-01T00:00:00+02:00</th>\n      <td>412.1</td>\n      <td>4.2</td>\n      <td>238.6</td>\n      <td>4.8</td>\n      <td>2.1</td>\n      <td>8933.4</td>\n      <td>6.4</td>\n      <td>17.2</td>\n      <td>17.4</td>\n      <td>25.0</td>\n      <td>...</td>\n      <td>0.00</td>\n      <td>0.0</td>\n      <td>0.0</td>\n      <td>48.0</td>\n      <td>56.9</td>\n      <td>NaN</td>\n      <td>3.4</td>\n      <td>4.0</td>\n      <td>3.9</td>\n      <td>0.2</td>\n    </tr>\n    <tr>\n      <th>2022-04-01T06:00:00+00:00</th>\n      <td>NaN</td>\n      <td>NaN</td>\n      <td>NaN</td>\n      <td>NaN</td>\n      <td>NaN</td>\n      <td>NaN</td>\n      <td>NaN</td>\n      <td>NaN</td>\n      <td>NaN</td>\n      <td>NaN</td>\n      <td>...</td>\n      <td>NaN</td>\n      <td>NaN</td>\n      <td>NaN</td>\n      <td>NaN</td>\n      <td>NaN</td>\n      <td>5.0</td>\n      <td>NaN</td>\n      <td>NaN</td>\n      <td>NaN</td>\n      <td>NaN</td>\n    </tr>\n    <tr>\n      <th>2022-05-01T00:00:00+02:00</th>\n      <td>313.3</td>\n      <td>35.3</td>\n      <td>249.1</td>\n      <td>38.8</td>\n      <td>5.8</td>\n      <td>8439.4</td>\n      <td>6.1</td>\n      <td>19.0</td>\n      <td>22.7</td>\n      <td>27.6</td>\n      <td>...</td>\n      <td>0.00</td>\n      <td>0.0</td>\n      <td>0.0</td>\n      <td>72.9</td>\n      <td>106.0</td>\n      <td>NaN</td>\n      <td>6.7</td>\n      <td>5.6</td>\n      <td>6.3</td>\n      <td>0.3</td>\n    </tr>\n    <tr>\n      <th>2022-05-01T06:00:00+00:00</th>\n      <td>NaN</td>\n      <td>NaN</td>\n      <td>NaN</td>\n      <td>NaN</td>\n      <td>NaN</td>\n      <td>NaN</td>\n      <td>NaN</td>\n      <td>NaN</td>\n      <td>NaN</td>\n      <td>NaN</td>\n      <td>...</td>\n      <td>NaN</td>\n      <td>NaN</td>\n      <td>NaN</td>\n      <td>NaN</td>\n      <td>NaN</td>\n      <td>12.0</td>\n      <td>NaN</td>\n      <td>NaN</td>\n      <td>NaN</td>\n      <td>NaN</td>\n    </tr>\n    <tr>\n      <th>2022-06-01T00:00:00+02:00</th>\n      <td>83.2</td>\n      <td>11.0</td>\n      <td>86.8</td>\n      <td>11.7</td>\n      <td>9.6</td>\n      <td>3438.0</td>\n      <td>10.4</td>\n      <td>21.8</td>\n      <td>16.2</td>\n      <td>18.9</td>\n      <td>...</td>\n      <td>0.00</td>\n      <td>0.0</td>\n      <td>0.0</td>\n      <td>32.5</td>\n      <td>44.9</td>\n      <td>NaN</td>\n      <td>10.6</td>\n      <td>10.2</td>\n      <td>9.4</td>\n      <td>0.3</td>\n    </tr>\n  </tbody>\n</table>\n<p>216 rows × 35 columns</p>\n</div>"
     },
     "execution_count": 30,
     "metadata": {},
     "output_type": "execute_result"
    }
   ],
   "source": [
    "df_month.pivot(index=\"to\",columns=\"parameterId\", values=\"value\")"
   ],
   "metadata": {
    "collapsed": false,
    "pycharm": {
     "name": "#%%\n"
    }
   }
  },
  {
   "cell_type": "code",
   "execution_count": 31,
   "outputs": [
    {
     "data": {
      "text/plain": "parameterId                acc_heating_degree_days_17  acc_precip  \\\nto                                                                  \n2012-01-01T00:00:00+01:00                      2979.4       782.7   \n2013-01-01T00:00:00+01:00                      3235.4       819.0   \n2013-01-01T06:00:00+00:00                         NaN         NaN   \n2014-01-01T00:00:00+01:00                      3208.8       669.0   \n2014-01-01T06:00:00+00:00                         NaN         NaN   \n2015-01-01T00:00:00+01:00                      2663.5       819.6   \n2016-01-01T00:00:00+01:00                      2921.8       902.2   \n2017-01-01T00:00:00+01:00                      2998.9       701.1   \n2018-01-01T00:00:00+01:00                      2971.4       848.8   \n2019-01-01T00:00:00+01:00                      2887.5       595.4   \n2020-01-01T00:00:00+01:00                      2847.3       905.3   \n2020-01-01T06:00:00+00:00                         NaN         NaN   \n2021-01-01T00:00:00+01:00                      2714.5       773.0   \n2021-01-01T06:00:00+00:00                         NaN         NaN   \n2022-01-01T00:00:00+01:00                      3098.4       743.9   \n2022-01-01T06:00:00+00:00                         NaN         NaN   \n2023-01-01T00:00:00+01:00                      1573.9       223.1   \n2023-01-01T06:00:00+00:00                         NaN         NaN   \n\nparameterId                bright_sunshine  corrected_acc_precip  \\\nto                                                                 \n2012-01-01T00:00:00+01:00           1680.8                 846.7   \n2013-01-01T00:00:00+01:00           1673.4                 890.0   \n2013-01-01T06:00:00+00:00              NaN                   NaN   \n2014-01-01T00:00:00+01:00           1780.1                 738.3   \n2014-01-01T06:00:00+00:00              NaN                   NaN   \n2015-01-01T00:00:00+01:00           1727.6                 891.9   \n2016-01-01T00:00:00+01:00           1662.2                 980.5   \n2017-01-01T00:00:00+01:00           1689.7                 762.8   \n2018-01-01T00:00:00+01:00           1512.2                 918.1   \n2019-01-01T00:00:00+01:00           1905.0                 662.2   \n2020-01-01T00:00:00+01:00           1729.3                 973.3   \n2020-01-01T06:00:00+00:00              NaN                   NaN   \n2021-01-01T00:00:00+01:00           1819.0                 835.6   \n2021-01-01T06:00:00+00:00              NaN                   NaN   \n2022-01-01T00:00:00+01:00           1640.2                 823.4   \n2022-01-01T06:00:00+00:00              NaN                   NaN   \n2023-01-01T00:00:00+01:00            715.9                 246.9   \n2023-01-01T06:00:00+00:00              NaN                   NaN   \n\nparameterId                drought_index  leaf_moisture  max_precip_30m  \\\nto                                                                        \n2012-01-01T00:00:00+01:00            1.9            NaN            48.0   \n2013-01-01T00:00:00+01:00            2.0            NaN            40.8   \n2013-01-01T06:00:00+00:00            NaN            NaN             NaN   \n2014-01-01T00:00:00+01:00            3.3            NaN            33.4   \n2014-01-01T06:00:00+00:00            NaN            NaN             NaN   \n2015-01-01T00:00:00+01:00            NaN            NaN            50.7   \n2016-01-01T00:00:00+01:00            2.0       140420.6            31.0   \n2017-01-01T00:00:00+01:00            NaN       126995.7            45.8   \n2018-01-01T00:00:00+01:00            1.7       126827.7            36.4   \n2019-01-01T00:00:00+01:00            3.3       142219.3            37.5   \n2020-01-01T00:00:00+01:00            3.4       173010.6            40.0   \n2020-01-01T06:00:00+00:00            NaN            NaN             NaN   \n2021-01-01T00:00:00+01:00            4.3       167360.3            42.2   \n2021-01-01T06:00:00+00:00            NaN            NaN             NaN   \n2022-01-01T00:00:00+01:00            3.1       131497.4            42.0   \n2022-01-01T06:00:00+00:00            NaN            NaN             NaN   \n2023-01-01T00:00:00+01:00            2.7        45034.6            10.4   \n2023-01-01T06:00:00+00:00            NaN            NaN             NaN   \n\nparameterId                max_temp_w_date  max_wind_speed_10min  \\\nto                                                                 \n2012-01-01T00:00:00+01:00             28.2                  30.4   \n2013-01-01T00:00:00+01:00             32.9                  30.9   \n2013-01-01T06:00:00+00:00              NaN                   NaN   \n2014-01-01T00:00:00+01:00             33.3                  39.5   \n2014-01-01T06:00:00+00:00              NaN                   NaN   \n2015-01-01T00:00:00+01:00             31.7                  24.7   \n2016-01-01T00:00:00+01:00             31.9                  35.9   \n2017-01-01T00:00:00+01:00             31.6                  29.4   \n2018-01-01T00:00:00+01:00             26.8                  27.7   \n2019-01-01T00:00:00+01:00             33.6                  26.5   \n2020-01-01T00:00:00+01:00             32.8                  26.4   \n2020-01-01T06:00:00+00:00              NaN                   NaN   \n2021-01-01T00:00:00+01:00             32.4                  25.1   \n2021-01-01T06:00:00+00:00              NaN                   NaN   \n2022-01-01T00:00:00+01:00             34.0                  24.1   \n2022-01-01T06:00:00+00:00              NaN                   NaN   \n2023-01-01T00:00:00+01:00             21.8                  28.1   \n2023-01-01T06:00:00+00:00              NaN                   NaN   \n\nparameterId                max_wind_speed_3sec  ...  no_ice_days  \\\nto                                              ...                \n2012-01-01T00:00:00+01:00                 38.2  ...        16.02   \n2013-01-01T00:00:00+01:00                 39.1  ...          NaN   \n2013-01-01T06:00:00+00:00                  NaN  ...          NaN   \n2014-01-01T00:00:00+01:00                 53.5  ...          NaN   \n2014-01-01T06:00:00+00:00                  NaN  ...          NaN   \n2015-01-01T00:00:00+01:00                 34.4  ...          NaN   \n2016-01-01T00:00:00+01:00                 45.9  ...          NaN   \n2017-01-01T00:00:00+01:00                 37.8  ...          NaN   \n2018-01-01T00:00:00+01:00                 38.6  ...          NaN   \n2019-01-01T00:00:00+01:00                 34.6  ...        13.50   \n2020-01-01T00:00:00+01:00                 36.1  ...         2.88   \n2020-01-01T06:00:00+00:00                  NaN  ...          NaN   \n2021-01-01T00:00:00+01:00                 36.4  ...         0.00   \n2021-01-01T06:00:00+00:00                  NaN  ...          NaN   \n2022-01-01T00:00:00+01:00                 33.4  ...        15.93   \n2022-01-01T06:00:00+00:00                  NaN  ...          NaN   \n2023-01-01T00:00:00+01:00                 37.4  ...         0.00   \n2023-01-01T06:00:00+00:00                  NaN  ...          NaN   \n\nparameterId                no_summer_days  no_tropical_nights  \\\nto                                                              \n2012-01-01T00:00:00+01:00            3.49                 NaN   \n2013-01-01T00:00:00+01:00             NaN                 NaN   \n2013-01-01T06:00:00+00:00             NaN                 NaN   \n2014-01-01T00:00:00+01:00             NaN                 NaN   \n2014-01-01T06:00:00+00:00             NaN                 NaN   \n2015-01-01T00:00:00+01:00             NaN                 NaN   \n2016-01-01T00:00:00+01:00             NaN                 NaN   \n2017-01-01T00:00:00+01:00             NaN                 NaN   \n2018-01-01T00:00:00+01:00             NaN                 NaN   \n2019-01-01T00:00:00+01:00           30.43                0.78   \n2020-01-01T00:00:00+01:00           14.93                0.02   \n2020-01-01T06:00:00+00:00             NaN                 NaN   \n2021-01-01T00:00:00+01:00           16.75                0.01   \n2021-01-01T06:00:00+00:00             NaN                 NaN   \n2022-01-01T00:00:00+01:00            9.90                0.03   \n2022-01-01T06:00:00+00:00             NaN                 NaN   \n2023-01-01T00:00:00+01:00            0.00                0.00   \n2023-01-01T06:00:00+00:00             NaN                 NaN   \n\nparameterId                pot_evaporation_makkink  pot_evaporation_penman  \\\nto                                                                           \n2012-01-01T00:00:00+01:00                    605.6                   531.2   \n2013-01-01T00:00:00+01:00                    602.1                   527.0   \n2013-01-01T06:00:00+00:00                      NaN                     NaN   \n2014-01-01T00:00:00+01:00                    631.5                   548.5   \n2014-01-01T06:00:00+00:00                      NaN                     NaN   \n2015-01-01T00:00:00+01:00                    647.2                   565.3   \n2016-01-01T00:00:00+01:00                    608.2                   544.1   \n2017-01-01T00:00:00+01:00                    617.8                   538.3   \n2018-01-01T00:00:00+01:00                    585.9                   516.3   \n2019-01-01T00:00:00+01:00                    691.9                   627.8   \n2020-01-01T00:00:00+01:00                    624.9                   729.4   \n2020-01-01T06:00:00+00:00                      NaN                     NaN   \n2021-01-01T00:00:00+01:00                    648.6                   814.4   \n2021-01-01T06:00:00+00:00                      NaN                     NaN   \n2022-01-01T00:00:00+01:00                    602.5                   662.9   \n2022-01-01T06:00:00+00:00                      NaN                     NaN   \n2023-01-01T00:00:00+01:00                    176.1                   215.7   \n2023-01-01T06:00:00+00:00                      NaN                     NaN   \n\nparameterId                snow_depth  temp_grass  temp_soil_10  temp_soil_30  \\\nto                                                                              \n2012-01-01T00:00:00+01:00         NaN         NaN           NaN           NaN   \n2013-01-01T00:00:00+01:00         NaN         NaN           NaN           NaN   \n2013-01-01T06:00:00+00:00        45.0         NaN           NaN           NaN   \n2014-01-01T00:00:00+01:00         NaN         NaN           NaN           NaN   \n2014-01-01T06:00:00+00:00        43.0         NaN           NaN           NaN   \n2015-01-01T00:00:00+01:00         NaN        10.2          10.5          10.3   \n2016-01-01T00:00:00+01:00         NaN         9.0           9.6           9.5   \n2017-01-01T00:00:00+01:00         NaN         8.9           9.6           9.5   \n2018-01-01T00:00:00+01:00         NaN         8.8           9.5           9.4   \n2019-01-01T00:00:00+01:00         NaN         9.6           9.9           9.7   \n2020-01-01T00:00:00+01:00         NaN         9.4           9.8           9.8   \n2020-01-01T06:00:00+00:00        21.0         NaN           NaN           NaN   \n2021-01-01T00:00:00+01:00         NaN         9.8          10.3          10.1   \n2021-01-01T06:00:00+00:00         0.0         NaN           NaN           NaN   \n2022-01-01T00:00:00+01:00         NaN         8.8           9.6           9.4   \n2022-01-01T06:00:00+00:00        22.0         NaN           NaN           NaN   \n2023-01-01T00:00:00+01:00         NaN         4.8           4.9           5.1   \n2023-01-01T06:00:00+00:00        12.0         NaN           NaN           NaN   \n\nparameterId                vapour_pressure_deficit_mean  \nto                                                       \n2012-01-01T00:00:00+01:00                           NaN  \n2013-01-01T00:00:00+01:00                           NaN  \n2013-01-01T06:00:00+00:00                           NaN  \n2014-01-01T00:00:00+01:00                           NaN  \n2014-01-01T06:00:00+00:00                           NaN  \n2015-01-01T00:00:00+01:00                           NaN  \n2016-01-01T00:00:00+01:00                           NaN  \n2017-01-01T00:00:00+01:00                           NaN  \n2018-01-01T00:00:00+01:00                           NaN  \n2019-01-01T00:00:00+01:00                           0.3  \n2020-01-01T00:00:00+01:00                           0.2  \n2020-01-01T06:00:00+00:00                           NaN  \n2021-01-01T00:00:00+01:00                           0.3  \n2021-01-01T06:00:00+00:00                           NaN  \n2022-01-01T00:00:00+01:00                           0.2  \n2022-01-01T06:00:00+00:00                           NaN  \n2023-01-01T00:00:00+01:00                           0.2  \n2023-01-01T06:00:00+00:00                           NaN  \n\n[18 rows x 35 columns]",
      "text/html": "<div>\n<style scoped>\n    .dataframe tbody tr th:only-of-type {\n        vertical-align: middle;\n    }\n\n    .dataframe tbody tr th {\n        vertical-align: top;\n    }\n\n    .dataframe thead th {\n        text-align: right;\n    }\n</style>\n<table border=\"1\" class=\"dataframe\">\n  <thead>\n    <tr style=\"text-align: right;\">\n      <th>parameterId</th>\n      <th>acc_heating_degree_days_17</th>\n      <th>acc_precip</th>\n      <th>bright_sunshine</th>\n      <th>corrected_acc_precip</th>\n      <th>drought_index</th>\n      <th>leaf_moisture</th>\n      <th>max_precip_30m</th>\n      <th>max_temp_w_date</th>\n      <th>max_wind_speed_10min</th>\n      <th>max_wind_speed_3sec</th>\n      <th>...</th>\n      <th>no_ice_days</th>\n      <th>no_summer_days</th>\n      <th>no_tropical_nights</th>\n      <th>pot_evaporation_makkink</th>\n      <th>pot_evaporation_penman</th>\n      <th>snow_depth</th>\n      <th>temp_grass</th>\n      <th>temp_soil_10</th>\n      <th>temp_soil_30</th>\n      <th>vapour_pressure_deficit_mean</th>\n    </tr>\n    <tr>\n      <th>to</th>\n      <th></th>\n      <th></th>\n      <th></th>\n      <th></th>\n      <th></th>\n      <th></th>\n      <th></th>\n      <th></th>\n      <th></th>\n      <th></th>\n      <th></th>\n      <th></th>\n      <th></th>\n      <th></th>\n      <th></th>\n      <th></th>\n      <th></th>\n      <th></th>\n      <th></th>\n      <th></th>\n      <th></th>\n    </tr>\n  </thead>\n  <tbody>\n    <tr>\n      <th>2012-01-01T00:00:00+01:00</th>\n      <td>2979.4</td>\n      <td>782.7</td>\n      <td>1680.8</td>\n      <td>846.7</td>\n      <td>1.9</td>\n      <td>NaN</td>\n      <td>48.0</td>\n      <td>28.2</td>\n      <td>30.4</td>\n      <td>38.2</td>\n      <td>...</td>\n      <td>16.02</td>\n      <td>3.49</td>\n      <td>NaN</td>\n      <td>605.6</td>\n      <td>531.2</td>\n      <td>NaN</td>\n      <td>NaN</td>\n      <td>NaN</td>\n      <td>NaN</td>\n      <td>NaN</td>\n    </tr>\n    <tr>\n      <th>2013-01-01T00:00:00+01:00</th>\n      <td>3235.4</td>\n      <td>819.0</td>\n      <td>1673.4</td>\n      <td>890.0</td>\n      <td>2.0</td>\n      <td>NaN</td>\n      <td>40.8</td>\n      <td>32.9</td>\n      <td>30.9</td>\n      <td>39.1</td>\n      <td>...</td>\n      <td>NaN</td>\n      <td>NaN</td>\n      <td>NaN</td>\n      <td>602.1</td>\n      <td>527.0</td>\n      <td>NaN</td>\n      <td>NaN</td>\n      <td>NaN</td>\n      <td>NaN</td>\n      <td>NaN</td>\n    </tr>\n    <tr>\n      <th>2013-01-01T06:00:00+00:00</th>\n      <td>NaN</td>\n      <td>NaN</td>\n      <td>NaN</td>\n      <td>NaN</td>\n      <td>NaN</td>\n      <td>NaN</td>\n      <td>NaN</td>\n      <td>NaN</td>\n      <td>NaN</td>\n      <td>NaN</td>\n      <td>...</td>\n      <td>NaN</td>\n      <td>NaN</td>\n      <td>NaN</td>\n      <td>NaN</td>\n      <td>NaN</td>\n      <td>45.0</td>\n      <td>NaN</td>\n      <td>NaN</td>\n      <td>NaN</td>\n      <td>NaN</td>\n    </tr>\n    <tr>\n      <th>2014-01-01T00:00:00+01:00</th>\n      <td>3208.8</td>\n      <td>669.0</td>\n      <td>1780.1</td>\n      <td>738.3</td>\n      <td>3.3</td>\n      <td>NaN</td>\n      <td>33.4</td>\n      <td>33.3</td>\n      <td>39.5</td>\n      <td>53.5</td>\n      <td>...</td>\n      <td>NaN</td>\n      <td>NaN</td>\n      <td>NaN</td>\n      <td>631.5</td>\n      <td>548.5</td>\n      <td>NaN</td>\n      <td>NaN</td>\n      <td>NaN</td>\n      <td>NaN</td>\n      <td>NaN</td>\n    </tr>\n    <tr>\n      <th>2014-01-01T06:00:00+00:00</th>\n      <td>NaN</td>\n      <td>NaN</td>\n      <td>NaN</td>\n      <td>NaN</td>\n      <td>NaN</td>\n      <td>NaN</td>\n      <td>NaN</td>\n      <td>NaN</td>\n      <td>NaN</td>\n      <td>NaN</td>\n      <td>...</td>\n      <td>NaN</td>\n      <td>NaN</td>\n      <td>NaN</td>\n      <td>NaN</td>\n      <td>NaN</td>\n      <td>43.0</td>\n      <td>NaN</td>\n      <td>NaN</td>\n      <td>NaN</td>\n      <td>NaN</td>\n    </tr>\n    <tr>\n      <th>2015-01-01T00:00:00+01:00</th>\n      <td>2663.5</td>\n      <td>819.6</td>\n      <td>1727.6</td>\n      <td>891.9</td>\n      <td>NaN</td>\n      <td>NaN</td>\n      <td>50.7</td>\n      <td>31.7</td>\n      <td>24.7</td>\n      <td>34.4</td>\n      <td>...</td>\n      <td>NaN</td>\n      <td>NaN</td>\n      <td>NaN</td>\n      <td>647.2</td>\n      <td>565.3</td>\n      <td>NaN</td>\n      <td>10.2</td>\n      <td>10.5</td>\n      <td>10.3</td>\n      <td>NaN</td>\n    </tr>\n    <tr>\n      <th>2016-01-01T00:00:00+01:00</th>\n      <td>2921.8</td>\n      <td>902.2</td>\n      <td>1662.2</td>\n      <td>980.5</td>\n      <td>2.0</td>\n      <td>140420.6</td>\n      <td>31.0</td>\n      <td>31.9</td>\n      <td>35.9</td>\n      <td>45.9</td>\n      <td>...</td>\n      <td>NaN</td>\n      <td>NaN</td>\n      <td>NaN</td>\n      <td>608.2</td>\n      <td>544.1</td>\n      <td>NaN</td>\n      <td>9.0</td>\n      <td>9.6</td>\n      <td>9.5</td>\n      <td>NaN</td>\n    </tr>\n    <tr>\n      <th>2017-01-01T00:00:00+01:00</th>\n      <td>2998.9</td>\n      <td>701.1</td>\n      <td>1689.7</td>\n      <td>762.8</td>\n      <td>NaN</td>\n      <td>126995.7</td>\n      <td>45.8</td>\n      <td>31.6</td>\n      <td>29.4</td>\n      <td>37.8</td>\n      <td>...</td>\n      <td>NaN</td>\n      <td>NaN</td>\n      <td>NaN</td>\n      <td>617.8</td>\n      <td>538.3</td>\n      <td>NaN</td>\n      <td>8.9</td>\n      <td>9.6</td>\n      <td>9.5</td>\n      <td>NaN</td>\n    </tr>\n    <tr>\n      <th>2018-01-01T00:00:00+01:00</th>\n      <td>2971.4</td>\n      <td>848.8</td>\n      <td>1512.2</td>\n      <td>918.1</td>\n      <td>1.7</td>\n      <td>126827.7</td>\n      <td>36.4</td>\n      <td>26.8</td>\n      <td>27.7</td>\n      <td>38.6</td>\n      <td>...</td>\n      <td>NaN</td>\n      <td>NaN</td>\n      <td>NaN</td>\n      <td>585.9</td>\n      <td>516.3</td>\n      <td>NaN</td>\n      <td>8.8</td>\n      <td>9.5</td>\n      <td>9.4</td>\n      <td>NaN</td>\n    </tr>\n    <tr>\n      <th>2019-01-01T00:00:00+01:00</th>\n      <td>2887.5</td>\n      <td>595.4</td>\n      <td>1905.0</td>\n      <td>662.2</td>\n      <td>3.3</td>\n      <td>142219.3</td>\n      <td>37.5</td>\n      <td>33.6</td>\n      <td>26.5</td>\n      <td>34.6</td>\n      <td>...</td>\n      <td>13.50</td>\n      <td>30.43</td>\n      <td>0.78</td>\n      <td>691.9</td>\n      <td>627.8</td>\n      <td>NaN</td>\n      <td>9.6</td>\n      <td>9.9</td>\n      <td>9.7</td>\n      <td>0.3</td>\n    </tr>\n    <tr>\n      <th>2020-01-01T00:00:00+01:00</th>\n      <td>2847.3</td>\n      <td>905.3</td>\n      <td>1729.3</td>\n      <td>973.3</td>\n      <td>3.4</td>\n      <td>173010.6</td>\n      <td>40.0</td>\n      <td>32.8</td>\n      <td>26.4</td>\n      <td>36.1</td>\n      <td>...</td>\n      <td>2.88</td>\n      <td>14.93</td>\n      <td>0.02</td>\n      <td>624.9</td>\n      <td>729.4</td>\n      <td>NaN</td>\n      <td>9.4</td>\n      <td>9.8</td>\n      <td>9.8</td>\n      <td>0.2</td>\n    </tr>\n    <tr>\n      <th>2020-01-01T06:00:00+00:00</th>\n      <td>NaN</td>\n      <td>NaN</td>\n      <td>NaN</td>\n      <td>NaN</td>\n      <td>NaN</td>\n      <td>NaN</td>\n      <td>NaN</td>\n      <td>NaN</td>\n      <td>NaN</td>\n      <td>NaN</td>\n      <td>...</td>\n      <td>NaN</td>\n      <td>NaN</td>\n      <td>NaN</td>\n      <td>NaN</td>\n      <td>NaN</td>\n      <td>21.0</td>\n      <td>NaN</td>\n      <td>NaN</td>\n      <td>NaN</td>\n      <td>NaN</td>\n    </tr>\n    <tr>\n      <th>2021-01-01T00:00:00+01:00</th>\n      <td>2714.5</td>\n      <td>773.0</td>\n      <td>1819.0</td>\n      <td>835.6</td>\n      <td>4.3</td>\n      <td>167360.3</td>\n      <td>42.2</td>\n      <td>32.4</td>\n      <td>25.1</td>\n      <td>36.4</td>\n      <td>...</td>\n      <td>0.00</td>\n      <td>16.75</td>\n      <td>0.01</td>\n      <td>648.6</td>\n      <td>814.4</td>\n      <td>NaN</td>\n      <td>9.8</td>\n      <td>10.3</td>\n      <td>10.1</td>\n      <td>0.3</td>\n    </tr>\n    <tr>\n      <th>2021-01-01T06:00:00+00:00</th>\n      <td>NaN</td>\n      <td>NaN</td>\n      <td>NaN</td>\n      <td>NaN</td>\n      <td>NaN</td>\n      <td>NaN</td>\n      <td>NaN</td>\n      <td>NaN</td>\n      <td>NaN</td>\n      <td>NaN</td>\n      <td>...</td>\n      <td>NaN</td>\n      <td>NaN</td>\n      <td>NaN</td>\n      <td>NaN</td>\n      <td>NaN</td>\n      <td>0.0</td>\n      <td>NaN</td>\n      <td>NaN</td>\n      <td>NaN</td>\n      <td>NaN</td>\n    </tr>\n    <tr>\n      <th>2022-01-01T00:00:00+01:00</th>\n      <td>3098.4</td>\n      <td>743.9</td>\n      <td>1640.2</td>\n      <td>823.4</td>\n      <td>3.1</td>\n      <td>131497.4</td>\n      <td>42.0</td>\n      <td>34.0</td>\n      <td>24.1</td>\n      <td>33.4</td>\n      <td>...</td>\n      <td>15.93</td>\n      <td>9.90</td>\n      <td>0.03</td>\n      <td>602.5</td>\n      <td>662.9</td>\n      <td>NaN</td>\n      <td>8.8</td>\n      <td>9.6</td>\n      <td>9.4</td>\n      <td>0.2</td>\n    </tr>\n    <tr>\n      <th>2022-01-01T06:00:00+00:00</th>\n      <td>NaN</td>\n      <td>NaN</td>\n      <td>NaN</td>\n      <td>NaN</td>\n      <td>NaN</td>\n      <td>NaN</td>\n      <td>NaN</td>\n      <td>NaN</td>\n      <td>NaN</td>\n      <td>NaN</td>\n      <td>...</td>\n      <td>NaN</td>\n      <td>NaN</td>\n      <td>NaN</td>\n      <td>NaN</td>\n      <td>NaN</td>\n      <td>22.0</td>\n      <td>NaN</td>\n      <td>NaN</td>\n      <td>NaN</td>\n      <td>NaN</td>\n    </tr>\n    <tr>\n      <th>2023-01-01T00:00:00+01:00</th>\n      <td>1573.9</td>\n      <td>223.1</td>\n      <td>715.9</td>\n      <td>246.9</td>\n      <td>2.7</td>\n      <td>45034.6</td>\n      <td>10.4</td>\n      <td>21.8</td>\n      <td>28.1</td>\n      <td>37.4</td>\n      <td>...</td>\n      <td>0.00</td>\n      <td>0.00</td>\n      <td>0.00</td>\n      <td>176.1</td>\n      <td>215.7</td>\n      <td>NaN</td>\n      <td>4.8</td>\n      <td>4.9</td>\n      <td>5.1</td>\n      <td>0.2</td>\n    </tr>\n    <tr>\n      <th>2023-01-01T06:00:00+00:00</th>\n      <td>NaN</td>\n      <td>NaN</td>\n      <td>NaN</td>\n      <td>NaN</td>\n      <td>NaN</td>\n      <td>NaN</td>\n      <td>NaN</td>\n      <td>NaN</td>\n      <td>NaN</td>\n      <td>NaN</td>\n      <td>...</td>\n      <td>NaN</td>\n      <td>NaN</td>\n      <td>NaN</td>\n      <td>NaN</td>\n      <td>NaN</td>\n      <td>12.0</td>\n      <td>NaN</td>\n      <td>NaN</td>\n      <td>NaN</td>\n      <td>NaN</td>\n    </tr>\n  </tbody>\n</table>\n<p>18 rows × 35 columns</p>\n</div>"
     },
     "execution_count": 31,
     "metadata": {},
     "output_type": "execute_result"
    }
   ],
   "source": [
    "df_year.pivot(index=\"to\",columns=\"parameterId\", values=\"value\")"
   ],
   "metadata": {
    "collapsed": false,
    "pycharm": {
     "name": "#%%\n"
    }
   }
  },
  {
   "cell_type": "code",
   "execution_count": null,
   "outputs": [],
   "source": [],
   "metadata": {
    "collapsed": false,
    "pycharm": {
     "name": "#%%\n"
    }
   }
  },
  {
   "cell_type": "markdown",
   "source": [
    "### For all stations"
   ],
   "metadata": {
    "collapsed": false
   }
  },
  {
   "cell_type": "code",
   "execution_count": 21,
   "outputs": [],
   "source": [
    "df = pd.read_csv(\"stations_all.csv\")"
   ],
   "metadata": {
    "collapsed": false,
    "pycharm": {
     "name": "#%%\n"
    }
   }
  },
  {
   "cell_type": "code",
   "execution_count": 22,
   "outputs": [
    {
     "data": {
      "text/plain": "   Unnamed: 0 geometry_type         coordinates  \\\n0           0         Point  [11.3292, 54.8275]   \n1           1         Point  [10.1272, 56.3027]   \n2           2         Point   [9.3338, 55.4376]   \n3           3         Point  [11.2787, 56.0083]   \n4           4         Point  [10.5693, 55.0144]   \n\n                       calculatedAt                           created  \\\n0  2019-02-14T08:37:14.690000+00:00  2022-02-24T17:24:57.842952+00:00   \n1  2014-12-10T23:07:34.568918+00:00  2022-02-24T19:32:19.112369+00:00   \n2  2018-11-21T01:25:54.259000+00:00  2022-02-24T16:02:04.375301+00:00   \n3  2019-02-14T08:37:13.094000+00:00  2022-02-24T17:42:14.729403+00:00   \n4  2018-11-21T01:25:54.259000+00:00  2022-02-24T16:03:47.992180+00:00   \n\n                        from                         to  \\\n0  2014-12-08T23:00:00+00:00  2014-12-09T00:00:00+00:00   \n1  2014-12-08T23:00:00+00:00  2014-12-09T00:00:00+00:00   \n2  2014-12-08T23:00:00+00:00  2014-12-09T00:00:00+00:00   \n3  2014-12-08T23:00:00+00:00  2014-12-09T00:00:00+00:00   \n4  2014-12-08T23:00:00+00:00  2014-12-09T00:00:00+00:00   \n\n                    parameterId qcStatus  stationId timeResolution  validity  \\\n0  vapour_pressure_deficit_mean     none       6141           hour      True   \n1                  temp_soil_30     none       6072           hour      True   \n2               max_temp_w_date   manual       6108           hour      True   \n3                 mean_wind_dir   manual       6169           hour      True   \n4               max_temp_w_date   manual       6124           hour      True   \n\n   value     type                                    ID  \n0    0.1  Feature  00306dcf-6150-15fe-e0a1-0693f5b575f0  \n1    4.4  Feature  00ec3205-c3d8-b3ea-97b4-dbee79ac545b  \n2    0.3  Feature  00f06483-f062-44f6-c332-dfb001213561  \n3  256.0  Feature  011f5735-b7f3-95a9-5e01-453880a45e28  \n4    3.2  Feature  01322ddc-51c3-33a6-07c2-e6328a76da5b  ",
      "text/html": "<div>\n<style scoped>\n    .dataframe tbody tr th:only-of-type {\n        vertical-align: middle;\n    }\n\n    .dataframe tbody tr th {\n        vertical-align: top;\n    }\n\n    .dataframe thead th {\n        text-align: right;\n    }\n</style>\n<table border=\"1\" class=\"dataframe\">\n  <thead>\n    <tr style=\"text-align: right;\">\n      <th></th>\n      <th>Unnamed: 0</th>\n      <th>geometry_type</th>\n      <th>coordinates</th>\n      <th>calculatedAt</th>\n      <th>created</th>\n      <th>from</th>\n      <th>to</th>\n      <th>parameterId</th>\n      <th>qcStatus</th>\n      <th>stationId</th>\n      <th>timeResolution</th>\n      <th>validity</th>\n      <th>value</th>\n      <th>type</th>\n      <th>ID</th>\n    </tr>\n  </thead>\n  <tbody>\n    <tr>\n      <th>0</th>\n      <td>0</td>\n      <td>Point</td>\n      <td>[11.3292, 54.8275]</td>\n      <td>2019-02-14T08:37:14.690000+00:00</td>\n      <td>2022-02-24T17:24:57.842952+00:00</td>\n      <td>2014-12-08T23:00:00+00:00</td>\n      <td>2014-12-09T00:00:00+00:00</td>\n      <td>vapour_pressure_deficit_mean</td>\n      <td>none</td>\n      <td>6141</td>\n      <td>hour</td>\n      <td>True</td>\n      <td>0.1</td>\n      <td>Feature</td>\n      <td>00306dcf-6150-15fe-e0a1-0693f5b575f0</td>\n    </tr>\n    <tr>\n      <th>1</th>\n      <td>1</td>\n      <td>Point</td>\n      <td>[10.1272, 56.3027]</td>\n      <td>2014-12-10T23:07:34.568918+00:00</td>\n      <td>2022-02-24T19:32:19.112369+00:00</td>\n      <td>2014-12-08T23:00:00+00:00</td>\n      <td>2014-12-09T00:00:00+00:00</td>\n      <td>temp_soil_30</td>\n      <td>none</td>\n      <td>6072</td>\n      <td>hour</td>\n      <td>True</td>\n      <td>4.4</td>\n      <td>Feature</td>\n      <td>00ec3205-c3d8-b3ea-97b4-dbee79ac545b</td>\n    </tr>\n    <tr>\n      <th>2</th>\n      <td>2</td>\n      <td>Point</td>\n      <td>[9.3338, 55.4376]</td>\n      <td>2018-11-21T01:25:54.259000+00:00</td>\n      <td>2022-02-24T16:02:04.375301+00:00</td>\n      <td>2014-12-08T23:00:00+00:00</td>\n      <td>2014-12-09T00:00:00+00:00</td>\n      <td>max_temp_w_date</td>\n      <td>manual</td>\n      <td>6108</td>\n      <td>hour</td>\n      <td>True</td>\n      <td>0.3</td>\n      <td>Feature</td>\n      <td>00f06483-f062-44f6-c332-dfb001213561</td>\n    </tr>\n    <tr>\n      <th>3</th>\n      <td>3</td>\n      <td>Point</td>\n      <td>[11.2787, 56.0083]</td>\n      <td>2019-02-14T08:37:13.094000+00:00</td>\n      <td>2022-02-24T17:42:14.729403+00:00</td>\n      <td>2014-12-08T23:00:00+00:00</td>\n      <td>2014-12-09T00:00:00+00:00</td>\n      <td>mean_wind_dir</td>\n      <td>manual</td>\n      <td>6169</td>\n      <td>hour</td>\n      <td>True</td>\n      <td>256.0</td>\n      <td>Feature</td>\n      <td>011f5735-b7f3-95a9-5e01-453880a45e28</td>\n    </tr>\n    <tr>\n      <th>4</th>\n      <td>4</td>\n      <td>Point</td>\n      <td>[10.5693, 55.0144]</td>\n      <td>2018-11-21T01:25:54.259000+00:00</td>\n      <td>2022-02-24T16:03:47.992180+00:00</td>\n      <td>2014-12-08T23:00:00+00:00</td>\n      <td>2014-12-09T00:00:00+00:00</td>\n      <td>max_temp_w_date</td>\n      <td>manual</td>\n      <td>6124</td>\n      <td>hour</td>\n      <td>True</td>\n      <td>3.2</td>\n      <td>Feature</td>\n      <td>01322ddc-51c3-33a6-07c2-e6328a76da5b</td>\n    </tr>\n  </tbody>\n</table>\n</div>"
     },
     "execution_count": 22,
     "metadata": {},
     "output_type": "execute_result"
    }
   ],
   "source": [
    "df.head()"
   ],
   "metadata": {
    "collapsed": false,
    "pycharm": {
     "name": "#%%\n"
    }
   }
  },
  {
   "cell_type": "code",
   "execution_count": 23,
   "outputs": [
    {
     "data": {
      "text/plain": "         Unnamed: 0     stationId         value\ncount  9.036859e+07  9.036859e+07  9.036859e+07\nmean   4.518430e+07  5.829185e+03  1.059313e+02\nstd    2.608717e+07  1.199497e+03  2.646158e+02\nmin    0.000000e+00  4.203000e+03 -9.000000e+01\n25%    2.259215e+07  6.031000e+03  4.000000e-01\n50%    4.518430e+07  6.082000e+03  7.100000e+00\n75%    6.777644e+07  6.141000e+03  5.700000e+01\nmax    9.036859e+07  3.433900e+04  1.293260e+04",
      "text/html": "<div>\n<style scoped>\n    .dataframe tbody tr th:only-of-type {\n        vertical-align: middle;\n    }\n\n    .dataframe tbody tr th {\n        vertical-align: top;\n    }\n\n    .dataframe thead th {\n        text-align: right;\n    }\n</style>\n<table border=\"1\" class=\"dataframe\">\n  <thead>\n    <tr style=\"text-align: right;\">\n      <th></th>\n      <th>Unnamed: 0</th>\n      <th>stationId</th>\n      <th>value</th>\n    </tr>\n  </thead>\n  <tbody>\n    <tr>\n      <th>count</th>\n      <td>9.036859e+07</td>\n      <td>9.036859e+07</td>\n      <td>9.036859e+07</td>\n    </tr>\n    <tr>\n      <th>mean</th>\n      <td>4.518430e+07</td>\n      <td>5.829185e+03</td>\n      <td>1.059313e+02</td>\n    </tr>\n    <tr>\n      <th>std</th>\n      <td>2.608717e+07</td>\n      <td>1.199497e+03</td>\n      <td>2.646158e+02</td>\n    </tr>\n    <tr>\n      <th>min</th>\n      <td>0.000000e+00</td>\n      <td>4.203000e+03</td>\n      <td>-9.000000e+01</td>\n    </tr>\n    <tr>\n      <th>25%</th>\n      <td>2.259215e+07</td>\n      <td>6.031000e+03</td>\n      <td>4.000000e-01</td>\n    </tr>\n    <tr>\n      <th>50%</th>\n      <td>4.518430e+07</td>\n      <td>6.082000e+03</td>\n      <td>7.100000e+00</td>\n    </tr>\n    <tr>\n      <th>75%</th>\n      <td>6.777644e+07</td>\n      <td>6.141000e+03</td>\n      <td>5.700000e+01</td>\n    </tr>\n    <tr>\n      <th>max</th>\n      <td>9.036859e+07</td>\n      <td>3.433900e+04</td>\n      <td>1.293260e+04</td>\n    </tr>\n  </tbody>\n</table>\n</div>"
     },
     "execution_count": 23,
     "metadata": {},
     "output_type": "execute_result"
    }
   ],
   "source": [
    "df.describe()"
   ],
   "metadata": {
    "collapsed": false,
    "pycharm": {
     "name": "#%%\n"
    }
   }
  },
  {
   "cell_type": "code",
   "execution_count": 24,
   "outputs": [],
   "source": [
    "df.drop(\"Unnamed: 0\",axis=1,inplace=True)\n",
    "df.drop(\"geometry_type\",axis=1,inplace=True)\n",
    "df.drop(\"calculatedAt\",axis=1,inplace=True)\n",
    "df.drop(\"created\",axis=1,inplace=True)\n",
    "df.drop(\"from\",axis=1,inplace=True)\n",
    "df.drop(\"ID\",axis=1,inplace=True)\n",
    "df.drop(\"type\",axis=1,inplace=True)\n",
    "df.drop(\"qcStatus\",axis=1,inplace=True)\n",
    "df.drop(\"validity\",axis=1,inplace=True)"
   ],
   "metadata": {
    "collapsed": false,
    "pycharm": {
     "name": "#%%\n"
    }
   }
  },
  {
   "cell_type": "code",
   "execution_count": 25,
   "outputs": [],
   "source": [
    "df.sort_values(by=\"to\",inplace=True)"
   ],
   "metadata": {
    "collapsed": false,
    "pycharm": {
     "name": "#%%\n"
    }
   }
  },
  {
   "cell_type": "code",
   "execution_count": 26,
   "outputs": [
    {
     "data": {
      "text/plain": "                 coordinates                         to           parameterId  \\\n52258837    [9.7872, 55.868]  2011-01-01T00:00:00+00:00         leaf_moisture   \n52262637   [12.1841, 54.879]  2011-01-01T00:00:00+00:00     mean_relative_hum   \n52262638  [11.8605, 55.2075]  2011-01-01T00:00:00+00:00            acc_precip   \n52262650   [9.8882, 55.2444]  2011-01-01T00:00:00+00:00  max_wind_speed_10min   \n52262665  [11.3879, 55.3224]  2011-01-01T00:00:00+00:00         mean_wind_dir   \n\n          stationId timeResolution  value  \n52258837       6102           hour    0.0  \n52262637       6147           hour   94.8  \n52262638       6154           hour    0.0  \n52262650       6123           hour   11.7  \n52262665       6135           hour  260.0  ",
      "text/html": "<div>\n<style scoped>\n    .dataframe tbody tr th:only-of-type {\n        vertical-align: middle;\n    }\n\n    .dataframe tbody tr th {\n        vertical-align: top;\n    }\n\n    .dataframe thead th {\n        text-align: right;\n    }\n</style>\n<table border=\"1\" class=\"dataframe\">\n  <thead>\n    <tr style=\"text-align: right;\">\n      <th></th>\n      <th>coordinates</th>\n      <th>to</th>\n      <th>parameterId</th>\n      <th>stationId</th>\n      <th>timeResolution</th>\n      <th>value</th>\n    </tr>\n  </thead>\n  <tbody>\n    <tr>\n      <th>52258837</th>\n      <td>[9.7872, 55.868]</td>\n      <td>2011-01-01T00:00:00+00:00</td>\n      <td>leaf_moisture</td>\n      <td>6102</td>\n      <td>hour</td>\n      <td>0.0</td>\n    </tr>\n    <tr>\n      <th>52262637</th>\n      <td>[12.1841, 54.879]</td>\n      <td>2011-01-01T00:00:00+00:00</td>\n      <td>mean_relative_hum</td>\n      <td>6147</td>\n      <td>hour</td>\n      <td>94.8</td>\n    </tr>\n    <tr>\n      <th>52262638</th>\n      <td>[11.8605, 55.2075]</td>\n      <td>2011-01-01T00:00:00+00:00</td>\n      <td>acc_precip</td>\n      <td>6154</td>\n      <td>hour</td>\n      <td>0.0</td>\n    </tr>\n    <tr>\n      <th>52262650</th>\n      <td>[9.8882, 55.2444]</td>\n      <td>2011-01-01T00:00:00+00:00</td>\n      <td>max_wind_speed_10min</td>\n      <td>6123</td>\n      <td>hour</td>\n      <td>11.7</td>\n    </tr>\n    <tr>\n      <th>52262665</th>\n      <td>[11.3879, 55.3224]</td>\n      <td>2011-01-01T00:00:00+00:00</td>\n      <td>mean_wind_dir</td>\n      <td>6135</td>\n      <td>hour</td>\n      <td>260.0</td>\n    </tr>\n  </tbody>\n</table>\n</div>"
     },
     "execution_count": 26,
     "metadata": {},
     "output_type": "execute_result"
    }
   ],
   "source": [
    "df.head()"
   ],
   "metadata": {
    "collapsed": false,
    "pycharm": {
     "name": "#%%\n"
    }
   }
  },
  {
   "cell_type": "code",
   "execution_count": 27,
   "outputs": [
    {
     "data": {
      "text/plain": "                  coordinates                         to  \\\n54407442  [-18.6681, 76.7694]  2023-01-01T06:00:00+00:00   \n54407454  [-51.7308, 64.1833]  2023-01-01T06:00:00+00:00   \n54407459  [-57.7231, 74.0606]  2023-01-01T06:00:00+00:00   \n54407424  [-50.4058, 62.5789]  2023-01-01T06:00:00+00:00   \n54407183  [-46.0489, 60.7156]  2023-01-01T06:00:00+00:00   \n\n                   parameterId  stationId timeResolution  value  \n54407442              min_temp       4320           year  -37.1  \n54407454   mean_daily_min_temp       4250           year   -9.2  \n54407459          no_cold_days       4208           year  129.0  \n54407424          no_cold_days       4253           year   44.0  \n54407183  mean_vapour_pressure       4272           year    5.2  ",
      "text/html": "<div>\n<style scoped>\n    .dataframe tbody tr th:only-of-type {\n        vertical-align: middle;\n    }\n\n    .dataframe tbody tr th {\n        vertical-align: top;\n    }\n\n    .dataframe thead th {\n        text-align: right;\n    }\n</style>\n<table border=\"1\" class=\"dataframe\">\n  <thead>\n    <tr style=\"text-align: right;\">\n      <th></th>\n      <th>coordinates</th>\n      <th>to</th>\n      <th>parameterId</th>\n      <th>stationId</th>\n      <th>timeResolution</th>\n      <th>value</th>\n    </tr>\n  </thead>\n  <tbody>\n    <tr>\n      <th>54407442</th>\n      <td>[-18.6681, 76.7694]</td>\n      <td>2023-01-01T06:00:00+00:00</td>\n      <td>min_temp</td>\n      <td>4320</td>\n      <td>year</td>\n      <td>-37.1</td>\n    </tr>\n    <tr>\n      <th>54407454</th>\n      <td>[-51.7308, 64.1833]</td>\n      <td>2023-01-01T06:00:00+00:00</td>\n      <td>mean_daily_min_temp</td>\n      <td>4250</td>\n      <td>year</td>\n      <td>-9.2</td>\n    </tr>\n    <tr>\n      <th>54407459</th>\n      <td>[-57.7231, 74.0606]</td>\n      <td>2023-01-01T06:00:00+00:00</td>\n      <td>no_cold_days</td>\n      <td>4208</td>\n      <td>year</td>\n      <td>129.0</td>\n    </tr>\n    <tr>\n      <th>54407424</th>\n      <td>[-50.4058, 62.5789]</td>\n      <td>2023-01-01T06:00:00+00:00</td>\n      <td>no_cold_days</td>\n      <td>4253</td>\n      <td>year</td>\n      <td>44.0</td>\n    </tr>\n    <tr>\n      <th>54407183</th>\n      <td>[-46.0489, 60.7156]</td>\n      <td>2023-01-01T06:00:00+00:00</td>\n      <td>mean_vapour_pressure</td>\n      <td>4272</td>\n      <td>year</td>\n      <td>5.2</td>\n    </tr>\n  </tbody>\n</table>\n</div>"
     },
     "execution_count": 27,
     "metadata": {},
     "output_type": "execute_result"
    }
   ],
   "source": [
    "df.tail()"
   ],
   "metadata": {
    "collapsed": false,
    "pycharm": {
     "name": "#%%\n"
    }
   }
  },
  {
   "cell_type": "code",
   "execution_count": 38,
   "outputs": [],
   "source": [
    "df.to_csv(\"stations_processed.csv\")"
   ],
   "metadata": {
    "collapsed": false,
    "pycharm": {
     "name": "#%%\n"
    }
   }
  },
  {
   "cell_type": "code",
   "execution_count": 28,
   "outputs": [
    {
     "data": {
      "text/plain": "array(['hour', 'day', 'month', 'year'], dtype=object)"
     },
     "execution_count": 28,
     "metadata": {},
     "output_type": "execute_result"
    }
   ],
   "source": [
    "df.timeResolution.unique()"
   ],
   "metadata": {
    "collapsed": false,
    "pycharm": {
     "name": "#%%\n"
    }
   }
  },
  {
   "cell_type": "code",
   "execution_count": 30,
   "outputs": [
    {
     "data": {
      "text/plain": "array([ 6102,  6147,  6154,  6123,  6135,  6056,  6159,  6104,  6065,\n        6151,  6081,  6188,  6058,  6197,  6124,  6088,  6072,  6136,\n        6174,  6141,  5095,  6169,  6170,  6079,  6118,  6019,  6138,\n        6156,  6031,  6190,  5075,  6181,  5529,  6074,  6126,  6073,\n        6096,  6049,  6119,  6082,  6193,  6052,  6032,  5381,  6180,\n        6093,  6051,  6149,  5085,  6068,  6187,  6041,  5505,  6080,\n        5169,  5035,  5735,  5070,  6132,  5165,  5220,  6186,  5345,\n        6116,  6120,  6168,  5300,  5365,  5455,  5225,  6070,  6108,\n        5970,  5135,  5065,  5350,  5009,  5109,  5499,  5290,  5395,\n        5105,  5575,  5545,  5450,  5400,  5185,  5986,  5435,  5994,\n        5305,  5880,  5015,  5089,  5081,  5935,  5005,  5355,  5150,\n        5031,  5269,  5140,  5375,  5469,  5329,  5510,  5889,  5205,\n        5320,  5945,  5160,  5440, 23100, 26340, 20670, 27008, 20000,\n       23160, 31199, 27082, 25339, 31040, 20085, 31185, 24490, 31570,\n       23133, 20030, 29330, 22020, 21020, 22162, 26358, 28240, 29020,\n       24142, 20228, 25045, 26210, 32175, 21100, 29243, 31350, 26450,\n       21120, 21430, 20600, 30075, 22080, 20400, 28552, 21160, 28590,\n       20055, 28385, 22410,  5276, 24043, 21080, 28110, 29194, 31400,\n        5272, 20561, 25270,  5202,  5277, 24430, 24380, 24102, 24171,\n       30187, 25161, 31259, 30414, 23327, 22232, 22189, 21208, 28280,\n       32110,  5537,  5296, 29440,  5343,  5199,  4272,  4242,  4250,\n        4330,  4271,  4351,  4208,  4220,  4228,  4214,  4320,  4382,\n        4339,  4203,  4266,  4312,  4253,  4285,  4373, 34320, 34270,\n        4390,  4301,  4313,  4360, 21368, 34339, 20279,  5406,  5042,\n       28032, 20552, 31509, 20315, 30215,  5408, 20375, 23360, 28188])"
     },
     "execution_count": 30,
     "metadata": {},
     "output_type": "execute_result"
    }
   ],
   "source": [
    "df.stationId.unique()"
   ],
   "metadata": {
    "collapsed": false,
    "pycharm": {
     "name": "#%%\n"
    }
   }
  },
  {
   "cell_type": "code",
   "execution_count": 31,
   "outputs": [
    {
     "data": {
      "text/plain": "array(['[9.7872, 55.868]', '[12.1841, 54.879]', '[11.8605, 55.2075]',\n       '[9.8882, 55.2444]', '[11.3879, 55.3224]', '[8.6705, 56.383]',\n       '[10.8694, 55.7435]', '[9.1674, 55.7379]', '[9.5067, 56.7558]',\n       '[11.1348, 55.1593]', '[8.0828, 55.5575]', '[12.4121, 55.8764]',\n       '[8.1413, 56.0072]', '[15.0953, 55.0557]', '[10.5693, 55.0144]',\n       '[8.4, 55.4484]', '[10.1272, 56.3027]', '[11.3285, 55.2465]',\n       '[12.149, 55.3955]', '[11.3292, 54.8275]', '[8.3774, 56.9514]',\n       '[11.2787, 56.0083]', '[12.1366, 55.5867]', '[11.5098, 56.7169]',\n       '[9.793, 54.9616]', '[8.6412, 56.93]', '[10.9939, 54.8205]',\n       '[11.6035, 55.7358]', '[9.9527, 57.1852]', '[14.7494, 55.0677]',\n       '[9.7204, 56.6646]', '[12.5263, 55.7664]', '[11.3309, 55.7521]',\n       '[10.1353, 56.0803]', '[10.4398, 55.3088]', '[10.5135, 56.0955]',\n       '[8.5599, 55.1904]', '[10.0929, 56.5604]', '[9.988, 54.8528]',\n       '[8.6242, 55.9591]', '[14.7718, 55.2979]', '[8.215, 56.7068]',\n       '[10.3349, 57.3828]', '[9.2058, 55.147]', '[12.6455, 55.614]',\n       '[8.6551, 55.2908]', '[8.3207, 56.7637]', '[11.9435, 54.5687]',\n       '[9.2889, 57.0143]', '[9.1811, 56.0939]', '[12.5985, 55.6886]',\n       '[10.6316, 57.7364]', '[11.709, 55.5633]', '[8.5626, 55.5281]',\n       '[10.2535, 55.9126]', '[10.471, 57.2215]', '[12.5742, 55.6878]',\n       '[10.1644, 56.7157]', '[10.6217, 55.8315]', '[10.6185, 55.8322]',\n       '[9.9962, 55.7102]', '[12.5439, 55.6861]', '[8.7433, 55.3286]',\n       '[9.1229, 54.8986]', '[10.3305, 55.4749]', '[12.3424, 56.1193]',\n       '[8.1659, 56.2604]', '[9.4092, 54.9377]', '[10.7234, 54.9463]',\n       '[9.5533, 55.8314]', '[10.6254, 56.3083]', '[9.3338, 55.4376]',\n       '[11.3515, 54.6573]', '[9.6213, 56.2763]', '[9.8247, 56.8136]',\n       '[8.8326, 55.0561]', '[9.7607, 57.4185]', '[9.0945, 56.7637]',\n       '[11.8623, 55.4069]', '[8.5476, 56.6553]', '[9.6684, 55.2555]',\n       '[8.7296, 56.8334]', '[12.292, 56.0428]', '[11.6053, 55.8689]',\n       '[10.7094, 54.7567]', '[9.8949, 55.4927]', '[9.7877, 56.1496]',\n       '[12.4538, 54.9922]', '[10.1025, 55.0977]', '[14.9683, 55.163]',\n       '[8.4716, 56.1828]', '[12.4223, 55.2932]', '[10.2704, 57.4029]',\n       '[8.9649, 57.1518]', '[9.4041, 56.879]', '[11.8285, 55.0983]',\n       '[10.1074, 57.5705]', '[8.6652, 54.9872]', '[10.4403, 56.5062]',\n       '[11.0292, 57.2746]', '[9.0163, 55.8528]', '[10.1004, 56.5665]',\n       '[9.6811, 55.0646]', '[10.7279, 55.3041]', '[8.3425, 55.7199]',\n       '[11.238, 55.5271]', '[12.098, 55.2075]', '[9.7022, 55.961]',\n       '[8.6933, 55.7246]', '[11.5336, 54.9798]', '[10.5466, 56.1103]',\n       '[10.4211, 55.0741]', '[9.7021, 55.961]', nan,\n       '[10.6318, 57.7363]', '[11.8285, 55.0984]', '[10.0983, 56.5664]',\n       '[10.7279, 55.3042]', '[9.2057, 55.147]', '[12.2918, 56.0428]',\n       '[9.0162, 55.8528]', '[8.3769, 56.951]', '[8.8327, 55.0562]',\n       '[8.6933, 55.7247]', '[10.2565, 55.9117]', '[12.4537, 54.9923]',\n       '[11.8285, 55.0987]', '[11.8621, 55.4069]', '[12.0981, 55.2076]',\n       '[9.1594, 56.0372]', '[12.2918, 56.0429]', '[11.3374, 55.7489]',\n       '[11.2383, 55.5266]', '[8.7436, 55.329]', '[9.68, 55.0646]',\n       '[9.4116, 54.9316]', '[10.1073, 57.5705]', '[12.0979, 55.2074]',\n       '[9.7876, 56.1496]', '[11.2379, 55.5271]', '[9.8948, 55.4927]',\n       '[11.1541, 54.826]', '[9.0946, 56.7637]', '[9.0162, 55.8527]',\n       '[10.7234, 54.9462]', '[9.6256, 56.2761]', '[10.4708, 57.2214]',\n       '[10.1645, 56.7157]', '[9.7608, 57.4185]', '[10.1024, 55.0977]',\n       '[10.2705, 57.4029]', '[9.1168, 55.9654]', '[8.6932, 55.7246]',\n       '[8.1653, 56.2601]', '[10.4249, 55.0721]', '[10.1009, 55.0978]',\n       '[9.7012, 56.6509]', '[9.8245, 56.814]', '[9.5531, 55.8311]',\n       '[9.8953, 55.4935]', '[12.4218, 55.2931]', '[11.862, 55.4069]',\n       '[9.3768, 55.9603]', '[8.9854, 56.0626]', '[8.9855, 56.0627]',\n       '[8.6196, 55.9571]', '[8.4863, 56.184]', '[8.5231, 55.5213]',\n       '[11.3405, 54.8073]', '[12.0747, 55.6343]', '[9.4847, 55.4716]',\n       '[10.1292, 56.308]', '[10.6619, 56.3037]', '[14.8205, 55.1069]',\n       '[11.4942, 55.6366]', '[11.5336, 54.98]', '[8.1465, 56.5032]',\n       '[12.5739, 55.6877]', '[12.444, 54.9963]', '[12.4115, 55.8796]',\n       '[8.3327, 55.723]', '[11.3284, 55.2465]', '[8.9036, 55.4929]',\n       '[10.3304, 55.4748]', '[9.3298, 56.0761]', '[-46.0489, 60.7156]',\n       '[-52.5286, 65.0131]', '[-51.7308, 64.1833]',\n       '[-20.2169, 74.3075]', '[-45.44, 61.1575]', '[-32.2842, 67.7817]',\n       '[-57.7231, 74.0606]', '[-52.8517, 68.7081]', '[-53.965, 67.7842]',\n       '[-54.6, 70.6561]', '[-18.6681, 76.7694]', '[-42.0678, 61.9364]',\n       '[-21.9511, 70.4844]', '[-73.1208, 76.7333]',\n       '[-48.4544, 60.7636]', '[-16.6633, 81.6033]',\n       '[-50.4058, 62.5789]', '[-45.1461, 59.9911]',\n       '[-40.3017, 64.7819]', '[-43.1653, 60.0553]',\n       '[-33.3739, 83.6561]', '[-13.7119, 80.6494]',\n       '[-37.6367, 65.6111]', '[9.1139, 56.2934]', '[9.1916, 56.5446]',\n       '[9.2877, 57.0143]', '[10.2275, 56.9556]', '[10.393, 55.5815]',\n       '[10.2232, 56.9564]', '[9.0906, 55.471]', '[9.5059, 56.7575]',\n       '[8.4712, 56.1826]', '[9.7875, 56.1496]', '[11.6064, 55.8687]',\n       '[11.6064, 55.8686]', '[10.728, 55.3041]', '[11.4935, 55.639]',\n       '[11.9101, 54.7926]', '[10.0351, 57.0105]', '[12.5622, 55.7161]',\n       '[8.7297, 56.8334]', '[12.5768, 55.6858]', '[14.97, 55.1635]',\n       '[8.6201, 56.3534]', '[12.0424, 55.6429]', '[8.5112, 55.9126]',\n       '[11.9315, 54.779]', '[10.438, 55.3257]', '[9.5253, 57.0945]',\n       '[12.245, 54.9595]', '[9.4715, 55.2561]', '[10.3412, 55.5677]',\n       '[9.6315, 56.2745]', '[10.7618, 55.3474]', '[11.2341, 55.5184]',\n       '[8.4795, 56.1789]', '[8.511, 55.9114]', '[8.4871, 56.1837]',\n       '[12.24, 54.96]', '[11.8648, 55.4026]', '[9.7612, 57.4219]',\n       '[10.3063, 55.4392]'], dtype=object)"
     },
     "execution_count": 31,
     "metadata": {},
     "output_type": "execute_result"
    }
   ],
   "source": [
    "df.coordinates.unique()"
   ],
   "metadata": {
    "collapsed": false,
    "pycharm": {
     "name": "#%%\n"
    }
   }
  },
  {
   "cell_type": "code",
   "execution_count": 35,
   "outputs": [
    {
     "data": {
      "text/plain": "array(['2011-01-01T00:00:00+00:00', '2011-01-01T01:00:00+00:00',\n       '2011-01-01T02:00:00+00:00', ..., '2022-06-01T06:00:00+00:00',\n       '2023-01-01T00:00:00+01:00', '2023-01-01T06:00:00+00:00'],\n      dtype=object)"
     },
     "execution_count": 35,
     "metadata": {},
     "output_type": "execute_result"
    }
   ],
   "source": [
    "df.to.unique()"
   ],
   "metadata": {
    "collapsed": false,
    "pycharm": {
     "name": "#%%\n"
    }
   }
  },
  {
   "cell_type": "code",
   "execution_count": 32,
   "outputs": [],
   "source": [
    "df.drop(\"stationId\",axis=1,inplace=True)"
   ],
   "metadata": {
    "collapsed": false,
    "pycharm": {
     "name": "#%%\n"
    }
   }
  },
  {
   "cell_type": "code",
   "execution_count": 33,
   "outputs": [],
   "source": [
    "df_hour = df.loc[df[\"timeResolution\"]==\"hour\"]\n",
    "df_day = df.loc[df[\"timeResolution\"]==\"day\"]\n",
    "df_month = df.loc[df[\"timeResolution\"]==\"month\"]\n",
    "df_year = df.loc[df[\"timeResolution\"]==\"year\"]"
   ],
   "metadata": {
    "collapsed": false,
    "pycharm": {
     "name": "#%%\n"
    }
   }
  },
  {
   "cell_type": "code",
   "execution_count": 37,
   "outputs": [
    {
     "data": {
      "text/plain": "parameterId                                   acc_precip  acc_precip_past12h  \\\nto                        coordinates                                          \n2011-01-01T00:00:00+00:00 [10.0929, 56.5604]         NaN                 NaN   \n                          [10.1004, 56.5665]         1.0                 NaN   \n                          [10.1025, 55.0977]         0.0                 NaN   \n                          [10.1074, 57.5705]         0.0                 NaN   \n                          [10.1272, 56.3027]         0.5                 NaN   \n...                                                  ...                 ...   \n2022-05-12T17:00:00+00:00 [9.8882, 55.2444]          NaN                 NaN   \n                          [9.8953, 55.4935]          0.0                 NaN   \n                          [9.9527, 57.1852]          0.0                 NaN   \n                          [9.988, 54.8528]           0.0                 NaN   \n                          [9.9962, 55.7102]          0.0                 NaN   \n\nparameterId                                   acc_precip_past24h  \\\nto                        coordinates                              \n2011-01-01T00:00:00+00:00 [10.0929, 56.5604]                 NaN   \n                          [10.1004, 56.5665]                 NaN   \n                          [10.1025, 55.0977]                 NaN   \n                          [10.1074, 57.5705]                 NaN   \n                          [10.1272, 56.3027]                 NaN   \n...                                                          ...   \n2022-05-12T17:00:00+00:00 [9.8882, 55.2444]                  NaN   \n                          [9.8953, 55.4935]                  NaN   \n                          [9.9527, 57.1852]                  NaN   \n                          [9.988, 54.8528]                   NaN   \n                          [9.9962, 55.7102]                  NaN   \n\nparameterId                                   bright_sunshine  leaf_moisture  \\\nto                        coordinates                                          \n2011-01-01T00:00:00+00:00 [10.0929, 56.5604]              NaN            NaN   \n                          [10.1004, 56.5665]              NaN            NaN   \n                          [10.1025, 55.0977]              NaN            NaN   \n                          [10.1074, 57.5705]              NaN            NaN   \n                          [10.1272, 56.3027]              0.0           60.0   \n...                                                       ...            ...   \n2022-05-12T17:00:00+00:00 [9.8882, 55.2444]              54.0            NaN   \n                          [9.8953, 55.4935]               NaN            NaN   \n                          [9.9527, 57.1852]              57.0            0.0   \n                          [9.988, 54.8528]                NaN            NaN   \n                          [9.9962, 55.7102]               NaN            NaN   \n\nparameterId                                   max_temp_12h  max_temp_w_date  \\\nto                        coordinates                                         \n2011-01-01T00:00:00+00:00 [10.0929, 56.5604]           NaN              4.0   \n                          [10.1004, 56.5665]           NaN              NaN   \n                          [10.1025, 55.0977]           NaN              NaN   \n                          [10.1074, 57.5705]           NaN              NaN   \n                          [10.1272, 56.3027]           NaN              4.6   \n...                                                    ...              ...   \n2022-05-12T17:00:00+00:00 [9.8882, 55.2444]            NaN             13.8   \n                          [9.8953, 55.4935]            NaN              NaN   \n                          [9.9527, 57.1852]            NaN             12.3   \n                          [9.988, 54.8528]             NaN             14.4   \n                          [9.9962, 55.7102]            NaN              NaN   \n\nparameterId                                   max_wind_speed_10min  \\\nto                        coordinates                                \n2011-01-01T00:00:00+00:00 [10.0929, 56.5604]                  18.7   \n                          [10.1004, 56.5665]                   NaN   \n                          [10.1025, 55.0977]                   NaN   \n                          [10.1074, 57.5705]                   NaN   \n                          [10.1272, 56.3027]                  13.1   \n...                                                            ...   \n2022-05-12T17:00:00+00:00 [9.8882, 55.2444]                    9.2   \n                          [9.8953, 55.4935]                    NaN   \n                          [9.9527, 57.1852]                    8.7   \n                          [9.988, 54.8528]                    10.2   \n                          [9.9962, 55.7102]                    NaN   \n\nparameterId                                   max_wind_speed_3sec  \\\nto                        coordinates                               \n2011-01-01T00:00:00+00:00 [10.0929, 56.5604]                 27.4   \n                          [10.1004, 56.5665]                  NaN   \n                          [10.1025, 55.0977]                  NaN   \n                          [10.1074, 57.5705]                  NaN   \n                          [10.1272, 56.3027]                 22.4   \n...                                                           ...   \n2022-05-12T17:00:00+00:00 [9.8882, 55.2444]                  11.6   \n                          [9.8953, 55.4935]                   NaN   \n                          [9.9527, 57.1852]                  12.3   \n                          [9.988, 54.8528]                   14.1   \n                          [9.9962, 55.7102]                   NaN   \n\nparameterId                                   mean_cloud_cover  ...  \\\nto                        coordinates                           ...   \n2011-01-01T00:00:00+00:00 [10.0929, 56.5604]               NaN  ...   \n                          [10.1004, 56.5665]               NaN  ...   \n                          [10.1025, 55.0977]               NaN  ...   \n                          [10.1074, 57.5705]               NaN  ...   \n                          [10.1272, 56.3027]               NaN  ...   \n...                                                        ...  ...   \n2022-05-12T17:00:00+00:00 [9.8882, 55.2444]                NaN  ...   \n                          [9.8953, 55.4935]                NaN  ...   \n                          [9.9527, 57.1852]                NaN  ...   \n                          [9.988, 54.8528]                 NaN  ...   \n                          [9.9962, 55.7102]                NaN  ...   \n\nparameterId                                   mean_temp  mean_wind_dir  \\\nto                        coordinates                                    \n2011-01-01T00:00:00+00:00 [10.0929, 56.5604]        3.6          287.0   \n                          [10.1004, 56.5665]        NaN            NaN   \n                          [10.1025, 55.0977]        NaN            NaN   \n                          [10.1074, 57.5705]        NaN            NaN   \n                          [10.1272, 56.3027]        4.3          283.0   \n...                                                 ...            ...   \n2022-05-12T17:00:00+00:00 [9.8882, 55.2444]        13.3          282.0   \n                          [9.8953, 55.4935]         NaN            NaN   \n                          [9.9527, 57.1852]        11.9          281.0   \n                          [9.988, 54.8528]         14.1          266.0   \n                          [9.9962, 55.7102]         NaN            NaN   \n\nparameterId                                   mean_wind_dir_min0  \\\nto                        coordinates                              \n2011-01-01T00:00:00+00:00 [10.0929, 56.5604]                 NaN   \n                          [10.1004, 56.5665]                 NaN   \n                          [10.1025, 55.0977]                 NaN   \n                          [10.1074, 57.5705]                 NaN   \n                          [10.1272, 56.3027]                 NaN   \n...                                                          ...   \n2022-05-12T17:00:00+00:00 [9.8882, 55.2444]                  NaN   \n                          [9.8953, 55.4935]                  NaN   \n                          [9.9527, 57.1852]                  NaN   \n                          [9.988, 54.8528]                   NaN   \n                          [9.9962, 55.7102]                  NaN   \n\nparameterId                                   mean_wind_speed  min_temp  \\\nto                        coordinates                                     \n2011-01-01T00:00:00+00:00 [10.0929, 56.5604]             15.1       3.0   \n                          [10.1004, 56.5665]              NaN       NaN   \n                          [10.1025, 55.0977]              NaN       NaN   \n                          [10.1074, 57.5705]              NaN       NaN   \n                          [10.1272, 56.3027]              9.9       3.9   \n...                                                       ...       ...   \n2022-05-12T17:00:00+00:00 [9.8882, 55.2444]               8.2      13.0   \n                          [9.8953, 55.4935]               NaN       NaN   \n                          [9.9527, 57.1852]               7.9      11.6   \n                          [9.988, 54.8528]                9.1      13.7   \n                          [9.9962, 55.7102]               NaN       NaN   \n\nparameterId                                   min_temperature_12h  temp_grass  \\\nto                        coordinates                                           \n2011-01-01T00:00:00+00:00 [10.0929, 56.5604]                  NaN         NaN   \n                          [10.1004, 56.5665]                  NaN         NaN   \n                          [10.1025, 55.0977]                  NaN         NaN   \n                          [10.1074, 57.5705]                  NaN         NaN   \n                          [10.1272, 56.3027]                  NaN         3.1   \n...                                                           ...         ...   \n2022-05-12T17:00:00+00:00 [9.8882, 55.2444]                   NaN         NaN   \n                          [9.8953, 55.4935]                   NaN         NaN   \n                          [9.9527, 57.1852]                   NaN        13.3   \n                          [9.988, 54.8528]                    NaN         NaN   \n                          [9.9962, 55.7102]                   NaN         NaN   \n\nparameterId                                   temp_soil_10  temp_soil_30  \\\nto                        coordinates                                      \n2011-01-01T00:00:00+00:00 [10.0929, 56.5604]           NaN           NaN   \n                          [10.1004, 56.5665]           NaN           NaN   \n                          [10.1025, 55.0977]           NaN           NaN   \n                          [10.1074, 57.5705]           NaN           NaN   \n                          [10.1272, 56.3027]           0.3           0.9   \n...                                                    ...           ...   \n2022-05-12T17:00:00+00:00 [9.8882, 55.2444]            NaN           NaN   \n                          [9.8953, 55.4935]            NaN           NaN   \n                          [9.9527, 57.1852]            9.7           8.8   \n                          [9.988, 54.8528]             NaN           NaN   \n                          [9.9962, 55.7102]            NaN           NaN   \n\nparameterId                                   vapour_pressure_deficit_mean  \nto                        coordinates                                       \n2011-01-01T00:00:00+00:00 [10.0929, 56.5604]                           0.1  \n                          [10.1004, 56.5665]                           NaN  \n                          [10.1025, 55.0977]                           NaN  \n                          [10.1074, 57.5705]                           NaN  \n                          [10.1272, 56.3027]                           0.1  \n...                                                                    ...  \n2022-05-12T17:00:00+00:00 [9.8882, 55.2444]                            0.5  \n                          [9.8953, 55.4935]                            NaN  \n                          [9.9527, 57.1852]                            0.5  \n                          [9.988, 54.8528]                             0.5  \n                          [9.9962, 55.7102]                            NaN  \n\n[13484468 rows x 23 columns]",
      "text/html": "<div>\n<style scoped>\n    .dataframe tbody tr th:only-of-type {\n        vertical-align: middle;\n    }\n\n    .dataframe tbody tr th {\n        vertical-align: top;\n    }\n\n    .dataframe thead th {\n        text-align: right;\n    }\n</style>\n<table border=\"1\" class=\"dataframe\">\n  <thead>\n    <tr style=\"text-align: right;\">\n      <th></th>\n      <th>parameterId</th>\n      <th>acc_precip</th>\n      <th>acc_precip_past12h</th>\n      <th>acc_precip_past24h</th>\n      <th>bright_sunshine</th>\n      <th>leaf_moisture</th>\n      <th>max_temp_12h</th>\n      <th>max_temp_w_date</th>\n      <th>max_wind_speed_10min</th>\n      <th>max_wind_speed_3sec</th>\n      <th>mean_cloud_cover</th>\n      <th>...</th>\n      <th>mean_temp</th>\n      <th>mean_wind_dir</th>\n      <th>mean_wind_dir_min0</th>\n      <th>mean_wind_speed</th>\n      <th>min_temp</th>\n      <th>min_temperature_12h</th>\n      <th>temp_grass</th>\n      <th>temp_soil_10</th>\n      <th>temp_soil_30</th>\n      <th>vapour_pressure_deficit_mean</th>\n    </tr>\n    <tr>\n      <th>to</th>\n      <th>coordinates</th>\n      <th></th>\n      <th></th>\n      <th></th>\n      <th></th>\n      <th></th>\n      <th></th>\n      <th></th>\n      <th></th>\n      <th></th>\n      <th></th>\n      <th></th>\n      <th></th>\n      <th></th>\n      <th></th>\n      <th></th>\n      <th></th>\n      <th></th>\n      <th></th>\n      <th></th>\n      <th></th>\n      <th></th>\n    </tr>\n  </thead>\n  <tbody>\n    <tr>\n      <th rowspan=\"5\" valign=\"top\">2011-01-01T00:00:00+00:00</th>\n      <th>[10.0929, 56.5604]</th>\n      <td>NaN</td>\n      <td>NaN</td>\n      <td>NaN</td>\n      <td>NaN</td>\n      <td>NaN</td>\n      <td>NaN</td>\n      <td>4.0</td>\n      <td>18.7</td>\n      <td>27.4</td>\n      <td>NaN</td>\n      <td>...</td>\n      <td>3.6</td>\n      <td>287.0</td>\n      <td>NaN</td>\n      <td>15.1</td>\n      <td>3.0</td>\n      <td>NaN</td>\n      <td>NaN</td>\n      <td>NaN</td>\n      <td>NaN</td>\n      <td>0.1</td>\n    </tr>\n    <tr>\n      <th>[10.1004, 56.5665]</th>\n      <td>1.0</td>\n      <td>NaN</td>\n      <td>NaN</td>\n      <td>NaN</td>\n      <td>NaN</td>\n      <td>NaN</td>\n      <td>NaN</td>\n      <td>NaN</td>\n      <td>NaN</td>\n      <td>NaN</td>\n      <td>...</td>\n      <td>NaN</td>\n      <td>NaN</td>\n      <td>NaN</td>\n      <td>NaN</td>\n      <td>NaN</td>\n      <td>NaN</td>\n      <td>NaN</td>\n      <td>NaN</td>\n      <td>NaN</td>\n      <td>NaN</td>\n    </tr>\n    <tr>\n      <th>[10.1025, 55.0977]</th>\n      <td>0.0</td>\n      <td>NaN</td>\n      <td>NaN</td>\n      <td>NaN</td>\n      <td>NaN</td>\n      <td>NaN</td>\n      <td>NaN</td>\n      <td>NaN</td>\n      <td>NaN</td>\n      <td>NaN</td>\n      <td>...</td>\n      <td>NaN</td>\n      <td>NaN</td>\n      <td>NaN</td>\n      <td>NaN</td>\n      <td>NaN</td>\n      <td>NaN</td>\n      <td>NaN</td>\n      <td>NaN</td>\n      <td>NaN</td>\n      <td>NaN</td>\n    </tr>\n    <tr>\n      <th>[10.1074, 57.5705]</th>\n      <td>0.0</td>\n      <td>NaN</td>\n      <td>NaN</td>\n      <td>NaN</td>\n      <td>NaN</td>\n      <td>NaN</td>\n      <td>NaN</td>\n      <td>NaN</td>\n      <td>NaN</td>\n      <td>NaN</td>\n      <td>...</td>\n      <td>NaN</td>\n      <td>NaN</td>\n      <td>NaN</td>\n      <td>NaN</td>\n      <td>NaN</td>\n      <td>NaN</td>\n      <td>NaN</td>\n      <td>NaN</td>\n      <td>NaN</td>\n      <td>NaN</td>\n    </tr>\n    <tr>\n      <th>[10.1272, 56.3027]</th>\n      <td>0.5</td>\n      <td>NaN</td>\n      <td>NaN</td>\n      <td>0.0</td>\n      <td>60.0</td>\n      <td>NaN</td>\n      <td>4.6</td>\n      <td>13.1</td>\n      <td>22.4</td>\n      <td>NaN</td>\n      <td>...</td>\n      <td>4.3</td>\n      <td>283.0</td>\n      <td>NaN</td>\n      <td>9.9</td>\n      <td>3.9</td>\n      <td>NaN</td>\n      <td>3.1</td>\n      <td>0.3</td>\n      <td>0.9</td>\n      <td>0.1</td>\n    </tr>\n    <tr>\n      <th>...</th>\n      <th>...</th>\n      <td>...</td>\n      <td>...</td>\n      <td>...</td>\n      <td>...</td>\n      <td>...</td>\n      <td>...</td>\n      <td>...</td>\n      <td>...</td>\n      <td>...</td>\n      <td>...</td>\n      <td>...</td>\n      <td>...</td>\n      <td>...</td>\n      <td>...</td>\n      <td>...</td>\n      <td>...</td>\n      <td>...</td>\n      <td>...</td>\n      <td>...</td>\n      <td>...</td>\n      <td>...</td>\n    </tr>\n    <tr>\n      <th rowspan=\"5\" valign=\"top\">2022-05-12T17:00:00+00:00</th>\n      <th>[9.8882, 55.2444]</th>\n      <td>NaN</td>\n      <td>NaN</td>\n      <td>NaN</td>\n      <td>54.0</td>\n      <td>NaN</td>\n      <td>NaN</td>\n      <td>13.8</td>\n      <td>9.2</td>\n      <td>11.6</td>\n      <td>NaN</td>\n      <td>...</td>\n      <td>13.3</td>\n      <td>282.0</td>\n      <td>NaN</td>\n      <td>8.2</td>\n      <td>13.0</td>\n      <td>NaN</td>\n      <td>NaN</td>\n      <td>NaN</td>\n      <td>NaN</td>\n      <td>0.5</td>\n    </tr>\n    <tr>\n      <th>[9.8953, 55.4935]</th>\n      <td>0.0</td>\n      <td>NaN</td>\n      <td>NaN</td>\n      <td>NaN</td>\n      <td>NaN</td>\n      <td>NaN</td>\n      <td>NaN</td>\n      <td>NaN</td>\n      <td>NaN</td>\n      <td>NaN</td>\n      <td>...</td>\n      <td>NaN</td>\n      <td>NaN</td>\n      <td>NaN</td>\n      <td>NaN</td>\n      <td>NaN</td>\n      <td>NaN</td>\n      <td>NaN</td>\n      <td>NaN</td>\n      <td>NaN</td>\n      <td>NaN</td>\n    </tr>\n    <tr>\n      <th>[9.9527, 57.1852]</th>\n      <td>0.0</td>\n      <td>NaN</td>\n      <td>NaN</td>\n      <td>57.0</td>\n      <td>0.0</td>\n      <td>NaN</td>\n      <td>12.3</td>\n      <td>8.7</td>\n      <td>12.3</td>\n      <td>NaN</td>\n      <td>...</td>\n      <td>11.9</td>\n      <td>281.0</td>\n      <td>NaN</td>\n      <td>7.9</td>\n      <td>11.6</td>\n      <td>NaN</td>\n      <td>13.3</td>\n      <td>9.7</td>\n      <td>8.8</td>\n      <td>0.5</td>\n    </tr>\n    <tr>\n      <th>[9.988, 54.8528]</th>\n      <td>0.0</td>\n      <td>NaN</td>\n      <td>NaN</td>\n      <td>NaN</td>\n      <td>NaN</td>\n      <td>NaN</td>\n      <td>14.4</td>\n      <td>10.2</td>\n      <td>14.1</td>\n      <td>NaN</td>\n      <td>...</td>\n      <td>14.1</td>\n      <td>266.0</td>\n      <td>NaN</td>\n      <td>9.1</td>\n      <td>13.7</td>\n      <td>NaN</td>\n      <td>NaN</td>\n      <td>NaN</td>\n      <td>NaN</td>\n      <td>0.5</td>\n    </tr>\n    <tr>\n      <th>[9.9962, 55.7102]</th>\n      <td>0.0</td>\n      <td>NaN</td>\n      <td>NaN</td>\n      <td>NaN</td>\n      <td>NaN</td>\n      <td>NaN</td>\n      <td>NaN</td>\n      <td>NaN</td>\n      <td>NaN</td>\n      <td>NaN</td>\n      <td>...</td>\n      <td>NaN</td>\n      <td>NaN</td>\n      <td>NaN</td>\n      <td>NaN</td>\n      <td>NaN</td>\n      <td>NaN</td>\n      <td>NaN</td>\n      <td>NaN</td>\n      <td>NaN</td>\n      <td>NaN</td>\n    </tr>\n  </tbody>\n</table>\n<p>13484468 rows × 23 columns</p>\n</div>"
     },
     "execution_count": 37,
     "metadata": {},
     "output_type": "execute_result"
    }
   ],
   "source": [
    "df_hour.pivot(index=[\"to\",\"coordinates\"],columns=[\"parameterId\"], values=\"value\")"
   ],
   "metadata": {
    "collapsed": false,
    "pycharm": {
     "name": "#%%\n"
    }
   }
  }
 ],
 "metadata": {
  "kernelspec": {
   "display_name": "Python 3",
   "language": "python",
   "name": "python3"
  },
  "language_info": {
   "codemirror_mode": {
    "name": "ipython",
    "version": 2
   },
   "file_extension": ".py",
   "mimetype": "text/x-python",
   "name": "python",
   "nbconvert_exporter": "python",
   "pygments_lexer": "ipython2",
   "version": "2.7.6"
  }
 },
 "nbformat": 4,
 "nbformat_minor": 0
}