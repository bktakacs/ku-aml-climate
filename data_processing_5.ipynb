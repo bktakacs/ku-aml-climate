{
 "cells": [
  {
   "cell_type": "code",
   "execution_count": 25,
   "metadata": {
    "collapsed": true
   },
   "outputs": [],
   "source": [
    "import pandas as pd\n",
    "\n",
    "import lightgbm as lgb\n",
    "import torch\n",
    "from sklearn.model_selection import train_test_split\n",
    "from sklearn.metrics import mean_absolute_percentage_error\n"
   ]
  },
  {
   "cell_type": "code",
   "execution_count": 26,
   "outputs": [],
   "source": [
    "data = pd.read_csv(\"Old data/synop_all_nan_removed.csv\",index_col=0)"
   ],
   "metadata": {
    "collapsed": false,
    "pycharm": {
     "name": "#%%\n"
    }
   }
  },
  {
   "cell_type": "code",
   "execution_count": 27,
   "outputs": [
    {
     "data": {
      "text/plain": "                                to  stationId  latitude  longitude  \\\n2        2011-01-01T00:00:00+00:00       6032   57.3828    10.3349   \n3        2011-01-01T00:00:00+00:00       6041   57.7364    10.6316   \n4        2011-01-01T00:00:00+00:00       6049   56.5604    10.0929   \n6        2011-01-01T00:00:00+00:00       6052   56.7068     8.2150   \n7        2011-01-01T00:00:00+00:00       6056   56.3830     8.6705   \n...                            ...        ...       ...        ...   \n5447322  2022-05-12T17:00:00+00:00       6181   55.7664    12.5263   \n5447325  2022-05-12T17:00:00+00:00       6188   55.8764    12.4121   \n5447326  2022-05-12T17:00:00+00:00       6190   55.0677    14.7494   \n5447327  2022-05-12T17:00:00+00:00       6193   55.2979    14.7718   \n5447328  2022-05-12T17:00:00+00:00       6197   55.0557    15.0953   \n\n         max_temp_w_date  max_wind_speed_10min  max_wind_speed_3sec  \\\n2                    4.0                  14.1                 19.2   \n3                    4.8                  12.7                 17.7   \n4                    4.0                  18.7                 27.4   \n6                    4.7                  15.1                 20.7   \n7                    5.1                  12.8                 24.9   \n...                  ...                   ...                  ...   \n5447322             14.9                   6.3                 12.3   \n5447325             14.5                   9.2                 14.1   \n5447326             12.4                   7.2                  9.3   \n5447327             12.3                  10.2                 11.9   \n5447328             13.4                   7.3                 11.6   \n\n         mean_pressure  mean_relative_hum  mean_temp  mean_wind_dir  \\\n2                997.3               75.5        3.7          282.0   \n3                995.3               68.5        4.6          287.0   \n4               1001.3               89.2        3.6          287.0   \n6               1005.9               87.3        4.2          302.0   \n7               1005.6               93.8        4.8          284.0   \n...                ...                ...        ...            ...   \n5447322         1012.4               54.2       14.5          274.0   \n5447325         1012.2               56.5       13.8          263.0   \n5447326         1013.7               80.8       12.1          252.0   \n5447327         1013.0               79.2       11.6          237.0   \n5447328         1013.6               71.0       13.0          255.0   \n\n         mean_wind_speed  min_temp  vapour_pressure_deficit_mean  \n2                   13.0       3.2                           0.2  \n3                   12.1       4.4                           0.3  \n4                   15.1       3.0                           0.1  \n6                   13.6       4.1                           0.1  \n7                   11.8       4.7                           0.1  \n...                  ...       ...                           ...  \n5447322              5.4      14.2                           0.8  \n5447325              7.9      13.4                           0.7  \n5447326              6.4      11.7                           0.3  \n5447327              9.0      11.1                           0.3  \n5447328              6.3      12.7                           0.4  \n\n[4568101 rows x 14 columns]",
      "text/html": "<div>\n<style scoped>\n    .dataframe tbody tr th:only-of-type {\n        vertical-align: middle;\n    }\n\n    .dataframe tbody tr th {\n        vertical-align: top;\n    }\n\n    .dataframe thead th {\n        text-align: right;\n    }\n</style>\n<table border=\"1\" class=\"dataframe\">\n  <thead>\n    <tr style=\"text-align: right;\">\n      <th></th>\n      <th>to</th>\n      <th>stationId</th>\n      <th>latitude</th>\n      <th>longitude</th>\n      <th>max_temp_w_date</th>\n      <th>max_wind_speed_10min</th>\n      <th>max_wind_speed_3sec</th>\n      <th>mean_pressure</th>\n      <th>mean_relative_hum</th>\n      <th>mean_temp</th>\n      <th>mean_wind_dir</th>\n      <th>mean_wind_speed</th>\n      <th>min_temp</th>\n      <th>vapour_pressure_deficit_mean</th>\n    </tr>\n  </thead>\n  <tbody>\n    <tr>\n      <th>2</th>\n      <td>2011-01-01T00:00:00+00:00</td>\n      <td>6032</td>\n      <td>57.3828</td>\n      <td>10.3349</td>\n      <td>4.0</td>\n      <td>14.1</td>\n      <td>19.2</td>\n      <td>997.3</td>\n      <td>75.5</td>\n      <td>3.7</td>\n      <td>282.0</td>\n      <td>13.0</td>\n      <td>3.2</td>\n      <td>0.2</td>\n    </tr>\n    <tr>\n      <th>3</th>\n      <td>2011-01-01T00:00:00+00:00</td>\n      <td>6041</td>\n      <td>57.7364</td>\n      <td>10.6316</td>\n      <td>4.8</td>\n      <td>12.7</td>\n      <td>17.7</td>\n      <td>995.3</td>\n      <td>68.5</td>\n      <td>4.6</td>\n      <td>287.0</td>\n      <td>12.1</td>\n      <td>4.4</td>\n      <td>0.3</td>\n    </tr>\n    <tr>\n      <th>4</th>\n      <td>2011-01-01T00:00:00+00:00</td>\n      <td>6049</td>\n      <td>56.5604</td>\n      <td>10.0929</td>\n      <td>4.0</td>\n      <td>18.7</td>\n      <td>27.4</td>\n      <td>1001.3</td>\n      <td>89.2</td>\n      <td>3.6</td>\n      <td>287.0</td>\n      <td>15.1</td>\n      <td>3.0</td>\n      <td>0.1</td>\n    </tr>\n    <tr>\n      <th>6</th>\n      <td>2011-01-01T00:00:00+00:00</td>\n      <td>6052</td>\n      <td>56.7068</td>\n      <td>8.2150</td>\n      <td>4.7</td>\n      <td>15.1</td>\n      <td>20.7</td>\n      <td>1005.9</td>\n      <td>87.3</td>\n      <td>4.2</td>\n      <td>302.0</td>\n      <td>13.6</td>\n      <td>4.1</td>\n      <td>0.1</td>\n    </tr>\n    <tr>\n      <th>7</th>\n      <td>2011-01-01T00:00:00+00:00</td>\n      <td>6056</td>\n      <td>56.3830</td>\n      <td>8.6705</td>\n      <td>5.1</td>\n      <td>12.8</td>\n      <td>24.9</td>\n      <td>1005.6</td>\n      <td>93.8</td>\n      <td>4.8</td>\n      <td>284.0</td>\n      <td>11.8</td>\n      <td>4.7</td>\n      <td>0.1</td>\n    </tr>\n    <tr>\n      <th>...</th>\n      <td>...</td>\n      <td>...</td>\n      <td>...</td>\n      <td>...</td>\n      <td>...</td>\n      <td>...</td>\n      <td>...</td>\n      <td>...</td>\n      <td>...</td>\n      <td>...</td>\n      <td>...</td>\n      <td>...</td>\n      <td>...</td>\n      <td>...</td>\n    </tr>\n    <tr>\n      <th>5447322</th>\n      <td>2022-05-12T17:00:00+00:00</td>\n      <td>6181</td>\n      <td>55.7664</td>\n      <td>12.5263</td>\n      <td>14.9</td>\n      <td>6.3</td>\n      <td>12.3</td>\n      <td>1012.4</td>\n      <td>54.2</td>\n      <td>14.5</td>\n      <td>274.0</td>\n      <td>5.4</td>\n      <td>14.2</td>\n      <td>0.8</td>\n    </tr>\n    <tr>\n      <th>5447325</th>\n      <td>2022-05-12T17:00:00+00:00</td>\n      <td>6188</td>\n      <td>55.8764</td>\n      <td>12.4121</td>\n      <td>14.5</td>\n      <td>9.2</td>\n      <td>14.1</td>\n      <td>1012.2</td>\n      <td>56.5</td>\n      <td>13.8</td>\n      <td>263.0</td>\n      <td>7.9</td>\n      <td>13.4</td>\n      <td>0.7</td>\n    </tr>\n    <tr>\n      <th>5447326</th>\n      <td>2022-05-12T17:00:00+00:00</td>\n      <td>6190</td>\n      <td>55.0677</td>\n      <td>14.7494</td>\n      <td>12.4</td>\n      <td>7.2</td>\n      <td>9.3</td>\n      <td>1013.7</td>\n      <td>80.8</td>\n      <td>12.1</td>\n      <td>252.0</td>\n      <td>6.4</td>\n      <td>11.7</td>\n      <td>0.3</td>\n    </tr>\n    <tr>\n      <th>5447327</th>\n      <td>2022-05-12T17:00:00+00:00</td>\n      <td>6193</td>\n      <td>55.2979</td>\n      <td>14.7718</td>\n      <td>12.3</td>\n      <td>10.2</td>\n      <td>11.9</td>\n      <td>1013.0</td>\n      <td>79.2</td>\n      <td>11.6</td>\n      <td>237.0</td>\n      <td>9.0</td>\n      <td>11.1</td>\n      <td>0.3</td>\n    </tr>\n    <tr>\n      <th>5447328</th>\n      <td>2022-05-12T17:00:00+00:00</td>\n      <td>6197</td>\n      <td>55.0557</td>\n      <td>15.0953</td>\n      <td>13.4</td>\n      <td>7.3</td>\n      <td>11.6</td>\n      <td>1013.6</td>\n      <td>71.0</td>\n      <td>13.0</td>\n      <td>255.0</td>\n      <td>6.3</td>\n      <td>12.7</td>\n      <td>0.4</td>\n    </tr>\n  </tbody>\n</table>\n<p>4568101 rows × 14 columns</p>\n</div>"
     },
     "execution_count": 27,
     "metadata": {},
     "output_type": "execute_result"
    }
   ],
   "source": [
    "data"
   ],
   "metadata": {
    "collapsed": false,
    "pycharm": {
     "name": "#%%\n"
    }
   }
  },
  {
   "cell_type": "code",
   "execution_count": 28,
   "outputs": [
    {
     "data": {
      "text/plain": "array(['2011-01-01T00:00:00+00:00', '2011-01-01T01:00:00+00:00',\n       '2011-01-01T02:00:00+00:00', ..., '2022-05-12T15:00:00+00:00',\n       '2022-05-12T16:00:00+00:00', '2022-05-12T17:00:00+00:00'],\n      dtype=object)"
     },
     "execution_count": 28,
     "metadata": {},
     "output_type": "execute_result"
    }
   ],
   "source": [
    "data[\"to\"].unique()"
   ],
   "metadata": {
    "collapsed": false,
    "pycharm": {
     "name": "#%%\n"
    }
   }
  },
  {
   "cell_type": "code",
   "execution_count": 29,
   "outputs": [
    {
     "data": {
      "text/plain": "6032    99548\n6156    99548\n6124    99548\n6126    99548\n6135    99548\n6138    99548\n6141    99548\n6147    99548\n6149    99548\n6151    99548\n6154    99548\n6159    99548\n6041    99548\n6168    99548\n6169    99548\n6170    99548\n6174    99548\n6180    99548\n6181    99548\n6188    99548\n6190    99548\n6193    99548\n6123    99548\n6197    99548\n6119    99548\n6081    99548\n6049    99548\n6056    99548\n6058    99548\n6065    99548\n6068    99548\n6072    99548\n6073    99548\n6079    99548\n6102    99548\n6116    99548\n6080    99547\n6118    99547\n6096    99547\n6074    99546\n6104    99546\n6070    99542\n6120    99542\n6052    99508\n6093    99499\n6108    67214\n6136    21335\nName: stationId, dtype: int64"
     },
     "execution_count": 29,
     "metadata": {},
     "output_type": "execute_result"
    }
   ],
   "source": [
    "data[\"stationId\"].value_counts()\n"
   ],
   "metadata": {
    "collapsed": false,
    "pycharm": {
     "name": "#%%\n"
    }
   }
  },
  {
   "cell_type": "code",
   "execution_count": 30,
   "outputs": [
    {
     "name": "stdout",
     "output_type": "stream",
     "text": [
      "[6032, 6156, 6124, 6126, 6135, 6138, 6141, 6147, 6149, 6151, 6154, 6159, 6041, 6168, 6169, 6170, 6174, 6180, 6181, 6188, 6190, 6193, 6123, 6197, 6119, 6081, 6049, 6056, 6058, 6065, 6068, 6072, 6073, 6079, 6102, 6116, 6080, 6118, 6096, 6074, 6104, 6070, 6120, 6052, 6093, 6108, 6136]\n"
     ]
    }
   ],
   "source": [
    "idx_list = data[\"stationId\"].value_counts().index.to_list()\n",
    "print(idx_list)"
   ],
   "metadata": {
    "collapsed": false,
    "pycharm": {
     "name": "#%%\n"
    }
   }
  },
  {
   "cell_type": "code",
   "execution_count": 31,
   "outputs": [
    {
     "data": {
      "text/plain": "[6080, 6118, 6096, 6074, 6104, 6070, 6120, 6052, 6093, 6108, 6136]"
     },
     "execution_count": 31,
     "metadata": {},
     "output_type": "execute_result"
    }
   ],
   "source": [
    "idx_list[-11:]"
   ],
   "metadata": {
    "collapsed": false,
    "pycharm": {
     "name": "#%%\n"
    }
   }
  },
  {
   "cell_type": "code",
   "execution_count": 32,
   "outputs": [],
   "source": [
    "for i in range(1,12):\n",
    "    data.drop(data[data['stationId']==idx_list[-i]].index,inplace=True)\n",
    "\n"
   ],
   "metadata": {
    "collapsed": false,
    "pycharm": {
     "name": "#%%\n"
    }
   }
  },
  {
   "cell_type": "code",
   "execution_count": 33,
   "outputs": [
    {
     "data": {
      "text/plain": "                                to  stationId  latitude  longitude  \\\n2        2011-01-01T00:00:00+00:00       6032   57.3828    10.3349   \n3        2011-01-01T00:00:00+00:00       6041   57.7364    10.6316   \n4        2011-01-01T00:00:00+00:00       6049   56.5604    10.0929   \n7        2011-01-01T00:00:00+00:00       6056   56.3830     8.6705   \n8        2011-01-01T00:00:00+00:00       6058   56.0072     8.1413   \n...                            ...        ...       ...        ...   \n5447322  2022-05-12T17:00:00+00:00       6181   55.7664    12.5263   \n5447325  2022-05-12T17:00:00+00:00       6188   55.8764    12.4121   \n5447326  2022-05-12T17:00:00+00:00       6190   55.0677    14.7494   \n5447327  2022-05-12T17:00:00+00:00       6193   55.2979    14.7718   \n5447328  2022-05-12T17:00:00+00:00       6197   55.0557    15.0953   \n\n         max_temp_w_date  max_wind_speed_10min  max_wind_speed_3sec  \\\n2                    4.0                  14.1                 19.2   \n3                    4.8                  12.7                 17.7   \n4                    4.0                  18.7                 27.4   \n7                    5.1                  12.8                 24.9   \n8                    4.6                  14.5                 19.4   \n...                  ...                   ...                  ...   \n5447322             14.9                   6.3                 12.3   \n5447325             14.5                   9.2                 14.1   \n5447326             12.4                   7.2                  9.3   \n5447327             12.3                  10.2                 11.9   \n5447328             13.4                   7.3                 11.6   \n\n         mean_pressure  mean_relative_hum  mean_temp  mean_wind_dir  \\\n2                997.3               75.5        3.7          282.0   \n3                995.3               68.5        4.6          287.0   \n4               1001.3               89.2        3.6          287.0   \n7               1005.6               93.8        4.8          284.0   \n8               1008.1               98.0        4.3          285.0   \n...                ...                ...        ...            ...   \n5447322         1012.4               54.2       14.5          274.0   \n5447325         1012.2               56.5       13.8          263.0   \n5447326         1013.7               80.8       12.1          252.0   \n5447327         1013.0               79.2       11.6          237.0   \n5447328         1013.6               71.0       13.0          255.0   \n\n         mean_wind_speed  min_temp  vapour_pressure_deficit_mean  \n2                   13.0       3.2                           0.2  \n3                   12.1       4.4                           0.3  \n4                   15.1       3.0                           0.1  \n7                   11.8       4.7                           0.1  \n8                   13.8       4.1                           0.0  \n...                  ...       ...                           ...  \n5447322              5.4      14.2                           0.8  \n5447325              7.9      13.4                           0.7  \n5447326              6.4      11.7                           0.3  \n5447327              9.0      11.1                           0.3  \n5447328              6.3      12.7                           0.4  \n\n[3583728 rows x 14 columns]",
      "text/html": "<div>\n<style scoped>\n    .dataframe tbody tr th:only-of-type {\n        vertical-align: middle;\n    }\n\n    .dataframe tbody tr th {\n        vertical-align: top;\n    }\n\n    .dataframe thead th {\n        text-align: right;\n    }\n</style>\n<table border=\"1\" class=\"dataframe\">\n  <thead>\n    <tr style=\"text-align: right;\">\n      <th></th>\n      <th>to</th>\n      <th>stationId</th>\n      <th>latitude</th>\n      <th>longitude</th>\n      <th>max_temp_w_date</th>\n      <th>max_wind_speed_10min</th>\n      <th>max_wind_speed_3sec</th>\n      <th>mean_pressure</th>\n      <th>mean_relative_hum</th>\n      <th>mean_temp</th>\n      <th>mean_wind_dir</th>\n      <th>mean_wind_speed</th>\n      <th>min_temp</th>\n      <th>vapour_pressure_deficit_mean</th>\n    </tr>\n  </thead>\n  <tbody>\n    <tr>\n      <th>2</th>\n      <td>2011-01-01T00:00:00+00:00</td>\n      <td>6032</td>\n      <td>57.3828</td>\n      <td>10.3349</td>\n      <td>4.0</td>\n      <td>14.1</td>\n      <td>19.2</td>\n      <td>997.3</td>\n      <td>75.5</td>\n      <td>3.7</td>\n      <td>282.0</td>\n      <td>13.0</td>\n      <td>3.2</td>\n      <td>0.2</td>\n    </tr>\n    <tr>\n      <th>3</th>\n      <td>2011-01-01T00:00:00+00:00</td>\n      <td>6041</td>\n      <td>57.7364</td>\n      <td>10.6316</td>\n      <td>4.8</td>\n      <td>12.7</td>\n      <td>17.7</td>\n      <td>995.3</td>\n      <td>68.5</td>\n      <td>4.6</td>\n      <td>287.0</td>\n      <td>12.1</td>\n      <td>4.4</td>\n      <td>0.3</td>\n    </tr>\n    <tr>\n      <th>4</th>\n      <td>2011-01-01T00:00:00+00:00</td>\n      <td>6049</td>\n      <td>56.5604</td>\n      <td>10.0929</td>\n      <td>4.0</td>\n      <td>18.7</td>\n      <td>27.4</td>\n      <td>1001.3</td>\n      <td>89.2</td>\n      <td>3.6</td>\n      <td>287.0</td>\n      <td>15.1</td>\n      <td>3.0</td>\n      <td>0.1</td>\n    </tr>\n    <tr>\n      <th>7</th>\n      <td>2011-01-01T00:00:00+00:00</td>\n      <td>6056</td>\n      <td>56.3830</td>\n      <td>8.6705</td>\n      <td>5.1</td>\n      <td>12.8</td>\n      <td>24.9</td>\n      <td>1005.6</td>\n      <td>93.8</td>\n      <td>4.8</td>\n      <td>284.0</td>\n      <td>11.8</td>\n      <td>4.7</td>\n      <td>0.1</td>\n    </tr>\n    <tr>\n      <th>8</th>\n      <td>2011-01-01T00:00:00+00:00</td>\n      <td>6058</td>\n      <td>56.0072</td>\n      <td>8.1413</td>\n      <td>4.6</td>\n      <td>14.5</td>\n      <td>19.4</td>\n      <td>1008.1</td>\n      <td>98.0</td>\n      <td>4.3</td>\n      <td>285.0</td>\n      <td>13.8</td>\n      <td>4.1</td>\n      <td>0.0</td>\n    </tr>\n    <tr>\n      <th>...</th>\n      <td>...</td>\n      <td>...</td>\n      <td>...</td>\n      <td>...</td>\n      <td>...</td>\n      <td>...</td>\n      <td>...</td>\n      <td>...</td>\n      <td>...</td>\n      <td>...</td>\n      <td>...</td>\n      <td>...</td>\n      <td>...</td>\n      <td>...</td>\n    </tr>\n    <tr>\n      <th>5447322</th>\n      <td>2022-05-12T17:00:00+00:00</td>\n      <td>6181</td>\n      <td>55.7664</td>\n      <td>12.5263</td>\n      <td>14.9</td>\n      <td>6.3</td>\n      <td>12.3</td>\n      <td>1012.4</td>\n      <td>54.2</td>\n      <td>14.5</td>\n      <td>274.0</td>\n      <td>5.4</td>\n      <td>14.2</td>\n      <td>0.8</td>\n    </tr>\n    <tr>\n      <th>5447325</th>\n      <td>2022-05-12T17:00:00+00:00</td>\n      <td>6188</td>\n      <td>55.8764</td>\n      <td>12.4121</td>\n      <td>14.5</td>\n      <td>9.2</td>\n      <td>14.1</td>\n      <td>1012.2</td>\n      <td>56.5</td>\n      <td>13.8</td>\n      <td>263.0</td>\n      <td>7.9</td>\n      <td>13.4</td>\n      <td>0.7</td>\n    </tr>\n    <tr>\n      <th>5447326</th>\n      <td>2022-05-12T17:00:00+00:00</td>\n      <td>6190</td>\n      <td>55.0677</td>\n      <td>14.7494</td>\n      <td>12.4</td>\n      <td>7.2</td>\n      <td>9.3</td>\n      <td>1013.7</td>\n      <td>80.8</td>\n      <td>12.1</td>\n      <td>252.0</td>\n      <td>6.4</td>\n      <td>11.7</td>\n      <td>0.3</td>\n    </tr>\n    <tr>\n      <th>5447327</th>\n      <td>2022-05-12T17:00:00+00:00</td>\n      <td>6193</td>\n      <td>55.2979</td>\n      <td>14.7718</td>\n      <td>12.3</td>\n      <td>10.2</td>\n      <td>11.9</td>\n      <td>1013.0</td>\n      <td>79.2</td>\n      <td>11.6</td>\n      <td>237.0</td>\n      <td>9.0</td>\n      <td>11.1</td>\n      <td>0.3</td>\n    </tr>\n    <tr>\n      <th>5447328</th>\n      <td>2022-05-12T17:00:00+00:00</td>\n      <td>6197</td>\n      <td>55.0557</td>\n      <td>15.0953</td>\n      <td>13.4</td>\n      <td>7.3</td>\n      <td>11.6</td>\n      <td>1013.6</td>\n      <td>71.0</td>\n      <td>13.0</td>\n      <td>255.0</td>\n      <td>6.3</td>\n      <td>12.7</td>\n      <td>0.4</td>\n    </tr>\n  </tbody>\n</table>\n<p>3583728 rows × 14 columns</p>\n</div>"
     },
     "execution_count": 33,
     "metadata": {},
     "output_type": "execute_result"
    }
   ],
   "source": [
    "data"
   ],
   "metadata": {
    "collapsed": false,
    "pycharm": {
     "name": "#%%\n"
    }
   }
  },
  {
   "cell_type": "code",
   "execution_count": 34,
   "outputs": [
    {
     "data": {
      "text/plain": "6032    99548\n6041    99548\n6147    99548\n6149    99548\n6151    99548\n6154    99548\n6156    99548\n6159    99548\n6168    99548\n6169    99548\n6170    99548\n6174    99548\n6180    99548\n6181    99548\n6188    99548\n6190    99548\n6193    99548\n6141    99548\n6138    99548\n6135    99548\n6073    99548\n6049    99548\n6056    99548\n6058    99548\n6065    99548\n6068    99548\n6072    99548\n6079    99548\n6126    99548\n6081    99548\n6102    99548\n6116    99548\n6119    99548\n6123    99548\n6124    99548\n6197    99548\nName: stationId, dtype: int64"
     },
     "execution_count": 34,
     "metadata": {},
     "output_type": "execute_result"
    }
   ],
   "source": [
    "data[\"stationId\"].value_counts()"
   ],
   "metadata": {
    "collapsed": false,
    "pycharm": {
     "name": "#%%\n"
    }
   }
  },
  {
   "cell_type": "code",
   "execution_count": 35,
   "outputs": [],
   "source": [
    "data.to_csv(\"data_clean.csv\",index=False)"
   ],
   "metadata": {
    "collapsed": false,
    "pycharm": {
     "name": "#%%\n"
    }
   }
  },
  {
   "cell_type": "markdown",
   "source": [
    "def make_graph(df,time_index,k_neighbours=5,print_output=True):\n",
    "    \"\"\"\n",
    "    Makes a Data object for use with GNN in torch_geometric from a dataframe of synop DMI stations.\n",
    "    :param df: Dataframe of stations at all timesteps.\n",
    "    :param time_index: Index of the timestep in df[\"to\"].unique().\n",
    "    :param k_neighbours: Number of neighbours to connect the graph to.\n",
    "    :param print_output: Print the timestep, number of stations, and list of stations.\n",
    "    :return: Data object for GNN in torch_geometric.\n",
    "    \"\"\"\n",
    "    timestep = df[\"to\"].unique()[time_index]\n",
    "    df_middle = df[df[\"to\"] == timestep]\n",
    "    df_timestep = df_middle.drop(\"to\",axis=1)\n",
    "    x = []\n",
    "    x_coords = []\n",
    "\n",
    "    for i in range(len(df_timestep[\"stationId\"].unique())):\n",
    "        station = df_timestep.iloc[i]\n",
    "        x.append(station)\n",
    "        x_coords.append((station[1:3]))\n",
    "\n",
    "    if print_output==True:\n",
    "        print(f\"Stations at timestep: {timestep}\")\n",
    "        print(f\"Number of stations: {len(df_timestep['stationId'].unique())}\")\n",
    "        print(f\"Stations included: {df_timestep['stationId'].unique()}\")\n",
    "\n",
    "    edges = torch_geometric.nn.knn_graph(x_coords,k_neighbours)\n",
    "    x_tensor = torch.tensor(x,dtype=torch.float)\n",
    "    data = torch_geometric.data.Data(x=x, edge_index=edges)\n",
    "\n",
    "    return data"
   ],
   "metadata": {
    "collapsed": false,
    "pycharm": {
     "name": "#%% md\n"
    }
   }
  },
  {
   "cell_type": "code",
   "execution_count": 49,
   "outputs": [],
   "source": [],
   "metadata": {
    "collapsed": false,
    "pycharm": {
     "name": "#%%\n"
    }
   }
  },
  {
   "cell_type": "code",
   "execution_count": 19,
   "outputs": [],
   "source": [
    "data_6190 = data[data[\"stationId\"]==6190]\n",
    "data_6193 = data[data[\"stationId\"]==6193]\n",
    "data_6197 = data[data[\"stationId\"]==6197]"
   ],
   "metadata": {
    "collapsed": false,
    "pycharm": {
     "name": "#%%\n"
    }
   }
  },
  {
   "cell_type": "code",
   "execution_count": 20,
   "outputs": [],
   "source": [
    "data_6190.to_csv(\"station_6190_timestamp.csv\",index=False)\n",
    "data_6193.to_csv(\"station_6193_timestamp.csv\",index=False)\n",
    "data_6197.to_csv(\"station_6197_timestamp.csv\",index=False)"
   ],
   "metadata": {
    "collapsed": false,
    "pycharm": {
     "name": "#%%\n"
    }
   }
  },
  {
   "cell_type": "code",
   "execution_count": null,
   "outputs": [],
   "source": [],
   "metadata": {
    "collapsed": false,
    "pycharm": {
     "name": "#%%\n"
    }
   }
  }
 ],
 "metadata": {
  "kernelspec": {
   "display_name": "Python 3",
   "language": "python",
   "name": "python3"
  },
  "language_info": {
   "codemirror_mode": {
    "name": "ipython",
    "version": 2
   },
   "file_extension": ".py",
   "mimetype": "text/x-python",
   "name": "python",
   "nbconvert_exporter": "python",
   "pygments_lexer": "ipython2",
   "version": "2.7.6"
  }
 },
 "nbformat": 4,
 "nbformat_minor": 0
}