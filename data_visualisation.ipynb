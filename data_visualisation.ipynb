{
 "cells": [
  {
   "cell_type": "code",
   "execution_count": 6,
   "metadata": {
    "collapsed": true
   },
   "outputs": [],
   "source": [
    "import numpy as np\n",
    "\n",
    "import pandas as pd\n",
    "\n",
    "import matplotlib.pyplot as plt\n",
    "\n",
    "from plotting import*\n"
   ]
  },
  {
   "cell_type": "code",
   "execution_count": 7,
   "outputs": [],
   "source": [
    "reset_plt(24,24)"
   ],
   "metadata": {
    "collapsed": false,
    "pycharm": {
     "name": "#%%\n"
    }
   }
  },
  {
   "cell_type": "code",
   "execution_count": 40,
   "outputs": [],
   "source": [
    "df = pd.read_csv(\"synop_hourly_clean.csv\")"
   ],
   "metadata": {
    "collapsed": false,
    "pycharm": {
     "name": "#%%\n"
    }
   }
  },
  {
   "cell_type": "code",
   "execution_count": 4,
   "outputs": [
    {
     "data": {
      "text/plain": "                                to  stationId  max_temp_w_date  \\\n0        2011-01-01T00:00:00+00:00       6019              4.5   \n1        2011-01-01T00:00:00+00:00       6031              4.2   \n2        2011-01-01T00:00:00+00:00       6032              4.0   \n3        2011-01-01T00:00:00+00:00       6041              4.8   \n4        2011-01-01T00:00:00+00:00       6049              4.0   \n...                            ...        ...              ...   \n5447324  2022-05-12T17:00:00+00:00       6187              NaN   \n5447325  2022-05-12T17:00:00+00:00       6188             14.5   \n5447326  2022-05-12T17:00:00+00:00       6190             12.4   \n5447327  2022-05-12T17:00:00+00:00       6193             12.3   \n5447328  2022-05-12T17:00:00+00:00       6197             13.4   \n\n         max_wind_speed_10min  max_wind_speed_3sec  mean_pressure  \\\n0                        14.4                 20.3            NaN   \n1                        14.0                 20.9            NaN   \n2                        14.1                 19.2          997.3   \n3                        12.7                 17.7          995.3   \n4                        18.7                 27.4         1001.3   \n...                       ...                  ...            ...   \n5447324                   NaN                  NaN            NaN   \n5447325                   9.2                 14.1         1012.2   \n5447326                   7.2                  9.3         1013.7   \n5447327                  10.2                 11.9         1013.0   \n5447328                   7.3                 11.6         1013.6   \n\n         mean_relative_hum  mean_temp  mean_wind_dir  mean_wind_speed  \\\n0                     76.2        4.1          290.0             14.1   \n1                     74.5        3.8          281.0             12.7   \n2                     75.5        3.7          282.0             13.0   \n3                     68.5        4.6          287.0             12.1   \n4                     89.2        3.6          287.0             15.1   \n...                    ...        ...            ...              ...   \n5447324                NaN        NaN            NaN              NaN   \n5447325               56.5       13.8          263.0              7.9   \n5447326               80.8       12.1          252.0              6.4   \n5447327               79.2       11.6          237.0              9.0   \n5447328               71.0       13.0          255.0              6.3   \n\n         min_temp  vapour_pressure_deficit_mean  \n0             3.8                           0.2  \n1             3.4                           0.2  \n2             3.2                           0.2  \n3             4.4                           0.3  \n4             3.0                           0.1  \n...           ...                           ...  \n5447324       NaN                           NaN  \n5447325      13.4                           0.7  \n5447326      11.7                           0.3  \n5447327      11.1                           0.3  \n5447328      12.7                           0.4  \n\n[5447329 rows x 12 columns]",
      "text/html": "<div>\n<style scoped>\n    .dataframe tbody tr th:only-of-type {\n        vertical-align: middle;\n    }\n\n    .dataframe tbody tr th {\n        vertical-align: top;\n    }\n\n    .dataframe thead th {\n        text-align: right;\n    }\n</style>\n<table border=\"1\" class=\"dataframe\">\n  <thead>\n    <tr style=\"text-align: right;\">\n      <th></th>\n      <th>to</th>\n      <th>stationId</th>\n      <th>max_temp_w_date</th>\n      <th>max_wind_speed_10min</th>\n      <th>max_wind_speed_3sec</th>\n      <th>mean_pressure</th>\n      <th>mean_relative_hum</th>\n      <th>mean_temp</th>\n      <th>mean_wind_dir</th>\n      <th>mean_wind_speed</th>\n      <th>min_temp</th>\n      <th>vapour_pressure_deficit_mean</th>\n    </tr>\n  </thead>\n  <tbody>\n    <tr>\n      <th>0</th>\n      <td>2011-01-01T00:00:00+00:00</td>\n      <td>6019</td>\n      <td>4.5</td>\n      <td>14.4</td>\n      <td>20.3</td>\n      <td>NaN</td>\n      <td>76.2</td>\n      <td>4.1</td>\n      <td>290.0</td>\n      <td>14.1</td>\n      <td>3.8</td>\n      <td>0.2</td>\n    </tr>\n    <tr>\n      <th>1</th>\n      <td>2011-01-01T00:00:00+00:00</td>\n      <td>6031</td>\n      <td>4.2</td>\n      <td>14.0</td>\n      <td>20.9</td>\n      <td>NaN</td>\n      <td>74.5</td>\n      <td>3.8</td>\n      <td>281.0</td>\n      <td>12.7</td>\n      <td>3.4</td>\n      <td>0.2</td>\n    </tr>\n    <tr>\n      <th>2</th>\n      <td>2011-01-01T00:00:00+00:00</td>\n      <td>6032</td>\n      <td>4.0</td>\n      <td>14.1</td>\n      <td>19.2</td>\n      <td>997.3</td>\n      <td>75.5</td>\n      <td>3.7</td>\n      <td>282.0</td>\n      <td>13.0</td>\n      <td>3.2</td>\n      <td>0.2</td>\n    </tr>\n    <tr>\n      <th>3</th>\n      <td>2011-01-01T00:00:00+00:00</td>\n      <td>6041</td>\n      <td>4.8</td>\n      <td>12.7</td>\n      <td>17.7</td>\n      <td>995.3</td>\n      <td>68.5</td>\n      <td>4.6</td>\n      <td>287.0</td>\n      <td>12.1</td>\n      <td>4.4</td>\n      <td>0.3</td>\n    </tr>\n    <tr>\n      <th>4</th>\n      <td>2011-01-01T00:00:00+00:00</td>\n      <td>6049</td>\n      <td>4.0</td>\n      <td>18.7</td>\n      <td>27.4</td>\n      <td>1001.3</td>\n      <td>89.2</td>\n      <td>3.6</td>\n      <td>287.0</td>\n      <td>15.1</td>\n      <td>3.0</td>\n      <td>0.1</td>\n    </tr>\n    <tr>\n      <th>...</th>\n      <td>...</td>\n      <td>...</td>\n      <td>...</td>\n      <td>...</td>\n      <td>...</td>\n      <td>...</td>\n      <td>...</td>\n      <td>...</td>\n      <td>...</td>\n      <td>...</td>\n      <td>...</td>\n      <td>...</td>\n    </tr>\n    <tr>\n      <th>5447324</th>\n      <td>2022-05-12T17:00:00+00:00</td>\n      <td>6187</td>\n      <td>NaN</td>\n      <td>NaN</td>\n      <td>NaN</td>\n      <td>NaN</td>\n      <td>NaN</td>\n      <td>NaN</td>\n      <td>NaN</td>\n      <td>NaN</td>\n      <td>NaN</td>\n      <td>NaN</td>\n    </tr>\n    <tr>\n      <th>5447325</th>\n      <td>2022-05-12T17:00:00+00:00</td>\n      <td>6188</td>\n      <td>14.5</td>\n      <td>9.2</td>\n      <td>14.1</td>\n      <td>1012.2</td>\n      <td>56.5</td>\n      <td>13.8</td>\n      <td>263.0</td>\n      <td>7.9</td>\n      <td>13.4</td>\n      <td>0.7</td>\n    </tr>\n    <tr>\n      <th>5447326</th>\n      <td>2022-05-12T17:00:00+00:00</td>\n      <td>6190</td>\n      <td>12.4</td>\n      <td>7.2</td>\n      <td>9.3</td>\n      <td>1013.7</td>\n      <td>80.8</td>\n      <td>12.1</td>\n      <td>252.0</td>\n      <td>6.4</td>\n      <td>11.7</td>\n      <td>0.3</td>\n    </tr>\n    <tr>\n      <th>5447327</th>\n      <td>2022-05-12T17:00:00+00:00</td>\n      <td>6193</td>\n      <td>12.3</td>\n      <td>10.2</td>\n      <td>11.9</td>\n      <td>1013.0</td>\n      <td>79.2</td>\n      <td>11.6</td>\n      <td>237.0</td>\n      <td>9.0</td>\n      <td>11.1</td>\n      <td>0.3</td>\n    </tr>\n    <tr>\n      <th>5447328</th>\n      <td>2022-05-12T17:00:00+00:00</td>\n      <td>6197</td>\n      <td>13.4</td>\n      <td>7.3</td>\n      <td>11.6</td>\n      <td>1013.6</td>\n      <td>71.0</td>\n      <td>13.0</td>\n      <td>255.0</td>\n      <td>6.3</td>\n      <td>12.7</td>\n      <td>0.4</td>\n    </tr>\n  </tbody>\n</table>\n<p>5447329 rows × 12 columns</p>\n</div>"
     },
     "execution_count": 4,
     "metadata": {},
     "output_type": "execute_result"
    }
   ],
   "source": [
    "df"
   ],
   "metadata": {
    "collapsed": false,
    "pycharm": {
     "name": "#%%\n"
    }
   }
  },
  {
   "cell_type": "code",
   "execution_count": 9,
   "outputs": [
    {
     "data": {
      "text/plain": "to                                   0\nstationId                            0\nmax_temp_w_date                 179274\nmax_wind_speed_10min            497921\nmax_wind_speed_3sec             501133\nmean_pressure                   875249\nmean_relative_hum               101161\nmean_temp                       179348\nmean_wind_dir                   498185\nmean_wind_speed                 497921\nmin_temp                        179350\nvapour_pressure_deficit_mean    179860\ndtype: int64"
     },
     "execution_count": 9,
     "metadata": {},
     "output_type": "execute_result"
    }
   ],
   "source": [
    "df.isna().sum()"
   ],
   "metadata": {
    "collapsed": false,
    "pycharm": {
     "name": "#%%\n"
    }
   }
  },
  {
   "cell_type": "code",
   "execution_count": 29,
   "outputs": [],
   "source": [
    "station_coords = pd.read_csv(\"stationId_coord.csv\")"
   ],
   "metadata": {
    "collapsed": false,
    "pycharm": {
     "name": "#%%\n"
    }
   }
  },
  {
   "cell_type": "code",
   "execution_count": 31,
   "outputs": [
    {
     "data": {
      "text/plain": "        stationId  latitude  longitude\n58035        6019   56.9300     8.6412\n298713       6019   56.9300     8.6412\n376426       6019   56.9300     8.6412\n39555        6019   56.9300     8.6412\n190805       6019   56.9300     8.6412\n...           ...       ...        ...\n69474        6197   55.0557    15.0953\n270992       6197   55.0557    15.0953\n271047       6197   55.0557    15.0953\n69419        6197   55.0557    15.0953\n542963       6197   55.0557    15.0953\n\n[542964 rows x 3 columns]",
      "text/html": "<div>\n<style scoped>\n    .dataframe tbody tr th:only-of-type {\n        vertical-align: middle;\n    }\n\n    .dataframe tbody tr th {\n        vertical-align: top;\n    }\n\n    .dataframe thead th {\n        text-align: right;\n    }\n</style>\n<table border=\"1\" class=\"dataframe\">\n  <thead>\n    <tr style=\"text-align: right;\">\n      <th></th>\n      <th>stationId</th>\n      <th>latitude</th>\n      <th>longitude</th>\n    </tr>\n  </thead>\n  <tbody>\n    <tr>\n      <th>58035</th>\n      <td>6019</td>\n      <td>56.9300</td>\n      <td>8.6412</td>\n    </tr>\n    <tr>\n      <th>298713</th>\n      <td>6019</td>\n      <td>56.9300</td>\n      <td>8.6412</td>\n    </tr>\n    <tr>\n      <th>376426</th>\n      <td>6019</td>\n      <td>56.9300</td>\n      <td>8.6412</td>\n    </tr>\n    <tr>\n      <th>39555</th>\n      <td>6019</td>\n      <td>56.9300</td>\n      <td>8.6412</td>\n    </tr>\n    <tr>\n      <th>190805</th>\n      <td>6019</td>\n      <td>56.9300</td>\n      <td>8.6412</td>\n    </tr>\n    <tr>\n      <th>...</th>\n      <td>...</td>\n      <td>...</td>\n      <td>...</td>\n    </tr>\n    <tr>\n      <th>69474</th>\n      <td>6197</td>\n      <td>55.0557</td>\n      <td>15.0953</td>\n    </tr>\n    <tr>\n      <th>270992</th>\n      <td>6197</td>\n      <td>55.0557</td>\n      <td>15.0953</td>\n    </tr>\n    <tr>\n      <th>271047</th>\n      <td>6197</td>\n      <td>55.0557</td>\n      <td>15.0953</td>\n    </tr>\n    <tr>\n      <th>69419</th>\n      <td>6197</td>\n      <td>55.0557</td>\n      <td>15.0953</td>\n    </tr>\n    <tr>\n      <th>542963</th>\n      <td>6197</td>\n      <td>55.0557</td>\n      <td>15.0953</td>\n    </tr>\n  </tbody>\n</table>\n<p>542964 rows × 3 columns</p>\n</div>"
     },
     "execution_count": 31,
     "metadata": {},
     "output_type": "execute_result"
    }
   ],
   "source": [
    "station_coords.sort_values(by=\"stationId\")"
   ],
   "metadata": {
    "collapsed": false,
    "pycharm": {
     "name": "#%%\n"
    }
   }
  },
  {
   "cell_type": "code",
   "execution_count": 33,
   "outputs": [
    {
     "data": {
      "text/plain": "array([6031, 6065, 6068, 6102, 6104, 6108, 6116, 6118, 6119, 6123, 6019,\n       6032, 6041, 6049, 6051, 6052, 6056, 6058, 6070, 6072, 6073, 6074,\n       6079, 6080, 6081, 6082, 6088, 6093, 6096, 6120, 6124, 6126, 6132,\n       6135, 6136, 6138, 6141, 6147, 6149, 6151, 6154, 6156, 6159, 6168,\n       6169, 6170, 6174, 6180, 6181, 6186, 6187, 6188, 6190, 6193, 6197])"
     },
     "execution_count": 33,
     "metadata": {},
     "output_type": "execute_result"
    }
   ],
   "source": [
    "station_coords[\"stationId\"].unique()"
   ],
   "metadata": {
    "collapsed": false,
    "pycharm": {
     "name": "#%%\n"
    }
   }
  },
  {
   "cell_type": "code",
   "execution_count": 34,
   "outputs": [
    {
     "data": {
      "text/plain": "array([57.1852, 56.7558, 56.0939, 55.868 , 55.7379, 55.4376, 54.8986,\n       54.9616, 54.8528, 55.2444, 56.93  , 57.3828, 57.7364, 56.5604,\n       56.7637, 56.7068, 56.383 , 56.0072, 56.3083, 56.3027, 56.0955,\n       56.0803, 56.7169, 55.5281, 55.5575, 55.9591, 55.4484, 55.2908,\n       55.1904, 55.4748, 55.0144, 55.3088, 55.8315, 55.3224, 55.2465,\n       54.8205, 54.8275, 54.879 , 54.5687, 55.1593, 55.2075, 55.7358,\n       55.7435, 56.1193, 56.0083, 55.5867, 55.3955, 55.614 , 55.7664,\n       55.6861, 55.6886, 55.8764, 55.0677, 55.2979, 55.0557])"
     },
     "execution_count": 34,
     "metadata": {},
     "output_type": "execute_result"
    }
   ],
   "source": [
    "station_coords[\"latitude\"].unique()"
   ],
   "metadata": {
    "collapsed": false,
    "pycharm": {
     "name": "#%%\n"
    }
   }
  },
  {
   "cell_type": "code",
   "execution_count": 35,
   "outputs": [],
   "source": [
    "stationID = station_coords[\"stationId\"].unique()\n",
    "station_latitude = station_coords[\"latitude\"].unique()\n",
    "station_longitude = station_coords[\"longitude\"].unique()"
   ],
   "metadata": {
    "collapsed": false,
    "pycharm": {
     "name": "#%%\n"
    }
   }
  },
  {
   "cell_type": "code",
   "execution_count": 41,
   "outputs": [],
   "source": [
    "df[\"latitude\"] = df[\"stationId\"]\n",
    "df[\"longitude\"] = df[\"stationId\"]"
   ],
   "metadata": {
    "collapsed": false,
    "pycharm": {
     "name": "#%%\n"
    }
   }
  },
  {
   "cell_type": "code",
   "execution_count": 42,
   "outputs": [],
   "source": [
    "for i in range(len(stationID)):\n",
    "    df.loc[df[\"latitude\"] == stationID[i],\"latitude\"] = station_latitude[i]\n",
    "    df.loc[df[\"longitude\"] == stationID[i],\"longitude\"] = station_longitude[i]"
   ],
   "metadata": {
    "collapsed": false,
    "pycharm": {
     "name": "#%%\n"
    }
   }
  },
  {
   "cell_type": "code",
   "execution_count": 18,
   "outputs": [],
   "source": [
    "df.dropna(thresh=3,inplace=True)"
   ],
   "metadata": {
    "collapsed": false,
    "pycharm": {
     "name": "#%%\n"
    }
   }
  },
  {
   "cell_type": "code",
   "execution_count": 43,
   "outputs": [
    {
     "data": {
      "text/plain": "                                to  stationId  max_temp_w_date  \\\n0        2011-01-01T00:00:00+00:00       6019              4.5   \n1        2011-01-01T00:00:00+00:00       6031              4.2   \n2        2011-01-01T00:00:00+00:00       6032              4.0   \n3        2011-01-01T00:00:00+00:00       6041              4.8   \n4        2011-01-01T00:00:00+00:00       6049              4.0   \n...                            ...        ...              ...   \n5447324  2022-05-12T17:00:00+00:00       6187              NaN   \n5447325  2022-05-12T17:00:00+00:00       6188             14.5   \n5447326  2022-05-12T17:00:00+00:00       6190             12.4   \n5447327  2022-05-12T17:00:00+00:00       6193             12.3   \n5447328  2022-05-12T17:00:00+00:00       6197             13.4   \n\n         max_wind_speed_10min  max_wind_speed_3sec  mean_pressure  \\\n0                        14.4                 20.3            NaN   \n1                        14.0                 20.9            NaN   \n2                        14.1                 19.2          997.3   \n3                        12.7                 17.7          995.3   \n4                        18.7                 27.4         1001.3   \n...                       ...                  ...            ...   \n5447324                   NaN                  NaN            NaN   \n5447325                   9.2                 14.1         1012.2   \n5447326                   7.2                  9.3         1013.7   \n5447327                  10.2                 11.9         1013.0   \n5447328                   7.3                 11.6         1013.6   \n\n         mean_relative_hum  mean_temp  mean_wind_dir  mean_wind_speed  \\\n0                     76.2        4.1          290.0             14.1   \n1                     74.5        3.8          281.0             12.7   \n2                     75.5        3.7          282.0             13.0   \n3                     68.5        4.6          287.0             12.1   \n4                     89.2        3.6          287.0             15.1   \n...                    ...        ...            ...              ...   \n5447324                NaN        NaN            NaN              NaN   \n5447325               56.5       13.8          263.0              7.9   \n5447326               80.8       12.1          252.0              6.4   \n5447327               79.2       11.6          237.0              9.0   \n5447328               71.0       13.0          255.0              6.3   \n\n         min_temp  vapour_pressure_deficit_mean  latitude  longitude  \n0             3.8                           0.2   56.9300     8.6412  \n1             3.4                           0.2   57.1852     9.9527  \n2             3.2                           0.2   57.3828    10.3349  \n3             4.4                           0.3   57.7364    10.6316  \n4             3.0                           0.1   56.5604    10.0929  \n...           ...                           ...       ...        ...  \n5447324       NaN                           NaN   55.6886    12.5985  \n5447325      13.4                           0.7   55.8764    12.4121  \n5447326      11.7                           0.3   55.0677    14.7494  \n5447327      11.1                           0.3   55.2979    14.7718  \n5447328      12.7                           0.4   55.0557    15.0953  \n\n[5447329 rows x 14 columns]",
      "text/html": "<div>\n<style scoped>\n    .dataframe tbody tr th:only-of-type {\n        vertical-align: middle;\n    }\n\n    .dataframe tbody tr th {\n        vertical-align: top;\n    }\n\n    .dataframe thead th {\n        text-align: right;\n    }\n</style>\n<table border=\"1\" class=\"dataframe\">\n  <thead>\n    <tr style=\"text-align: right;\">\n      <th></th>\n      <th>to</th>\n      <th>stationId</th>\n      <th>max_temp_w_date</th>\n      <th>max_wind_speed_10min</th>\n      <th>max_wind_speed_3sec</th>\n      <th>mean_pressure</th>\n      <th>mean_relative_hum</th>\n      <th>mean_temp</th>\n      <th>mean_wind_dir</th>\n      <th>mean_wind_speed</th>\n      <th>min_temp</th>\n      <th>vapour_pressure_deficit_mean</th>\n      <th>latitude</th>\n      <th>longitude</th>\n    </tr>\n  </thead>\n  <tbody>\n    <tr>\n      <th>0</th>\n      <td>2011-01-01T00:00:00+00:00</td>\n      <td>6019</td>\n      <td>4.5</td>\n      <td>14.4</td>\n      <td>20.3</td>\n      <td>NaN</td>\n      <td>76.2</td>\n      <td>4.1</td>\n      <td>290.0</td>\n      <td>14.1</td>\n      <td>3.8</td>\n      <td>0.2</td>\n      <td>56.9300</td>\n      <td>8.6412</td>\n    </tr>\n    <tr>\n      <th>1</th>\n      <td>2011-01-01T00:00:00+00:00</td>\n      <td>6031</td>\n      <td>4.2</td>\n      <td>14.0</td>\n      <td>20.9</td>\n      <td>NaN</td>\n      <td>74.5</td>\n      <td>3.8</td>\n      <td>281.0</td>\n      <td>12.7</td>\n      <td>3.4</td>\n      <td>0.2</td>\n      <td>57.1852</td>\n      <td>9.9527</td>\n    </tr>\n    <tr>\n      <th>2</th>\n      <td>2011-01-01T00:00:00+00:00</td>\n      <td>6032</td>\n      <td>4.0</td>\n      <td>14.1</td>\n      <td>19.2</td>\n      <td>997.3</td>\n      <td>75.5</td>\n      <td>3.7</td>\n      <td>282.0</td>\n      <td>13.0</td>\n      <td>3.2</td>\n      <td>0.2</td>\n      <td>57.3828</td>\n      <td>10.3349</td>\n    </tr>\n    <tr>\n      <th>3</th>\n      <td>2011-01-01T00:00:00+00:00</td>\n      <td>6041</td>\n      <td>4.8</td>\n      <td>12.7</td>\n      <td>17.7</td>\n      <td>995.3</td>\n      <td>68.5</td>\n      <td>4.6</td>\n      <td>287.0</td>\n      <td>12.1</td>\n      <td>4.4</td>\n      <td>0.3</td>\n      <td>57.7364</td>\n      <td>10.6316</td>\n    </tr>\n    <tr>\n      <th>4</th>\n      <td>2011-01-01T00:00:00+00:00</td>\n      <td>6049</td>\n      <td>4.0</td>\n      <td>18.7</td>\n      <td>27.4</td>\n      <td>1001.3</td>\n      <td>89.2</td>\n      <td>3.6</td>\n      <td>287.0</td>\n      <td>15.1</td>\n      <td>3.0</td>\n      <td>0.1</td>\n      <td>56.5604</td>\n      <td>10.0929</td>\n    </tr>\n    <tr>\n      <th>...</th>\n      <td>...</td>\n      <td>...</td>\n      <td>...</td>\n      <td>...</td>\n      <td>...</td>\n      <td>...</td>\n      <td>...</td>\n      <td>...</td>\n      <td>...</td>\n      <td>...</td>\n      <td>...</td>\n      <td>...</td>\n      <td>...</td>\n      <td>...</td>\n    </tr>\n    <tr>\n      <th>5447324</th>\n      <td>2022-05-12T17:00:00+00:00</td>\n      <td>6187</td>\n      <td>NaN</td>\n      <td>NaN</td>\n      <td>NaN</td>\n      <td>NaN</td>\n      <td>NaN</td>\n      <td>NaN</td>\n      <td>NaN</td>\n      <td>NaN</td>\n      <td>NaN</td>\n      <td>NaN</td>\n      <td>55.6886</td>\n      <td>12.5985</td>\n    </tr>\n    <tr>\n      <th>5447325</th>\n      <td>2022-05-12T17:00:00+00:00</td>\n      <td>6188</td>\n      <td>14.5</td>\n      <td>9.2</td>\n      <td>14.1</td>\n      <td>1012.2</td>\n      <td>56.5</td>\n      <td>13.8</td>\n      <td>263.0</td>\n      <td>7.9</td>\n      <td>13.4</td>\n      <td>0.7</td>\n      <td>55.8764</td>\n      <td>12.4121</td>\n    </tr>\n    <tr>\n      <th>5447326</th>\n      <td>2022-05-12T17:00:00+00:00</td>\n      <td>6190</td>\n      <td>12.4</td>\n      <td>7.2</td>\n      <td>9.3</td>\n      <td>1013.7</td>\n      <td>80.8</td>\n      <td>12.1</td>\n      <td>252.0</td>\n      <td>6.4</td>\n      <td>11.7</td>\n      <td>0.3</td>\n      <td>55.0677</td>\n      <td>14.7494</td>\n    </tr>\n    <tr>\n      <th>5447327</th>\n      <td>2022-05-12T17:00:00+00:00</td>\n      <td>6193</td>\n      <td>12.3</td>\n      <td>10.2</td>\n      <td>11.9</td>\n      <td>1013.0</td>\n      <td>79.2</td>\n      <td>11.6</td>\n      <td>237.0</td>\n      <td>9.0</td>\n      <td>11.1</td>\n      <td>0.3</td>\n      <td>55.2979</td>\n      <td>14.7718</td>\n    </tr>\n    <tr>\n      <th>5447328</th>\n      <td>2022-05-12T17:00:00+00:00</td>\n      <td>6197</td>\n      <td>13.4</td>\n      <td>7.3</td>\n      <td>11.6</td>\n      <td>1013.6</td>\n      <td>71.0</td>\n      <td>13.0</td>\n      <td>255.0</td>\n      <td>6.3</td>\n      <td>12.7</td>\n      <td>0.4</td>\n      <td>55.0557</td>\n      <td>15.0953</td>\n    </tr>\n  </tbody>\n</table>\n<p>5447329 rows × 14 columns</p>\n</div>"
     },
     "execution_count": 43,
     "metadata": {},
     "output_type": "execute_result"
    }
   ],
   "source": [
    "df"
   ],
   "metadata": {
    "collapsed": false,
    "pycharm": {
     "name": "#%%\n"
    }
   }
  },
  {
   "cell_type": "code",
   "execution_count": 44,
   "outputs": [
    {
     "name": "stdout",
     "output_type": "stream",
     "text": [
      "['to', 'stationId', 'max_temp_w_date', 'max_wind_speed_10min', 'max_wind_speed_3sec', 'mean_pressure', 'mean_relative_hum', 'mean_temp', 'mean_wind_dir', 'mean_wind_speed', 'min_temp', 'vapour_pressure_deficit_mean', 'latitude', 'longitude']\n"
     ]
    }
   ],
   "source": [
    "cols = df.columns.tolist()\n",
    "print(cols)"
   ],
   "metadata": {
    "collapsed": false,
    "pycharm": {
     "name": "#%%\n"
    }
   }
  },
  {
   "cell_type": "code",
   "execution_count": 45,
   "outputs": [],
   "source": [
    "new_cols = ['to', 'stationId', 'latitude', 'longitude', 'max_temp_w_date', 'max_wind_speed_10min', 'max_wind_speed_3sec', 'mean_pressure', 'mean_relative_hum', 'mean_temp', 'mean_wind_dir', 'mean_wind_speed', 'min_temp', 'vapour_pressure_deficit_mean']"
   ],
   "metadata": {
    "collapsed": false,
    "pycharm": {
     "name": "#%%\n"
    }
   }
  },
  {
   "cell_type": "code",
   "execution_count": 46,
   "outputs": [],
   "source": [
    "df = df[new_cols]"
   ],
   "metadata": {
    "collapsed": false,
    "pycharm": {
     "name": "#%%\n"
    }
   }
  },
  {
   "cell_type": "code",
   "execution_count": 47,
   "outputs": [
    {
     "data": {
      "text/plain": "                                to  stationId  latitude  longitude  \\\n0        2011-01-01T00:00:00+00:00       6019   56.9300     8.6412   \n1        2011-01-01T00:00:00+00:00       6031   57.1852     9.9527   \n2        2011-01-01T00:00:00+00:00       6032   57.3828    10.3349   \n3        2011-01-01T00:00:00+00:00       6041   57.7364    10.6316   \n4        2011-01-01T00:00:00+00:00       6049   56.5604    10.0929   \n...                            ...        ...       ...        ...   \n5447324  2022-05-12T17:00:00+00:00       6187   55.6886    12.5985   \n5447325  2022-05-12T17:00:00+00:00       6188   55.8764    12.4121   \n5447326  2022-05-12T17:00:00+00:00       6190   55.0677    14.7494   \n5447327  2022-05-12T17:00:00+00:00       6193   55.2979    14.7718   \n5447328  2022-05-12T17:00:00+00:00       6197   55.0557    15.0953   \n\n         max_temp_w_date  max_wind_speed_10min  max_wind_speed_3sec  \\\n0                    4.5                  14.4                 20.3   \n1                    4.2                  14.0                 20.9   \n2                    4.0                  14.1                 19.2   \n3                    4.8                  12.7                 17.7   \n4                    4.0                  18.7                 27.4   \n...                  ...                   ...                  ...   \n5447324              NaN                   NaN                  NaN   \n5447325             14.5                   9.2                 14.1   \n5447326             12.4                   7.2                  9.3   \n5447327             12.3                  10.2                 11.9   \n5447328             13.4                   7.3                 11.6   \n\n         mean_pressure  mean_relative_hum  mean_temp  mean_wind_dir  \\\n0                  NaN               76.2        4.1          290.0   \n1                  NaN               74.5        3.8          281.0   \n2                997.3               75.5        3.7          282.0   \n3                995.3               68.5        4.6          287.0   \n4               1001.3               89.2        3.6          287.0   \n...                ...                ...        ...            ...   \n5447324            NaN                NaN        NaN            NaN   \n5447325         1012.2               56.5       13.8          263.0   \n5447326         1013.7               80.8       12.1          252.0   \n5447327         1013.0               79.2       11.6          237.0   \n5447328         1013.6               71.0       13.0          255.0   \n\n         mean_wind_speed  min_temp  vapour_pressure_deficit_mean  \n0                   14.1       3.8                           0.2  \n1                   12.7       3.4                           0.2  \n2                   13.0       3.2                           0.2  \n3                   12.1       4.4                           0.3  \n4                   15.1       3.0                           0.1  \n...                  ...       ...                           ...  \n5447324              NaN       NaN                           NaN  \n5447325              7.9      13.4                           0.7  \n5447326              6.4      11.7                           0.3  \n5447327              9.0      11.1                           0.3  \n5447328              6.3      12.7                           0.4  \n\n[5447329 rows x 14 columns]",
      "text/html": "<div>\n<style scoped>\n    .dataframe tbody tr th:only-of-type {\n        vertical-align: middle;\n    }\n\n    .dataframe tbody tr th {\n        vertical-align: top;\n    }\n\n    .dataframe thead th {\n        text-align: right;\n    }\n</style>\n<table border=\"1\" class=\"dataframe\">\n  <thead>\n    <tr style=\"text-align: right;\">\n      <th></th>\n      <th>to</th>\n      <th>stationId</th>\n      <th>latitude</th>\n      <th>longitude</th>\n      <th>max_temp_w_date</th>\n      <th>max_wind_speed_10min</th>\n      <th>max_wind_speed_3sec</th>\n      <th>mean_pressure</th>\n      <th>mean_relative_hum</th>\n      <th>mean_temp</th>\n      <th>mean_wind_dir</th>\n      <th>mean_wind_speed</th>\n      <th>min_temp</th>\n      <th>vapour_pressure_deficit_mean</th>\n    </tr>\n  </thead>\n  <tbody>\n    <tr>\n      <th>0</th>\n      <td>2011-01-01T00:00:00+00:00</td>\n      <td>6019</td>\n      <td>56.9300</td>\n      <td>8.6412</td>\n      <td>4.5</td>\n      <td>14.4</td>\n      <td>20.3</td>\n      <td>NaN</td>\n      <td>76.2</td>\n      <td>4.1</td>\n      <td>290.0</td>\n      <td>14.1</td>\n      <td>3.8</td>\n      <td>0.2</td>\n    </tr>\n    <tr>\n      <th>1</th>\n      <td>2011-01-01T00:00:00+00:00</td>\n      <td>6031</td>\n      <td>57.1852</td>\n      <td>9.9527</td>\n      <td>4.2</td>\n      <td>14.0</td>\n      <td>20.9</td>\n      <td>NaN</td>\n      <td>74.5</td>\n      <td>3.8</td>\n      <td>281.0</td>\n      <td>12.7</td>\n      <td>3.4</td>\n      <td>0.2</td>\n    </tr>\n    <tr>\n      <th>2</th>\n      <td>2011-01-01T00:00:00+00:00</td>\n      <td>6032</td>\n      <td>57.3828</td>\n      <td>10.3349</td>\n      <td>4.0</td>\n      <td>14.1</td>\n      <td>19.2</td>\n      <td>997.3</td>\n      <td>75.5</td>\n      <td>3.7</td>\n      <td>282.0</td>\n      <td>13.0</td>\n      <td>3.2</td>\n      <td>0.2</td>\n    </tr>\n    <tr>\n      <th>3</th>\n      <td>2011-01-01T00:00:00+00:00</td>\n      <td>6041</td>\n      <td>57.7364</td>\n      <td>10.6316</td>\n      <td>4.8</td>\n      <td>12.7</td>\n      <td>17.7</td>\n      <td>995.3</td>\n      <td>68.5</td>\n      <td>4.6</td>\n      <td>287.0</td>\n      <td>12.1</td>\n      <td>4.4</td>\n      <td>0.3</td>\n    </tr>\n    <tr>\n      <th>4</th>\n      <td>2011-01-01T00:00:00+00:00</td>\n      <td>6049</td>\n      <td>56.5604</td>\n      <td>10.0929</td>\n      <td>4.0</td>\n      <td>18.7</td>\n      <td>27.4</td>\n      <td>1001.3</td>\n      <td>89.2</td>\n      <td>3.6</td>\n      <td>287.0</td>\n      <td>15.1</td>\n      <td>3.0</td>\n      <td>0.1</td>\n    </tr>\n    <tr>\n      <th>...</th>\n      <td>...</td>\n      <td>...</td>\n      <td>...</td>\n      <td>...</td>\n      <td>...</td>\n      <td>...</td>\n      <td>...</td>\n      <td>...</td>\n      <td>...</td>\n      <td>...</td>\n      <td>...</td>\n      <td>...</td>\n      <td>...</td>\n      <td>...</td>\n    </tr>\n    <tr>\n      <th>5447324</th>\n      <td>2022-05-12T17:00:00+00:00</td>\n      <td>6187</td>\n      <td>55.6886</td>\n      <td>12.5985</td>\n      <td>NaN</td>\n      <td>NaN</td>\n      <td>NaN</td>\n      <td>NaN</td>\n      <td>NaN</td>\n      <td>NaN</td>\n      <td>NaN</td>\n      <td>NaN</td>\n      <td>NaN</td>\n      <td>NaN</td>\n    </tr>\n    <tr>\n      <th>5447325</th>\n      <td>2022-05-12T17:00:00+00:00</td>\n      <td>6188</td>\n      <td>55.8764</td>\n      <td>12.4121</td>\n      <td>14.5</td>\n      <td>9.2</td>\n      <td>14.1</td>\n      <td>1012.2</td>\n      <td>56.5</td>\n      <td>13.8</td>\n      <td>263.0</td>\n      <td>7.9</td>\n      <td>13.4</td>\n      <td>0.7</td>\n    </tr>\n    <tr>\n      <th>5447326</th>\n      <td>2022-05-12T17:00:00+00:00</td>\n      <td>6190</td>\n      <td>55.0677</td>\n      <td>14.7494</td>\n      <td>12.4</td>\n      <td>7.2</td>\n      <td>9.3</td>\n      <td>1013.7</td>\n      <td>80.8</td>\n      <td>12.1</td>\n      <td>252.0</td>\n      <td>6.4</td>\n      <td>11.7</td>\n      <td>0.3</td>\n    </tr>\n    <tr>\n      <th>5447327</th>\n      <td>2022-05-12T17:00:00+00:00</td>\n      <td>6193</td>\n      <td>55.2979</td>\n      <td>14.7718</td>\n      <td>12.3</td>\n      <td>10.2</td>\n      <td>11.9</td>\n      <td>1013.0</td>\n      <td>79.2</td>\n      <td>11.6</td>\n      <td>237.0</td>\n      <td>9.0</td>\n      <td>11.1</td>\n      <td>0.3</td>\n    </tr>\n    <tr>\n      <th>5447328</th>\n      <td>2022-05-12T17:00:00+00:00</td>\n      <td>6197</td>\n      <td>55.0557</td>\n      <td>15.0953</td>\n      <td>13.4</td>\n      <td>7.3</td>\n      <td>11.6</td>\n      <td>1013.6</td>\n      <td>71.0</td>\n      <td>13.0</td>\n      <td>255.0</td>\n      <td>6.3</td>\n      <td>12.7</td>\n      <td>0.4</td>\n    </tr>\n  </tbody>\n</table>\n<p>5447329 rows × 14 columns</p>\n</div>"
     },
     "execution_count": 47,
     "metadata": {},
     "output_type": "execute_result"
    }
   ],
   "source": [
    "df"
   ],
   "metadata": {
    "collapsed": false,
    "pycharm": {
     "name": "#%%\n"
    }
   }
  },
  {
   "cell_type": "code",
   "execution_count": 48,
   "outputs": [
    {
     "data": {
      "text/plain": "to                                   0\nstationId                            0\nlatitude                             0\nlongitude                            0\nmax_temp_w_date                 179274\nmax_wind_speed_10min            497921\nmax_wind_speed_3sec             501133\nmean_pressure                   875249\nmean_relative_hum               101161\nmean_temp                       179348\nmean_wind_dir                   498185\nmean_wind_speed                 497921\nmin_temp                        179350\nvapour_pressure_deficit_mean    179860\ndtype: int64"
     },
     "execution_count": 48,
     "metadata": {},
     "output_type": "execute_result"
    }
   ],
   "source": [
    "df.isna().sum()"
   ],
   "metadata": {
    "collapsed": false,
    "pycharm": {
     "name": "#%%\n"
    }
   }
  },
  {
   "cell_type": "code",
   "execution_count": 49,
   "outputs": [],
   "source": [
    "df.to_csv(\"synop_hourly_w_coord.csv\")"
   ],
   "metadata": {
    "collapsed": false,
    "pycharm": {
     "name": "#%%\n"
    }
   }
  },
  {
   "cell_type": "code",
   "execution_count": 50,
   "outputs": [],
   "source": [
    "df_test = df.dropna(how=\"any\")"
   ],
   "metadata": {
    "collapsed": false,
    "pycharm": {
     "name": "#%%\n"
    }
   }
  },
  {
   "cell_type": "code",
   "execution_count": 51,
   "outputs": [
    {
     "data": {
      "text/plain": "to                              0\nstationId                       0\nlatitude                        0\nlongitude                       0\nmax_temp_w_date                 0\nmax_wind_speed_10min            0\nmax_wind_speed_3sec             0\nmean_pressure                   0\nmean_relative_hum               0\nmean_temp                       0\nmean_wind_dir                   0\nmean_wind_speed                 0\nmin_temp                        0\nvapour_pressure_deficit_mean    0\ndtype: int64"
     },
     "execution_count": 51,
     "metadata": {},
     "output_type": "execute_result"
    }
   ],
   "source": [
    "df_test.isna().sum()"
   ],
   "metadata": {
    "collapsed": false,
    "pycharm": {
     "name": "#%%\n"
    }
   }
  },
  {
   "cell_type": "code",
   "execution_count": 52,
   "outputs": [
    {
     "data": {
      "text/plain": "                                to  stationId  latitude  longitude  \\\n2        2011-01-01T00:00:00+00:00       6032   57.3828    10.3349   \n3        2011-01-01T00:00:00+00:00       6041   57.7364    10.6316   \n4        2011-01-01T00:00:00+00:00       6049   56.5604    10.0929   \n6        2011-01-01T00:00:00+00:00       6052   56.7068     8.2150   \n7        2011-01-01T00:00:00+00:00       6056   56.3830     8.6705   \n...                            ...        ...       ...        ...   \n5447322  2022-05-12T17:00:00+00:00       6181   55.7664    12.5263   \n5447325  2022-05-12T17:00:00+00:00       6188   55.8764    12.4121   \n5447326  2022-05-12T17:00:00+00:00       6190   55.0677    14.7494   \n5447327  2022-05-12T17:00:00+00:00       6193   55.2979    14.7718   \n5447328  2022-05-12T17:00:00+00:00       6197   55.0557    15.0953   \n\n         max_temp_w_date  max_wind_speed_10min  max_wind_speed_3sec  \\\n2                    4.0                  14.1                 19.2   \n3                    4.8                  12.7                 17.7   \n4                    4.0                  18.7                 27.4   \n6                    4.7                  15.1                 20.7   \n7                    5.1                  12.8                 24.9   \n...                  ...                   ...                  ...   \n5447322             14.9                   6.3                 12.3   \n5447325             14.5                   9.2                 14.1   \n5447326             12.4                   7.2                  9.3   \n5447327             12.3                  10.2                 11.9   \n5447328             13.4                   7.3                 11.6   \n\n         mean_pressure  mean_relative_hum  mean_temp  mean_wind_dir  \\\n2                997.3               75.5        3.7          282.0   \n3                995.3               68.5        4.6          287.0   \n4               1001.3               89.2        3.6          287.0   \n6               1005.9               87.3        4.2          302.0   \n7               1005.6               93.8        4.8          284.0   \n...                ...                ...        ...            ...   \n5447322         1012.4               54.2       14.5          274.0   \n5447325         1012.2               56.5       13.8          263.0   \n5447326         1013.7               80.8       12.1          252.0   \n5447327         1013.0               79.2       11.6          237.0   \n5447328         1013.6               71.0       13.0          255.0   \n\n         mean_wind_speed  min_temp  vapour_pressure_deficit_mean  \n2                   13.0       3.2                           0.2  \n3                   12.1       4.4                           0.3  \n4                   15.1       3.0                           0.1  \n6                   13.6       4.1                           0.1  \n7                   11.8       4.7                           0.1  \n...                  ...       ...                           ...  \n5447322              5.4      14.2                           0.8  \n5447325              7.9      13.4                           0.7  \n5447326              6.4      11.7                           0.3  \n5447327              9.0      11.1                           0.3  \n5447328              6.3      12.7                           0.4  \n\n[4568101 rows x 14 columns]",
      "text/html": "<div>\n<style scoped>\n    .dataframe tbody tr th:only-of-type {\n        vertical-align: middle;\n    }\n\n    .dataframe tbody tr th {\n        vertical-align: top;\n    }\n\n    .dataframe thead th {\n        text-align: right;\n    }\n</style>\n<table border=\"1\" class=\"dataframe\">\n  <thead>\n    <tr style=\"text-align: right;\">\n      <th></th>\n      <th>to</th>\n      <th>stationId</th>\n      <th>latitude</th>\n      <th>longitude</th>\n      <th>max_temp_w_date</th>\n      <th>max_wind_speed_10min</th>\n      <th>max_wind_speed_3sec</th>\n      <th>mean_pressure</th>\n      <th>mean_relative_hum</th>\n      <th>mean_temp</th>\n      <th>mean_wind_dir</th>\n      <th>mean_wind_speed</th>\n      <th>min_temp</th>\n      <th>vapour_pressure_deficit_mean</th>\n    </tr>\n  </thead>\n  <tbody>\n    <tr>\n      <th>2</th>\n      <td>2011-01-01T00:00:00+00:00</td>\n      <td>6032</td>\n      <td>57.3828</td>\n      <td>10.3349</td>\n      <td>4.0</td>\n      <td>14.1</td>\n      <td>19.2</td>\n      <td>997.3</td>\n      <td>75.5</td>\n      <td>3.7</td>\n      <td>282.0</td>\n      <td>13.0</td>\n      <td>3.2</td>\n      <td>0.2</td>\n    </tr>\n    <tr>\n      <th>3</th>\n      <td>2011-01-01T00:00:00+00:00</td>\n      <td>6041</td>\n      <td>57.7364</td>\n      <td>10.6316</td>\n      <td>4.8</td>\n      <td>12.7</td>\n      <td>17.7</td>\n      <td>995.3</td>\n      <td>68.5</td>\n      <td>4.6</td>\n      <td>287.0</td>\n      <td>12.1</td>\n      <td>4.4</td>\n      <td>0.3</td>\n    </tr>\n    <tr>\n      <th>4</th>\n      <td>2011-01-01T00:00:00+00:00</td>\n      <td>6049</td>\n      <td>56.5604</td>\n      <td>10.0929</td>\n      <td>4.0</td>\n      <td>18.7</td>\n      <td>27.4</td>\n      <td>1001.3</td>\n      <td>89.2</td>\n      <td>3.6</td>\n      <td>287.0</td>\n      <td>15.1</td>\n      <td>3.0</td>\n      <td>0.1</td>\n    </tr>\n    <tr>\n      <th>6</th>\n      <td>2011-01-01T00:00:00+00:00</td>\n      <td>6052</td>\n      <td>56.7068</td>\n      <td>8.2150</td>\n      <td>4.7</td>\n      <td>15.1</td>\n      <td>20.7</td>\n      <td>1005.9</td>\n      <td>87.3</td>\n      <td>4.2</td>\n      <td>302.0</td>\n      <td>13.6</td>\n      <td>4.1</td>\n      <td>0.1</td>\n    </tr>\n    <tr>\n      <th>7</th>\n      <td>2011-01-01T00:00:00+00:00</td>\n      <td>6056</td>\n      <td>56.3830</td>\n      <td>8.6705</td>\n      <td>5.1</td>\n      <td>12.8</td>\n      <td>24.9</td>\n      <td>1005.6</td>\n      <td>93.8</td>\n      <td>4.8</td>\n      <td>284.0</td>\n      <td>11.8</td>\n      <td>4.7</td>\n      <td>0.1</td>\n    </tr>\n    <tr>\n      <th>...</th>\n      <td>...</td>\n      <td>...</td>\n      <td>...</td>\n      <td>...</td>\n      <td>...</td>\n      <td>...</td>\n      <td>...</td>\n      <td>...</td>\n      <td>...</td>\n      <td>...</td>\n      <td>...</td>\n      <td>...</td>\n      <td>...</td>\n      <td>...</td>\n    </tr>\n    <tr>\n      <th>5447322</th>\n      <td>2022-05-12T17:00:00+00:00</td>\n      <td>6181</td>\n      <td>55.7664</td>\n      <td>12.5263</td>\n      <td>14.9</td>\n      <td>6.3</td>\n      <td>12.3</td>\n      <td>1012.4</td>\n      <td>54.2</td>\n      <td>14.5</td>\n      <td>274.0</td>\n      <td>5.4</td>\n      <td>14.2</td>\n      <td>0.8</td>\n    </tr>\n    <tr>\n      <th>5447325</th>\n      <td>2022-05-12T17:00:00+00:00</td>\n      <td>6188</td>\n      <td>55.8764</td>\n      <td>12.4121</td>\n      <td>14.5</td>\n      <td>9.2</td>\n      <td>14.1</td>\n      <td>1012.2</td>\n      <td>56.5</td>\n      <td>13.8</td>\n      <td>263.0</td>\n      <td>7.9</td>\n      <td>13.4</td>\n      <td>0.7</td>\n    </tr>\n    <tr>\n      <th>5447326</th>\n      <td>2022-05-12T17:00:00+00:00</td>\n      <td>6190</td>\n      <td>55.0677</td>\n      <td>14.7494</td>\n      <td>12.4</td>\n      <td>7.2</td>\n      <td>9.3</td>\n      <td>1013.7</td>\n      <td>80.8</td>\n      <td>12.1</td>\n      <td>252.0</td>\n      <td>6.4</td>\n      <td>11.7</td>\n      <td>0.3</td>\n    </tr>\n    <tr>\n      <th>5447327</th>\n      <td>2022-05-12T17:00:00+00:00</td>\n      <td>6193</td>\n      <td>55.2979</td>\n      <td>14.7718</td>\n      <td>12.3</td>\n      <td>10.2</td>\n      <td>11.9</td>\n      <td>1013.0</td>\n      <td>79.2</td>\n      <td>11.6</td>\n      <td>237.0</td>\n      <td>9.0</td>\n      <td>11.1</td>\n      <td>0.3</td>\n    </tr>\n    <tr>\n      <th>5447328</th>\n      <td>2022-05-12T17:00:00+00:00</td>\n      <td>6197</td>\n      <td>55.0557</td>\n      <td>15.0953</td>\n      <td>13.4</td>\n      <td>7.3</td>\n      <td>11.6</td>\n      <td>1013.6</td>\n      <td>71.0</td>\n      <td>13.0</td>\n      <td>255.0</td>\n      <td>6.3</td>\n      <td>12.7</td>\n      <td>0.4</td>\n    </tr>\n  </tbody>\n</table>\n<p>4568101 rows × 14 columns</p>\n</div>"
     },
     "execution_count": 52,
     "metadata": {},
     "output_type": "execute_result"
    }
   ],
   "source": [
    "df_test"
   ],
   "metadata": {
    "collapsed": false,
    "pycharm": {
     "name": "#%%\n"
    }
   }
  },
  {
   "cell_type": "code",
   "execution_count": 53,
   "outputs": [],
   "source": [
    "df_test.to_csv(\"synop_all_nan_removed.csv\")"
   ],
   "metadata": {
    "collapsed": false,
    "pycharm": {
     "name": "#%%\n"
    }
   }
  },
  {
   "cell_type": "code",
   "execution_count": 8,
   "outputs": [
    {
     "data": {
      "text/plain": "[<matplotlib.lines.Line2D at 0x7f8f41ae5280>]"
     },
     "execution_count": 8,
     "metadata": {},
     "output_type": "execute_result"
    },
    {
     "data": {
      "text/plain": "<Figure size 640x480 with 1 Axes>",
      "image/png": "[encoded data removed]"
     },
     "metadata": {},
     "output_type": "display_data"
    }
   ],
   "source": [
    "plt.plot(df[\"mean_temp\"])"
   ],
   "metadata": {
    "collapsed": false,
    "pycharm": {
     "name": "#%%\n"
    }
   }
  },
  {
   "cell_type": "code",
   "execution_count": null,
   "outputs": [],
   "source": [],
   "metadata": {
    "collapsed": false,
    "pycharm": {
     "name": "#%%\n"
    }
   }
  }
 ],
 "metadata": {
  "kernelspec": {
   "display_name": "Python 3",
   "language": "python",
   "name": "python3"
  },
  "language_info": {
   "codemirror_mode": {
    "name": "ipython",
    "version": 2
   },
   "file_extension": ".py",
   "mimetype": "text/x-python",
   "name": "python",
   "nbconvert_exporter": "python",
   "pygments_lexer": "ipython2",
   "version": "2.7.6"
  }
 },
 "nbformat": 4,
 "nbformat_minor": 0
}